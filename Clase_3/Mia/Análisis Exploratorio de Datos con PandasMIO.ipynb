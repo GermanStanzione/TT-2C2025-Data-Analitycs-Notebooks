{
  "nbformat": 4,
  "nbformat_minor": 0,
  "metadata": {
    "colab": {
      "provenance": [],
      "include_colab_link": true
    },
    "kernelspec": {
      "name": "python3",
      "display_name": "Python 3"
    },
    "language_info": {
      "name": "python"
    }
  },
  "cells": [
    {
      "cell_type": "markdown",
      "metadata": {
        "id": "view-in-github",
        "colab_type": "text"
      },
      "source": [
        "<a href=\"https://colab.research.google.com/github/GermanStanzione/TT-2C2025-Data-Analitycs-Notebooks/blob/main/Clase_3/Mia/An%C3%A1lisis%20Exploratorio%20de%20Datos%20con%20PandasMIO.ipynb\" target=\"_parent\"><img src=\"https://colab.research.google.com/assets/colab-badge.svg\" alt=\"Open In Colab\"/></a>"
      ]
    },
    {
      "cell_type": "markdown",
      "source": [
        "# Intro a Análisis Exploratorio de Datos con Pandas usando un dataset de Netflix que bajé yo"
      ],
      "metadata": {
        "id": "AtJpnsxspqt4"
      }
    },
    {
      "cell_type": "code",
      "source": [
        "# Montar la unidad de drive\n",
        "from google.colab import drive\n",
        "drive.mount('/content/drive')"
      ],
      "metadata": {
        "id": "VZMAxbiYbntN",
        "colab": {
          "base_uri": "https://localhost:8080/"
        },
        "outputId": "70e3b0b5-640e-4dcf-89bf-41455ed9f831"
      },
      "execution_count": null,
      "outputs": [
        {
          "output_type": "stream",
          "name": "stdout",
          "text": [
            "Mounted at /content/drive\n"
          ]
        }
      ]
    },
    {
      "cell_type": "code",
      "source": [
        "# Verificar que los archivos datasets se encuentren en la carpeta datasets\n",
        "import os\n",
        "os.listdir(\"/content/drive/MyDrive/datasets\")"
      ],
      "metadata": {
        "colab": {
          "base_uri": "https://localhost:8080/"
        },
        "id": "_x_yk-HI0G72",
        "outputId": "22369cd3-b9e6-483c-8642-673175f354ad"
      },
      "execution_count": null,
      "outputs": [
        {
          "output_type": "execute_result",
          "data": {
            "text/plain": [
              "['users.csv',\n",
              " 'hotels.csv',\n",
              " 'reviews.csv',\n",
              " 'Kaggle_users.gsheet',\n",
              " 'netflix_titles.csv',\n",
              " 'youtube_shorts_tiktok_trends_2025.csv',\n",
              " 'satis_clientes.csv',\n",
              " 'booking_db_nulls.sqlite',\n",
              " 'booking_db.sqlite']"
            ]
          },
          "metadata": {},
          "execution_count": 2
        }
      ]
    },
    {
      "cell_type": "code",
      "source": [
        "# Importar la librería Pandas\n",
        "import pandas as pd"
      ],
      "metadata": {
        "id": "M3h_xaZFb6oa"
      },
      "execution_count": null,
      "outputs": []
    },
    {
      "cell_type": "code",
      "source": [
        "# Usar el método read_csv de Pandas (pd) que recibe como argumento el archivo csv y retorna un dataframe\n",
        "df = pd.read_csv('/content/drive/MyDrive/datasets/netflix_titles.csv')"
      ],
      "metadata": {
        "id": "RDrYIaJIb74N"
      },
      "execution_count": null,
      "outputs": []
    },
    {
      "cell_type": "code",
      "source": [
        "df.head()"
      ],
      "metadata": {
        "id": "asg3S2bw4-Kv"
      },
      "execution_count": null,
      "outputs": []
    },
    {
      "cell_type": "code",
      "source": [
        "df.tail()"
      ],
      "metadata": {
        "id": "gJCdwjDmlTWE"
      },
      "execution_count": null,
      "outputs": []
    },
    {
      "cell_type": "code",
      "source": [
        "df.info()"
      ],
      "metadata": {
        "id": "woIL-kTzlYD1",
        "colab": {
          "base_uri": "https://localhost:8080/"
        },
        "outputId": "32cfcc6f-f311-413b-953e-24fa11276a8f"
      },
      "execution_count": null,
      "outputs": [
        {
          "output_type": "stream",
          "name": "stdout",
          "text": [
            "<class 'pandas.core.frame.DataFrame'>\n",
            "RangeIndex: 8807 entries, 0 to 8806\n",
            "Data columns (total 12 columns):\n",
            " #   Column        Non-Null Count  Dtype \n",
            "---  ------        --------------  ----- \n",
            " 0   show_id       8807 non-null   object\n",
            " 1   type          8807 non-null   object\n",
            " 2   title         8807 non-null   object\n",
            " 3   director      6173 non-null   object\n",
            " 4   cast          7982 non-null   object\n",
            " 5   country       7976 non-null   object\n",
            " 6   date_added    8797 non-null   object\n",
            " 7   release_year  8807 non-null   int64 \n",
            " 8   rating        8803 non-null   object\n",
            " 9   duration      8804 non-null   object\n",
            " 10  listed_in     8807 non-null   object\n",
            " 11  description   8807 non-null   object\n",
            "dtypes: int64(1), object(11)\n",
            "memory usage: 825.8+ KB\n"
          ]
        }
      ]
    },
    {
      "cell_type": "code",
      "source": [
        "df.dtypes"
      ],
      "metadata": {
        "id": "y9jCkR2Dlft0"
      },
      "execution_count": null,
      "outputs": []
    },
    {
      "cell_type": "code",
      "source": [
        "df.describe()"
      ],
      "metadata": {
        "id": "wp5EWYHYlVzs"
      },
      "execution_count": null,
      "outputs": []
    },
    {
      "cell_type": "code",
      "source": [
        "df.shape"
      ],
      "metadata": {
        "id": "Gpd90e8vlvfM"
      },
      "execution_count": null,
      "outputs": []
    },
    {
      "cell_type": "code",
      "source": [
        "df.isnull().sum()"
      ],
      "metadata": {
        "id": "X_yVhuXpl2lU",
        "colab": {
          "base_uri": "https://localhost:8080/",
          "height": 460
        },
        "outputId": "f8c0726a-4c82-40d6-93dd-61680adbd953"
      },
      "execution_count": null,
      "outputs": [
        {
          "output_type": "execute_result",
          "data": {
            "text/plain": [
              "show_id            0\n",
              "type               0\n",
              "title              0\n",
              "director        2634\n",
              "cast             825\n",
              "country          831\n",
              "date_added        10\n",
              "release_year       0\n",
              "rating             4\n",
              "duration           3\n",
              "listed_in          0\n",
              "description        0\n",
              "dtype: int64"
            ],
            "text/html": [
              "<div>\n",
              "<style scoped>\n",
              "    .dataframe tbody tr th:only-of-type {\n",
              "        vertical-align: middle;\n",
              "    }\n",
              "\n",
              "    .dataframe tbody tr th {\n",
              "        vertical-align: top;\n",
              "    }\n",
              "\n",
              "    .dataframe thead th {\n",
              "        text-align: right;\n",
              "    }\n",
              "</style>\n",
              "<table border=\"1\" class=\"dataframe\">\n",
              "  <thead>\n",
              "    <tr style=\"text-align: right;\">\n",
              "      <th></th>\n",
              "      <th>0</th>\n",
              "    </tr>\n",
              "  </thead>\n",
              "  <tbody>\n",
              "    <tr>\n",
              "      <th>show_id</th>\n",
              "      <td>0</td>\n",
              "    </tr>\n",
              "    <tr>\n",
              "      <th>type</th>\n",
              "      <td>0</td>\n",
              "    </tr>\n",
              "    <tr>\n",
              "      <th>title</th>\n",
              "      <td>0</td>\n",
              "    </tr>\n",
              "    <tr>\n",
              "      <th>director</th>\n",
              "      <td>2634</td>\n",
              "    </tr>\n",
              "    <tr>\n",
              "      <th>cast</th>\n",
              "      <td>825</td>\n",
              "    </tr>\n",
              "    <tr>\n",
              "      <th>country</th>\n",
              "      <td>831</td>\n",
              "    </tr>\n",
              "    <tr>\n",
              "      <th>date_added</th>\n",
              "      <td>10</td>\n",
              "    </tr>\n",
              "    <tr>\n",
              "      <th>release_year</th>\n",
              "      <td>0</td>\n",
              "    </tr>\n",
              "    <tr>\n",
              "      <th>rating</th>\n",
              "      <td>4</td>\n",
              "    </tr>\n",
              "    <tr>\n",
              "      <th>duration</th>\n",
              "      <td>3</td>\n",
              "    </tr>\n",
              "    <tr>\n",
              "      <th>listed_in</th>\n",
              "      <td>0</td>\n",
              "    </tr>\n",
              "    <tr>\n",
              "      <th>description</th>\n",
              "      <td>0</td>\n",
              "    </tr>\n",
              "  </tbody>\n",
              "</table>\n",
              "</div><br><label><b>dtype:</b> int64</label>"
            ]
          },
          "metadata": {},
          "execution_count": 18
        }
      ]
    },
    {
      "cell_type": "code",
      "source": [
        "df.columns"
      ],
      "metadata": {
        "id": "RGIaairTmINq",
        "colab": {
          "base_uri": "https://localhost:8080/"
        },
        "outputId": "0295931e-b59d-469d-83c0-87ada624cb50"
      },
      "execution_count": null,
      "outputs": [
        {
          "output_type": "execute_result",
          "data": {
            "text/plain": [
              "Index(['show_id', 'type', 'title', 'director', 'cast', 'country', 'date_added',\n",
              "       'release_year', 'rating', 'duration', 'listed_in', 'description'],\n",
              "      dtype='object')"
            ]
          },
          "metadata": {},
          "execution_count": 15
        }
      ]
    },
    {
      "cell_type": "code",
      "source": [
        "df[\"country\"].value_counts() #Puse \"country\" y devuelve la cuenta"
      ],
      "metadata": {
        "id": "PAfDvVtunWgh",
        "colab": {
          "base_uri": "https://localhost:8080/",
          "height": 489
        },
        "outputId": "be1d62b1-1801-4af7-dbc7-9cffa0736d96"
      },
      "execution_count": null,
      "outputs": [
        {
          "output_type": "execute_result",
          "data": {
            "text/plain": [
              "country\n",
              "United States                                                      2818\n",
              "India                                                               972\n",
              "United Kingdom                                                      419\n",
              "Japan                                                               245\n",
              "South Korea                                                         199\n",
              "                                                                   ... \n",
              "Mexico, United States, Spain, Colombia                                1\n",
              "Canada, Norway                                                        1\n",
              "Finland, Germany, Belgium                                             1\n",
              "Argentina, United States, Mexico                                      1\n",
              "United Kingdom, United States, Germany, Denmark, Belgium, Japan       1\n",
              "Name: count, Length: 748, dtype: int64"
            ],
            "text/html": [
              "<div>\n",
              "<style scoped>\n",
              "    .dataframe tbody tr th:only-of-type {\n",
              "        vertical-align: middle;\n",
              "    }\n",
              "\n",
              "    .dataframe tbody tr th {\n",
              "        vertical-align: top;\n",
              "    }\n",
              "\n",
              "    .dataframe thead th {\n",
              "        text-align: right;\n",
              "    }\n",
              "</style>\n",
              "<table border=\"1\" class=\"dataframe\">\n",
              "  <thead>\n",
              "    <tr style=\"text-align: right;\">\n",
              "      <th></th>\n",
              "      <th>count</th>\n",
              "    </tr>\n",
              "    <tr>\n",
              "      <th>country</th>\n",
              "      <th></th>\n",
              "    </tr>\n",
              "  </thead>\n",
              "  <tbody>\n",
              "    <tr>\n",
              "      <th>United States</th>\n",
              "      <td>2818</td>\n",
              "    </tr>\n",
              "    <tr>\n",
              "      <th>India</th>\n",
              "      <td>972</td>\n",
              "    </tr>\n",
              "    <tr>\n",
              "      <th>United Kingdom</th>\n",
              "      <td>419</td>\n",
              "    </tr>\n",
              "    <tr>\n",
              "      <th>Japan</th>\n",
              "      <td>245</td>\n",
              "    </tr>\n",
              "    <tr>\n",
              "      <th>South Korea</th>\n",
              "      <td>199</td>\n",
              "    </tr>\n",
              "    <tr>\n",
              "      <th>...</th>\n",
              "      <td>...</td>\n",
              "    </tr>\n",
              "    <tr>\n",
              "      <th>Mexico, United States, Spain, Colombia</th>\n",
              "      <td>1</td>\n",
              "    </tr>\n",
              "    <tr>\n",
              "      <th>Canada, Norway</th>\n",
              "      <td>1</td>\n",
              "    </tr>\n",
              "    <tr>\n",
              "      <th>Finland, Germany, Belgium</th>\n",
              "      <td>1</td>\n",
              "    </tr>\n",
              "    <tr>\n",
              "      <th>Argentina, United States, Mexico</th>\n",
              "      <td>1</td>\n",
              "    </tr>\n",
              "    <tr>\n",
              "      <th>United Kingdom, United States, Germany, Denmark, Belgium, Japan</th>\n",
              "      <td>1</td>\n",
              "    </tr>\n",
              "  </tbody>\n",
              "</table>\n",
              "<p>748 rows × 1 columns</p>\n",
              "</div><br><label><b>dtype:</b> int64</label>"
            ]
          },
          "metadata": {},
          "execution_count": 19
        }
      ]
    },
    {
      "cell_type": "markdown",
      "source": [
        "Para encontrar los actores más frecuentes en la columna cast de tu DataFrame, debes seguir dos pasos clave: limpiar los datos y luego contarlos.\n",
        "\n",
        "Paso 1: Limpiar y separar los datos\n",
        "La columna cast contiene una cadena de texto con varios nombres de actores separados por comas. Para poder contar cada actor individualmente, primero necesitas separarlos.\n",
        "\n",
        "El código a continuación te ayuda con este proceso:\n",
        "\n",
        "* Reemplazar valores nulos: Los valores nulos en la columna cast deben ser reemplazados para evitar errores. Se usa una cadena vacía ('') para este propósito.\n",
        "\n",
        "* Dividir la cadena: El método .str.split(', ') divide cada cadena de texto en una lista de actores, utilizando la coma seguida de un espacio como separador.\n",
        "\n",
        "* Expandir las listas: El método .explode() toma cada lista de actores y crea una nueva fila para cada uno, manteniendo la información de la fila original. Esto es crucial para poder contar cada actor por separado."
      ],
      "metadata": {
        "id": "6a6aIYGi7i6t"
      }
    },
    {
      "cell_type": "code",
      "source": [
        "# Suponiendo que tu DataFrame se llama 'df'\n",
        "df_limpio = df.assign(cast=df['cast'].fillna('').str.split(', ')).explode('cast')\n",
        "\n",
        "# Eliminar espacios en blanco alrededor de los nombres de los actores\n",
        "df_limpio['cast'] = df_limpio['cast'].str.strip()\n",
        "\n",
        "# Eliminar las filas que ahora están vacías después de la limpieza\n",
        "df_limpio = df_limpio[df_limpio['cast'] != '']"
      ],
      "metadata": {
        "id": "4ECsBkoJ7NrK"
      },
      "execution_count": null,
      "outputs": []
    },
    {
      "cell_type": "markdown",
      "source": [
        "Paso 2: Contar y ordenar la frecuencia\n",
        "Una vez que cada actor tiene su propia fila, puedes usar el método .value_counts() de Pandas, que es perfecto para este tipo de tarea.\n",
        "\n",
        "* value_counts(): Cuenta las ocurrencias de cada valor único en una columna y devuelve una Serie ordenada en orden descendente."
      ],
      "metadata": {
        "id": "TRJCCfbE8R9C"
      }
    },
    {
      "cell_type": "code",
      "source": [
        "# Contar la frecuencia de cada actor y mostrar los 10 más frecuentes\n",
        "actores_frecuentes = df_limpio['cast'].value_counts().head(10)\n",
        "print(actores_frecuentes)"
      ],
      "metadata": {
        "colab": {
          "base_uri": "https://localhost:8080/"
        },
        "id": "zvewLIvL8ey8",
        "outputId": "f0484e12-d27a-4884-ebbd-88641a38056d"
      },
      "execution_count": null,
      "outputs": [
        {
          "output_type": "stream",
          "name": "stdout",
          "text": [
            "cast\n",
            "Anupam Kher         43\n",
            "Shah Rukh Khan      35\n",
            "Julie Tejwani       33\n",
            "Takahiro Sakurai    32\n",
            "Naseeruddin Shah    32\n",
            "Rupa Bhimani        31\n",
            "Om Puri             30\n",
            "Akshay Kumar        30\n",
            "Yuki Kaji           29\n",
            "Amitabh Bachchan    28\n",
            "Name: count, dtype: int64\n"
          ]
        }
      ]
    },
    {
      "cell_type": "code",
      "source": [
        "df.isnull().sum()"
      ],
      "metadata": {
        "colab": {
          "base_uri": "https://localhost:8080/",
          "height": 460
        },
        "id": "Dz2U0K4J-XOi",
        "outputId": "f5decc5e-67e2-4b6c-b3e9-5c5dc3be440b"
      },
      "execution_count": null,
      "outputs": [
        {
          "output_type": "execute_result",
          "data": {
            "text/plain": [
              "show_id            0\n",
              "type               0\n",
              "title              0\n",
              "director        2634\n",
              "cast             825\n",
              "country          831\n",
              "date_added        10\n",
              "release_year       0\n",
              "rating             4\n",
              "duration           3\n",
              "listed_in          0\n",
              "description        0\n",
              "dtype: int64"
            ],
            "text/html": [
              "<div>\n",
              "<style scoped>\n",
              "    .dataframe tbody tr th:only-of-type {\n",
              "        vertical-align: middle;\n",
              "    }\n",
              "\n",
              "    .dataframe tbody tr th {\n",
              "        vertical-align: top;\n",
              "    }\n",
              "\n",
              "    .dataframe thead th {\n",
              "        text-align: right;\n",
              "    }\n",
              "</style>\n",
              "<table border=\"1\" class=\"dataframe\">\n",
              "  <thead>\n",
              "    <tr style=\"text-align: right;\">\n",
              "      <th></th>\n",
              "      <th>0</th>\n",
              "    </tr>\n",
              "  </thead>\n",
              "  <tbody>\n",
              "    <tr>\n",
              "      <th>show_id</th>\n",
              "      <td>0</td>\n",
              "    </tr>\n",
              "    <tr>\n",
              "      <th>type</th>\n",
              "      <td>0</td>\n",
              "    </tr>\n",
              "    <tr>\n",
              "      <th>title</th>\n",
              "      <td>0</td>\n",
              "    </tr>\n",
              "    <tr>\n",
              "      <th>director</th>\n",
              "      <td>2634</td>\n",
              "    </tr>\n",
              "    <tr>\n",
              "      <th>cast</th>\n",
              "      <td>825</td>\n",
              "    </tr>\n",
              "    <tr>\n",
              "      <th>country</th>\n",
              "      <td>831</td>\n",
              "    </tr>\n",
              "    <tr>\n",
              "      <th>date_added</th>\n",
              "      <td>10</td>\n",
              "    </tr>\n",
              "    <tr>\n",
              "      <th>release_year</th>\n",
              "      <td>0</td>\n",
              "    </tr>\n",
              "    <tr>\n",
              "      <th>rating</th>\n",
              "      <td>4</td>\n",
              "    </tr>\n",
              "    <tr>\n",
              "      <th>duration</th>\n",
              "      <td>3</td>\n",
              "    </tr>\n",
              "    <tr>\n",
              "      <th>listed_in</th>\n",
              "      <td>0</td>\n",
              "    </tr>\n",
              "    <tr>\n",
              "      <th>description</th>\n",
              "      <td>0</td>\n",
              "    </tr>\n",
              "  </tbody>\n",
              "</table>\n",
              "</div><br><label><b>dtype:</b> int64</label>"
            ]
          },
          "metadata": {},
          "execution_count": 23
        }
      ]
    },
    {
      "cell_type": "code",
      "source": [
        "# 1. Filtrar el DataFrame para un país específico\n",
        "# Reemplaza 'España' con el país que te interese\n",
        "df_pais = df[df['country'] == 'United States'].copy()\n",
        "\n",
        "# 2. Limpiar y separar los actores de la columna 'cast'\n",
        "# Usamos .copy() para evitar un SettingWithCopyWarning\n",
        "df_limpio_pais = df_pais.assign(cast=df_pais['cast'].fillna('').str.split(', ')).explode('cast')\n",
        "\n",
        "# Eliminar espacios y filas vacías\n",
        "df_limpio_pais['cast'] = df_limpio_pais['cast'].str.strip()\n",
        "df_limpio_pais = df_limpio_pais[df_limpio_pais['cast'] != '']\n",
        "\n",
        "# 3. Contar la frecuencia y mostrar los 10 más comunes\n",
        "actores_por_pais = df_limpio_pais['cast'].value_counts().head(10)\n",
        "\n",
        "print(f\"Los 10 actores más frecuentes en NETFLIX en USA son:\\n{actores_por_pais}\")"
      ],
      "metadata": {
        "id": "BIfAK0xqDLaz",
        "outputId": "4871ce8c-5d11-4b2c-b9b5-ef5ea6ea7f86",
        "colab": {
          "base_uri": "https://localhost:8080/"
        }
      },
      "execution_count": null,
      "outputs": [
        {
          "output_type": "stream",
          "name": "stdout",
          "text": [
            "Los 10 actores más frecuentes en NETFLIX en USA son:\n",
            "cast\n",
            "Adam Sandler         20\n",
            "Samuel L. Jackson    19\n",
            "Fred Tatasciore      17\n",
            "Molly Shannon        15\n",
            "Seth Rogen           15\n",
            "Erin Fitzgerald      14\n",
            "Laura Bailey         14\n",
            "Chris Rock           14\n",
            "Nicolas Cage         14\n",
            "Morgan Freeman       14\n",
            "Name: count, dtype: int64\n"
          ]
        }
      ]
    },
    {
      "cell_type": "code",
      "source": [
        "df_pais.head()"
      ],
      "metadata": {
        "id": "5PHkX0NvFFWR"
      },
      "execution_count": null,
      "outputs": []
    },
    {
      "cell_type": "code",
      "source": [
        "import seaborn as sns\n",
        "import matplotlib.pyplot as plt\n",
        "plt.figure(figsize=(6,4))\n",
        "sns.countplot(x='Pclass', data=df, palette='Set1')\n",
        "plt.title(\"Distribucion de la clase\")\n",
        "plt.xlabel(\"Clase\")\n",
        "plt.ylabel(\"Cantidad\")\n",
        "plt.show()"
      ],
      "metadata": {
        "id": "4O3FF-jonGk0"
      },
      "execution_count": null,
      "outputs": []
    },
    {
      "cell_type": "code",
      "source": [
        "# Liberar la unidad\n",
        "drive.flush_and_unmount()"
      ],
      "metadata": {
        "id": "9SVxXS-2z7uA"
      },
      "execution_count": null,
      "outputs": []
    }
  ]
}