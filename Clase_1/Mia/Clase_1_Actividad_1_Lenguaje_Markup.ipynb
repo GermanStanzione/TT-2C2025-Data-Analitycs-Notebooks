{
  "nbformat": 4,
  "nbformat_minor": 0,
  "metadata": {
    "colab": {
      "provenance": [],
      "include_colab_link": true
    },
    "kernelspec": {
      "name": "python3",
      "display_name": "Python 3"
    },
    "language_info": {
      "name": "python"
    }
  },
  "cells": [
    {
      "cell_type": "markdown",
      "metadata": {
        "id": "view-in-github",
        "colab_type": "text"
      },
      "source": [
        "<a href=\"https://colab.research.google.com/github/GermanStanzione/TT-2C2025-Data-Analitycs-Notebooks/blob/main/Clase_1/Mia/Clase_1_Actividad_1_Lenguaje_Markup.ipynb\" target=\"_parent\"><img src=\"https://colab.research.google.com/assets/colab-badge.svg\" alt=\"Open In Colab\"/></a>"
      ]
    },
    {
      "cell_type": "markdown",
      "source": [
        "# Actividades"
      ],
      "metadata": {
        "id": "gCJoH7KuEUga"
      }
    },
    {
      "cell_type": "markdown",
      "source": [
        "## Actividad 1"
      ],
      "metadata": {
        "id": "NHa-sP3zJ8Db"
      }
    },
    {
      "cell_type": "markdown",
      "source": [
        "  Creá tu propio bloque de texto. Utiliza:\n",
        "  - formatos de texto\n",
        "  - links\n",
        "  - al menos una imagen de tu carpeta Drive"
      ],
      "metadata": {
        "id": "ZlSXlWj4KAZZ"
      }
    },
    {
      "cell_type": "markdown",
      "source": [
        "# LENGUAJE MARKUP - ACÁ MANDO EL TÍTULO DE NIVEL 1 LOQUI con un numeral por delante\n",
        "\n",
        "## FORMATOS DE TEXTO - Con dos numerales por delante indico título nivel 2\n",
        "\n",
        "##\n",
        "*Acá mando diferentes formatos de texto, el texto entre asteriscos lo hace inclinado*\n",
        "\n",
        "**Este formato de texto es negrita, es entre dos asteriscos**\n",
        "\n",
        "***Si quiero negrita e inclinada el texto debe ir entre tres asteriscos***\n",
        "\n",
        "\n",
        "Cómo usar el signo mayor > para indentar, crear sangrías, crear bloques de citas; se pone al principio del texto el signo mayor > o >>\n",
        "> Este es un bloque de cita principal.\n",
        "> > Y esto es una cita dentro de la cita principal.\n",
        "> > > y esto también loqui\n",
        ">\n",
        "> Volvemos al bloque principal.\n",
        "\n",
        "Puedo mandar código inline si lo mando entre acento grave `print(\"Hola loqui\")`\n",
        "\n",
        "Puedo hacer listas con el guión y espacio (-) o directamente numerando (1.):\n",
        "\n",
        "- primero\n",
        "- segundo\n",
        "- tercero\n",
        "\n",
        "1. primero\n",
        "2. segundo\n",
        "3. tercero\n",
        "\n"
      ],
      "metadata": {
        "id": "2XPoX3AWFr2q"
      }
    },
    {
      "cell_type": "markdown",
      "source": [
        "Para insertar un link entre corchetes pongo la descripción que aparecerá en pantalla y entre paréntesis el link posta:\n",
        "\n",
        "[Link a Colab loqui!](https://colab.research.google.com/)"
      ],
      "metadata": {
        "id": "EFi5Yj6wNMav"
      }
    },
    {
      "cell_type": "markdown",
      "source": [
        "## Acá mandamos una imagen de mi Drive\n",
        "Tengo que usar la siguiente instrucción:"
      ],
      "metadata": {
        "id": "TsEVYdstNOtO"
      }
    },
    {
      "cell_type": "code",
      "source": [
        "<img src=\"https://drive.google.com/uc?id={id_de_la_imagen}\">"
      ],
      "metadata": {
        "id": "pAcHIggrO3Wm"
      },
      "execution_count": null,
      "outputs": []
    },
    {
      "cell_type": "markdown",
      "source": [
        "El link de mi fotos es https://drive.google.com/file/d/0B_BTzrR5w_X6Sm55UjNKaUZrcVNZckpFSU1DUXhWU2hfVnd3/view?usp=sharing&resourcekey=0-JnGX1pKEzMQOixaLakU0zA\n",
        "\n",
        "Entonces la id de la imagen es (está en la URL, después de `d/` y antes de `/view...`) : 0B_BTzrR5w_X6Sm55UjNKaUZrcVNZckpFSU1DUXhWU2hfVnd3\n",
        "\n",
        "<img src=\"https://drive.google.com/uc?id=0B_BTzrR5w_X6Sm55UjNKaUZrcVNZckpFSU1DUXhWU2hfVnd3\">"
      ],
      "metadata": {
        "id": "cXaAdYcvPGUe"
      }
    },
    {
      "cell_type": "markdown",
      "source": [
        "## Actividad 2"
      ],
      "metadata": {
        "id": "LTFeKV5uKDPK"
      }
    },
    {
      "cell_type": "markdown",
      "source": [
        "Creá un bloque de código con un programa que pida un número por teclado, y responda si es par o impar. Ejecutalo."
      ],
      "metadata": {
        "id": "NfVvRVxMKUu8"
      }
    },
    {
      "cell_type": "code",
      "source": [
        "#Manera sencilla, sin función\n",
        "a = int(input(\"Dale loqui, ingresa el número entero\")) #Importante convertirlo a entero\n",
        "if a % 2 ==0:\n",
        "  print(\"Es par\")\n",
        "else:\n",
        "  print(\"Es impar\")"
      ],
      "metadata": {
        "colab": {
          "base_uri": "https://localhost:8080/"
        },
        "id": "neaGQHWzQURg",
        "outputId": "8ccba9a8-39f2-4330-84d7-4c0eb401a274"
      },
      "execution_count": 9,
      "outputs": [
        {
          "output_type": "stream",
          "name": "stdout",
          "text": [
            "Dale loqui, ingresa el número entero2\n",
            "Es par\n"
          ]
        }
      ]
    },
    {
      "cell_type": "code",
      "source": [
        "#Ahora con una función(sacada de gemini)\n",
        " def par_o_impar():\n",
        "  \"\"\"\n",
        "  Pide un número por teclado y determina si es par o impar.\n",
        "  \"\"\"\n",
        "  try:\n",
        "    numero = int(input(\"Ingresa un número entero: \"))\n",
        "\n",
        "    if numero % 2 == 0:\n",
        "      print(f\"El número {numero} es **par**.\")\n",
        "    else:\n",
        "      print(f\"El número {numero} es **impar**.\")\n",
        "\n",
        "  except ValueError:\n",
        "    print(\"¡Error! Por favor, ingresa un número entero válido.\")\n",
        "\n",
        "# Llamar a la función para ejecutar el programa\n",
        "par_o_impar()"
      ],
      "metadata": {
        "id": "k25NJR0aSR2Y",
        "outputId": "b680ff82-8456-41da-b74f-6ef692f9c548",
        "colab": {
          "base_uri": "https://localhost:8080/"
        }
      },
      "execution_count": 10,
      "outputs": [
        {
          "output_type": "stream",
          "name": "stdout",
          "text": [
            "Ingresa un número entero: 3\n",
            "El número 3 es **impar**.\n"
          ]
        }
      ]
    }
  ]
}