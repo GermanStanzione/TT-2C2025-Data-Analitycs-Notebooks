{
  "nbformat": 4,
  "nbformat_minor": 0,
  "metadata": {
    "colab": {
      "provenance": [],
      "include_colab_link": true
    },
    "kernelspec": {
      "name": "python3",
      "display_name": "Python 3"
    },
    "language_info": {
      "name": "python"
    }
  },
  "cells": [
    {
      "cell_type": "markdown",
      "metadata": {
        "id": "view-in-github",
        "colab_type": "text"
      },
      "source": [
        "<a href=\"https://colab.research.google.com/github/GermanStanzione/TT-2C2025-Data-Analitycs-Notebooks/blob/main/Clase_8/Mia/Clase_08_Cat_Merge_Join.ipynb\" target=\"_parent\"><img src=\"https://colab.research.google.com/assets/colab-badge.svg\" alt=\"Open In Colab\"/></a>"
      ]
    },
    {
      "cell_type": "markdown",
      "source": [
        "# Veamos con un ejemplo el uso de concat - merge - join"
      ],
      "metadata": {
        "id": "nUbK0PA_9YAH"
      }
    },
    {
      "cell_type": "markdown",
      "source": [
        "Contamos con dos estaciones meteorológicas, cada una instalada en una ubicación geográfica diferente, que sensan datos de temperatura, presión y humedad cada una hora.\n",
        "<BR>\n",
        "Simulemos algunas mediciones y armemos dos dataframes, uno para cada estación y con datos de un mismo día"
      ],
      "metadata": {
        "id": "ShnPybB211Gn"
      }
    },
    {
      "cell_type": "code",
      "source": [
        "import pandas as pd\n",
        "import numpy as np\n",
        "\n",
        "# Creamos una serie tipo datetime con 24 valores, mismo día y 24 horas.\n",
        "horas = pd.date_range(\"2025-10-11 00:00\", periods=24, freq=\"H\")\n",
        "horas"
      ],
      "metadata": {
        "id": "zzUXzhsi181_"
      },
      "execution_count": null,
      "outputs": []
    },
    {
      "cell_type": "code",
      "source": [
        "# Simulamos el dataframe de la Estacion 1\n",
        "estacion1 = pd.DataFrame({\n",
        "    \"hora\": horas,\n",
        "    \"estacion\": \"E1\",\n",
        "    \"temperatura\": np.random.normal(20, 3, 24),  # genera 24 valores (dist normal) con media 20 y desviación 3\n",
        "    \"presion\": np.random.normal(1013, 5, 24),  # genera 24 valores (dist normal) con media 1013 y desviación 5\n",
        "    \"humedad\": np.random.uniform(40, 80, 24)  # genera 24 valores (dist uniform) con media 40 y desviación 8\n",
        "})"
      ],
      "metadata": {
        "id": "LcwUH-i-2dCH"
      },
      "execution_count": null,
      "outputs": []
    },
    {
      "cell_type": "code",
      "source": [
        "estacion1.head(5)"
      ],
      "metadata": {
        "id": "mIME38ae31qo"
      },
      "execution_count": null,
      "outputs": []
    },
    {
      "cell_type": "code",
      "source": [
        "import matplotlib.pyplot as plt\n",
        "estacion1[\"temperatura\"].hist(bins=\"auto\")\n",
        "plt.show()"
      ],
      "metadata": {
        "id": "skJk4bXNCsnM"
      },
      "execution_count": null,
      "outputs": []
    },
    {
      "cell_type": "code",
      "source": [
        "# Graficamos las temperaturas de 1 día\n",
        "estacion1.plot(x=\"hora\", y=\"temperatura\", kind=\"line\")\n",
        "plt.show()"
      ],
      "metadata": {
        "id": "wCE8vA8kCX08"
      },
      "execution_count": null,
      "outputs": []
    },
    {
      "cell_type": "code",
      "source": [
        "# Simulamos el dataframe de la Estacion 1\n",
        "estacion2 = pd.DataFrame({\n",
        "    \"hora\": horas,\n",
        "    \"estacion\": \"E2\",\n",
        "    \"temperatura\": np.random.normal(18, 2, 24),\n",
        "    \"presion\": np.random.normal(1010, 4, 24),\n",
        "    \"humedad\": np.random.uniform(35, 75, 24)\n",
        "})"
      ],
      "metadata": {
        "id": "yAw5moAk2gvP"
      },
      "execution_count": null,
      "outputs": []
    },
    {
      "cell_type": "code",
      "source": [
        "estacion2.head()"
      ],
      "metadata": {
        "id": "KSD4TqqP37-3"
      },
      "execution_count": null,
      "outputs": []
    },
    {
      "cell_type": "markdown",
      "source": [
        "## concat - Unificamos dos datasets usando concat"
      ],
      "metadata": {
        "id": "_do4GqIO1ruI"
      }
    },
    {
      "cell_type": "markdown",
      "source": [
        " La forma más natural de unificarlos en pandas es usando:\n",
        "<BR>\n",
        "`pd.concat()`\n",
        "<BR>\n",
        "Sirve para apilar DataFrames (uno debajo del otro o lado a lado).\n",
        "Es ideal cuando los DataFrames tienen las mismas columnas (por ejemplo, mismo formato de mediciones de distintas estaciones).\n",
        "<BR>\n",
        "Por default, apila los datos verticalmente (uno debajo de otro), por lo que `axis = 0`\n",
        "<BR>\n",
        "Para ubicar los dataframes, uno seguido del otro, usamos el argumento `axis = 1`\n",
        "<BR>\n",
        "Cada dataframe tiene su index, por lo que es buena práctica al usar concat, regenerar el index en el dataframe resultante, para ello usamos `ignore_index=True`"
      ],
      "metadata": {
        "id": "Zpb6xvUE9nAO"
      }
    },
    {
      "cell_type": "code",
      "source": [
        "# Unificamos los datos de ambas estaciones\n",
        "est1_est2 = pd.concat([estacion2, estacion1], axis=0, ignore_index=True)\n",
        "est1_est2.head(5)"
      ],
      "metadata": {
        "id": "IDpeqzB62grv"
      },
      "execution_count": null,
      "outputs": []
    },
    {
      "cell_type": "markdown",
      "source": [
        "## merge - une los dataframes por una columna en común\n",
        "Lo usamos para comparar las mediciones de las estaciones\n"
      ],
      "metadata": {
        "id": "uEYMct-n6Ysn"
      }
    },
    {
      "cell_type": "code",
      "source": [
        "# Merge por la columna 'hora' (igual que un JOIN ON hora)\n",
        "e1_e2_merge = pd.merge(\n",
        "    estacion1,\n",
        "    estacion2,\n",
        "    on=\"hora\",\n",
        "    how=\"inner\",\n",
        "    suffixes=(\"_E1\", \"_E2\")\n",
        ")"
      ],
      "metadata": {
        "id": "KJFZgc2h70Yv"
      },
      "execution_count": null,
      "outputs": []
    },
    {
      "cell_type": "code",
      "source": [
        "e1_e2_merge.info()"
      ],
      "metadata": {
        "id": "D8FoOBOPztuq"
      },
      "execution_count": null,
      "outputs": []
    },
    {
      "cell_type": "code",
      "source": [
        "e1_e2_merge.head()"
      ],
      "metadata": {
        "id": "0VeEbnaN0cY5"
      },
      "execution_count": null,
      "outputs": []
    },
    {
      "cell_type": "markdown",
      "source": [
        "## join - une los dataframes por el index\n"
      ],
      "metadata": {
        "id": "v2GzJzJd87iu"
      }
    },
    {
      "cell_type": "code",
      "source": [
        "# Establecemos 'hora' como índice\n",
        "estacion1 = estacion1.set_index(\"hora\")\n",
        "estacion2 = estacion2.set_index(\"hora\")"
      ],
      "metadata": {
        "id": "kbZ3UcJzFwrj"
      },
      "execution_count": null,
      "outputs": []
    },
    {
      "cell_type": "code",
      "source": [
        "# Unimos por índice (hora)\n",
        "e1_e2_join = estacion1.join(estacion2, lsuffix=\"_E1\", rsuffix=\"_E2\")\n",
        "e1_e2_join.head()"
      ],
      "metadata": {
        "id": "2scuK7tfFeCc"
      },
      "execution_count": null,
      "outputs": []
    },
    {
      "cell_type": "code",
      "source": [
        "# Unimos solo la columna 'temperatura' de la segunda estación\n",
        "e1_e2_join_cust = estacion1.join(estacion2[\"temperatura\"], lsuffix=\"_E1\", rsuffix=\"_E2\")\n",
        "e1_e2_join_cust.head()"
      ],
      "metadata": {
        "id": "jrue0GW1GfYj"
      },
      "execution_count": null,
      "outputs": []
    },
    {
      "cell_type": "code",
      "source": [
        "# Unimos solo las columnas de temperatura de ambas estaciones\n",
        "e1_e2_join_cust = estacion1[[\"temperatura\"]].join(estacion2[\"temperatura\"], lsuffix=\"_E1\", rsuffix=\"_E2\")\n",
        "e1_e2_join_cust.head()"
      ],
      "metadata": {
        "id": "YTLJ_HmxG88r"
      },
      "execution_count": null,
      "outputs": []
    },
    {
      "cell_type": "code",
      "source": [
        "import matplotlib.pyplot as plt\n",
        "\n",
        "# Set a style for the plot (you can change 'seaborn-v0_8-darkgrid' to another style)\n",
        "plt.style.use('seaborn-v0_8-darkgrid')\n",
        "\n",
        "\n",
        "# Graficamos barras comparativas\n",
        "e1_e2_join_cust.plot(\n",
        "    kind=\"bar\",\n",
        "    figsize=(8, 4),\n",
        "    width=0.8\n",
        ")\n",
        "\n",
        "plt.title(\"Comparación de temperatura entre estaciones\")\n",
        "plt.xlabel(\"Hora\")\n",
        "plt.ylabel(\"Temperatura (°C)\")\n",
        "plt.xticks(rotation=45)\n",
        "plt.legend(title=\"Estación\")\n",
        "plt.tight_layout()\n",
        "plt.show()"
      ],
      "metadata": {
        "id": "spyZr0zG3Kmo"
      },
      "execution_count": null,
      "outputs": []
    },
    {
      "cell_type": "code",
      "source": [
        "# Vere un gráfico comparativo\n",
        "import matplotlib.pyplot as plt\n",
        "\n",
        "# Graficamos barras comparativas\n",
        "e1_e2_join_cust.plot(\n",
        "    kind=\"bar\",\n",
        "    figsize=(8, 4),\n",
        "    width=0.8\n",
        ")\n",
        "\n",
        "plt.title(\"Comparación de temperatura entre estaciones\")\n",
        "plt.xlabel(\"Hora\")\n",
        "plt.ylabel(\"Temperatura (°C)\")\n",
        "plt.xticks(rotation=45)\n",
        "plt.legend(title=\"Estación\")\n",
        "plt.tight_layout()\n",
        "plt.show()\n"
      ],
      "metadata": {
        "id": "GnKzRoHVHKkE"
      },
      "execution_count": null,
      "outputs": []
    },
    {
      "cell_type": "markdown",
      "source": [
        "Si trabajás con datos horarios o diarios, join() es muy cómodo porque muchas veces ya tenés el tiempo como índice (DatetimeIndex). Te permite hacer operaciones de series temporales como:"
      ],
      "metadata": {
        "id": "ZVhBi7cYGGAz"
      }
    },
    {
      "cell_type": "markdown",
      "source": [
        "# Importamos Dataset Booking - Hotels - Users\n",
        "https://www.kaggle.com/code/sonawanelalitsunil/international-hotel-booking-analytics-ml-34-75/notebook"
      ],
      "metadata": {
        "id": "psGGQmT1Opr1"
      }
    },
    {
      "cell_type": "code",
      "execution_count": 1,
      "metadata": {
        "id": "_KJEp1MROjWM"
      },
      "outputs": [],
      "source": [
        "# Importar la librería Pandas\n",
        "import pandas as pd"
      ]
    },
    {
      "cell_type": "code",
      "source": [
        "# Montar la unidad\n",
        "from google.colab import drive\n",
        "drive.mount('/content/drive')"
      ],
      "metadata": {
        "id": "GITiGvLXOwxs",
        "colab": {
          "base_uri": "https://localhost:8080/"
        },
        "outputId": "abf26846-559e-4d73-d471-609dab8a223f"
      },
      "execution_count": 2,
      "outputs": [
        {
          "output_type": "stream",
          "name": "stdout",
          "text": [
            "Mounted at /content/drive\n"
          ]
        }
      ]
    },
    {
      "cell_type": "code",
      "source": [
        "# Verificar que los archivos csv se encuentren en la carpeta datasets\n",
        "import os\n",
        "os.listdir(\"/content/drive/MyDrive/datasets\")"
      ],
      "metadata": {
        "id": "1Q8NDn5FO0eb",
        "colab": {
          "base_uri": "https://localhost:8080/"
        },
        "outputId": "2e271751-d279-4473-afd4-761517e59b4e"
      },
      "execution_count": 3,
      "outputs": [
        {
          "output_type": "execute_result",
          "data": {
            "text/plain": [
              "['users.csv',\n",
              " 'hotels.csv',\n",
              " 'reviews.csv',\n",
              " 'Kaggle_users.gsheet',\n",
              " 'netflix_titles.csv',\n",
              " 'youtube_shorts_tiktok_trends_2025.csv',\n",
              " 'satis_clientes.csv',\n",
              " 'booking_db_nulls.sqlite',\n",
              " 'booking_db.sqlite',\n",
              " 'InteractiveSheet_2025-09-22_12_53_41.gsheet',\n",
              " 'train.csv']"
            ]
          },
          "metadata": {},
          "execution_count": 3
        }
      ]
    },
    {
      "cell_type": "code",
      "source": [
        "# Cambiamos el directorio para importar con facilidad\n",
        "os.chdir(\"/content/drive/MyDrive/datasets\")\n",
        "os.listdir(\".\")"
      ],
      "metadata": {
        "id": "JJir5SOAPP5s",
        "colab": {
          "base_uri": "https://localhost:8080/"
        },
        "outputId": "4e2692d8-7490-4599-d55e-e51836c2ef1b"
      },
      "execution_count": 4,
      "outputs": [
        {
          "output_type": "execute_result",
          "data": {
            "text/plain": [
              "['users.csv',\n",
              " 'hotels.csv',\n",
              " 'reviews.csv',\n",
              " 'Kaggle_users.gsheet',\n",
              " 'netflix_titles.csv',\n",
              " 'youtube_shorts_tiktok_trends_2025.csv',\n",
              " 'satis_clientes.csv',\n",
              " 'booking_db_nulls.sqlite',\n",
              " 'booking_db.sqlite',\n",
              " 'InteractiveSheet_2025-09-22_12_53_41.gsheet',\n",
              " 'train.csv']"
            ]
          },
          "metadata": {},
          "execution_count": 4
        }
      ]
    },
    {
      "cell_type": "code",
      "source": [
        "# Importamos Reviews\n",
        "reviews = pd.read_csv('reviews.csv')\n",
        "reviews.info()"
      ],
      "metadata": {
        "id": "CQoUxd_2PBmc",
        "outputId": "a5e02484-2d26-486d-8aa2-b4923561a319",
        "colab": {
          "base_uri": "https://localhost:8080/"
        }
      },
      "execution_count": 13,
      "outputs": [
        {
          "output_type": "stream",
          "name": "stdout",
          "text": [
            "<class 'pandas.core.frame.DataFrame'>\n",
            "RangeIndex: 50000 entries, 0 to 49999\n",
            "Data columns (total 12 columns):\n",
            " #   Column                 Non-Null Count  Dtype  \n",
            "---  ------                 --------------  -----  \n",
            " 0   review_id              50000 non-null  int64  \n",
            " 1   user_id                50000 non-null  int64  \n",
            " 2   hotel_id               50000 non-null  int64  \n",
            " 3   review_date            50000 non-null  object \n",
            " 4   score_overall          50000 non-null  float64\n",
            " 5   score_cleanliness      50000 non-null  float64\n",
            " 6   score_comfort          50000 non-null  float64\n",
            " 7   score_facilities       50000 non-null  float64\n",
            " 8   score_location         50000 non-null  float64\n",
            " 9   score_staff            50000 non-null  float64\n",
            " 10  score_value_for_money  50000 non-null  float64\n",
            " 11  review_text            50000 non-null  object \n",
            "dtypes: float64(7), int64(3), object(2)\n",
            "memory usage: 4.6+ MB\n"
          ]
        }
      ]
    },
    {
      "cell_type": "code",
      "source": [
        "# Importamos Hotels\n",
        "hotels = pd.read_csv('hotels.csv')\n",
        "hotels.info()"
      ],
      "metadata": {
        "id": "M9bcJI7SPasU",
        "outputId": "669b8df5-ccf6-4588-f7fa-f6b49a1be960",
        "colab": {
          "base_uri": "https://localhost:8080/"
        }
      },
      "execution_count": 12,
      "outputs": [
        {
          "output_type": "stream",
          "name": "stdout",
          "text": [
            "<class 'pandas.core.frame.DataFrame'>\n",
            "RangeIndex: 25 entries, 0 to 24\n",
            "Data columns (total 13 columns):\n",
            " #   Column                Non-Null Count  Dtype  \n",
            "---  ------                --------------  -----  \n",
            " 0   hotel_id              25 non-null     int64  \n",
            " 1   hotel_name            25 non-null     object \n",
            " 2   city                  25 non-null     object \n",
            " 3   country               25 non-null     object \n",
            " 4   star_rating           25 non-null     int64  \n",
            " 5   lat                   25 non-null     float64\n",
            " 6   lon                   25 non-null     float64\n",
            " 7   cleanliness_base      25 non-null     float64\n",
            " 8   comfort_base          25 non-null     float64\n",
            " 9   facilities_base       25 non-null     float64\n",
            " 10  location_base         25 non-null     float64\n",
            " 11  staff_base            25 non-null     float64\n",
            " 12  value_for_money_base  25 non-null     float64\n",
            "dtypes: float64(8), int64(2), object(3)\n",
            "memory usage: 2.7+ KB\n"
          ]
        }
      ]
    },
    {
      "cell_type": "code",
      "source": [
        "# Importamos Users\n",
        "users = pd.read_csv('users.csv')\n",
        "users.info()"
      ],
      "metadata": {
        "id": "VmFkwKdMPgpk",
        "outputId": "2f3df2c0-bea0-49be-9d6c-d83948fe6a80",
        "colab": {
          "base_uri": "https://localhost:8080/"
        }
      },
      "execution_count": 14,
      "outputs": [
        {
          "output_type": "stream",
          "name": "stdout",
          "text": [
            "<class 'pandas.core.frame.DataFrame'>\n",
            "RangeIndex: 2000 entries, 0 to 1999\n",
            "Data columns (total 6 columns):\n",
            " #   Column          Non-Null Count  Dtype \n",
            "---  ------          --------------  ----- \n",
            " 0   user_id         2000 non-null   int64 \n",
            " 1   user_gender     2000 non-null   object\n",
            " 2   country         2000 non-null   object\n",
            " 3   age_group       2000 non-null   object\n",
            " 4   traveller_type  2000 non-null   object\n",
            " 5   join_date       2000 non-null   object\n",
            "dtypes: int64(1), object(5)\n",
            "memory usage: 93.9+ KB\n"
          ]
        }
      ]
    },
    {
      "cell_type": "code",
      "source": [
        "hotels.columns"
      ],
      "metadata": {
        "id": "7-dAJYxp-9am"
      },
      "execution_count": null,
      "outputs": []
    },
    {
      "cell_type": "code",
      "source": [
        "reviews.columns"
      ],
      "metadata": {
        "colab": {
          "base_uri": "https://localhost:8080/"
        },
        "id": "u8spWj-x_BvB",
        "outputId": "f9324267-2f8a-4a1c-e96d-3005d80e51df"
      },
      "execution_count": 9,
      "outputs": [
        {
          "output_type": "execute_result",
          "data": {
            "text/plain": [
              "Index(['review_id', 'user_id', 'hotel_id', 'review_date', 'score_overall',\n",
              "       'score_cleanliness', 'score_comfort', 'score_facilities',\n",
              "       'score_location', 'score_staff', 'score_value_for_money',\n",
              "       'review_text'],\n",
              "      dtype='object')"
            ]
          },
          "metadata": {},
          "execution_count": 9
        }
      ]
    },
    {
      "cell_type": "markdown",
      "source": [
        "## Actividad 1 (Dificultad *)\n",
        "Reproducir la siguiente consulta SQL con Pandas\n",
        "\n",
        "\n",
        "```\n",
        "select h.hotel_name, h.country, r.score_overall\n",
        "from  hotels h join reviews r\n",
        "on h.hotel_id == r.hotel_id\n",
        "```"
      ],
      "metadata": {
        "id": "OM3GhHDLPhRs"
      }
    },
    {
      "cell_type": "code",
      "source": [
        "# Merge (equivalente al SQL JOIN)\n",
        "hotels_reviews = pd.merge(\n",
        "    hotels,\n",
        "    reviews,\n",
        "    on=\"hotel_id\",\n",
        "    how=\"inner\"\n",
        ")\n",
        "hotels_reviews.head()"
      ],
      "metadata": {
        "id": "9pAxPg47QeH8"
      },
      "execution_count": null,
      "outputs": []
    },
    {
      "cell_type": "code",
      "source": [
        "# Seleccionamos solo las columnas que nos solicitan. Pero sii un hotel tiene 10\n",
        "# reseñas, aparecerá en la lista 10 veces, cada una con una puntuación diferente.\n",
        "hotels_reviews = hotels_reviews[[\"hotel_name\", \"country\", \"score_overall\"]]\n",
        "hotels_reviews.head()"
      ],
      "metadata": {
        "id": "SsyaG4V7RjeM",
        "colab": {
          "base_uri": "https://localhost:8080/",
          "height": 206
        },
        "outputId": "770efcd8-5941-4e55-8fd4-d23a60485d90"
      },
      "execution_count": 11,
      "outputs": [
        {
          "output_type": "execute_result",
          "data": {
            "text/plain": [
              "        hotel_name        country  score_overall\n",
              "0  The Azure Tower  United States            8.7\n",
              "1  The Azure Tower  United States            8.7\n",
              "2  The Azure Tower  United States            8.8\n",
              "3  The Azure Tower  United States            8.8\n",
              "4  The Azure Tower  United States            8.7"
            ],
            "text/html": [
              "\n",
              "  <div id=\"df-a78b6d56-b05b-4e1a-853b-3923c696ea3d\" class=\"colab-df-container\">\n",
              "    <div>\n",
              "<style scoped>\n",
              "    .dataframe tbody tr th:only-of-type {\n",
              "        vertical-align: middle;\n",
              "    }\n",
              "\n",
              "    .dataframe tbody tr th {\n",
              "        vertical-align: top;\n",
              "    }\n",
              "\n",
              "    .dataframe thead th {\n",
              "        text-align: right;\n",
              "    }\n",
              "</style>\n",
              "<table border=\"1\" class=\"dataframe\">\n",
              "  <thead>\n",
              "    <tr style=\"text-align: right;\">\n",
              "      <th></th>\n",
              "      <th>hotel_name</th>\n",
              "      <th>country</th>\n",
              "      <th>score_overall</th>\n",
              "    </tr>\n",
              "  </thead>\n",
              "  <tbody>\n",
              "    <tr>\n",
              "      <th>0</th>\n",
              "      <td>The Azure Tower</td>\n",
              "      <td>United States</td>\n",
              "      <td>8.7</td>\n",
              "    </tr>\n",
              "    <tr>\n",
              "      <th>1</th>\n",
              "      <td>The Azure Tower</td>\n",
              "      <td>United States</td>\n",
              "      <td>8.7</td>\n",
              "    </tr>\n",
              "    <tr>\n",
              "      <th>2</th>\n",
              "      <td>The Azure Tower</td>\n",
              "      <td>United States</td>\n",
              "      <td>8.8</td>\n",
              "    </tr>\n",
              "    <tr>\n",
              "      <th>3</th>\n",
              "      <td>The Azure Tower</td>\n",
              "      <td>United States</td>\n",
              "      <td>8.8</td>\n",
              "    </tr>\n",
              "    <tr>\n",
              "      <th>4</th>\n",
              "      <td>The Azure Tower</td>\n",
              "      <td>United States</td>\n",
              "      <td>8.7</td>\n",
              "    </tr>\n",
              "  </tbody>\n",
              "</table>\n",
              "</div>\n",
              "    <div class=\"colab-df-buttons\">\n",
              "\n",
              "  <div class=\"colab-df-container\">\n",
              "    <button class=\"colab-df-convert\" onclick=\"convertToInteractive('df-a78b6d56-b05b-4e1a-853b-3923c696ea3d')\"\n",
              "            title=\"Convert this dataframe to an interactive table.\"\n",
              "            style=\"display:none;\">\n",
              "\n",
              "  <svg xmlns=\"http://www.w3.org/2000/svg\" height=\"24px\" viewBox=\"0 -960 960 960\">\n",
              "    <path d=\"M120-120v-720h720v720H120Zm60-500h600v-160H180v160Zm220 220h160v-160H400v160Zm0 220h160v-160H400v160ZM180-400h160v-160H180v160Zm440 0h160v-160H620v160ZM180-180h160v-160H180v160Zm440 0h160v-160H620v160Z\"/>\n",
              "  </svg>\n",
              "    </button>\n",
              "\n",
              "  <style>\n",
              "    .colab-df-container {\n",
              "      display:flex;\n",
              "      gap: 12px;\n",
              "    }\n",
              "\n",
              "    .colab-df-convert {\n",
              "      background-color: #E8F0FE;\n",
              "      border: none;\n",
              "      border-radius: 50%;\n",
              "      cursor: pointer;\n",
              "      display: none;\n",
              "      fill: #1967D2;\n",
              "      height: 32px;\n",
              "      padding: 0 0 0 0;\n",
              "      width: 32px;\n",
              "    }\n",
              "\n",
              "    .colab-df-convert:hover {\n",
              "      background-color: #E2EBFA;\n",
              "      box-shadow: 0px 1px 2px rgba(60, 64, 67, 0.3), 0px 1px 3px 1px rgba(60, 64, 67, 0.15);\n",
              "      fill: #174EA6;\n",
              "    }\n",
              "\n",
              "    .colab-df-buttons div {\n",
              "      margin-bottom: 4px;\n",
              "    }\n",
              "\n",
              "    [theme=dark] .colab-df-convert {\n",
              "      background-color: #3B4455;\n",
              "      fill: #D2E3FC;\n",
              "    }\n",
              "\n",
              "    [theme=dark] .colab-df-convert:hover {\n",
              "      background-color: #434B5C;\n",
              "      box-shadow: 0px 1px 3px 1px rgba(0, 0, 0, 0.15);\n",
              "      filter: drop-shadow(0px 1px 2px rgba(0, 0, 0, 0.3));\n",
              "      fill: #FFFFFF;\n",
              "    }\n",
              "  </style>\n",
              "\n",
              "    <script>\n",
              "      const buttonEl =\n",
              "        document.querySelector('#df-a78b6d56-b05b-4e1a-853b-3923c696ea3d button.colab-df-convert');\n",
              "      buttonEl.style.display =\n",
              "        google.colab.kernel.accessAllowed ? 'block' : 'none';\n",
              "\n",
              "      async function convertToInteractive(key) {\n",
              "        const element = document.querySelector('#df-a78b6d56-b05b-4e1a-853b-3923c696ea3d');\n",
              "        const dataTable =\n",
              "          await google.colab.kernel.invokeFunction('convertToInteractive',\n",
              "                                                    [key], {});\n",
              "        if (!dataTable) return;\n",
              "\n",
              "        const docLinkHtml = 'Like what you see? Visit the ' +\n",
              "          '<a target=\"_blank\" href=https://colab.research.google.com/notebooks/data_table.ipynb>data table notebook</a>'\n",
              "          + ' to learn more about interactive tables.';\n",
              "        element.innerHTML = '';\n",
              "        dataTable['output_type'] = 'display_data';\n",
              "        await google.colab.output.renderOutput(dataTable, element);\n",
              "        const docLink = document.createElement('div');\n",
              "        docLink.innerHTML = docLinkHtml;\n",
              "        element.appendChild(docLink);\n",
              "      }\n",
              "    </script>\n",
              "  </div>\n",
              "\n",
              "\n",
              "    <div id=\"df-5a406949-eab8-498f-af59-d70edc555b36\">\n",
              "      <button class=\"colab-df-quickchart\" onclick=\"quickchart('df-5a406949-eab8-498f-af59-d70edc555b36')\"\n",
              "                title=\"Suggest charts\"\n",
              "                style=\"display:none;\">\n",
              "\n",
              "<svg xmlns=\"http://www.w3.org/2000/svg\" height=\"24px\"viewBox=\"0 0 24 24\"\n",
              "     width=\"24px\">\n",
              "    <g>\n",
              "        <path d=\"M19 3H5c-1.1 0-2 .9-2 2v14c0 1.1.9 2 2 2h14c1.1 0 2-.9 2-2V5c0-1.1-.9-2-2-2zM9 17H7v-7h2v7zm4 0h-2V7h2v10zm4 0h-2v-4h2v4z\"/>\n",
              "    </g>\n",
              "</svg>\n",
              "      </button>\n",
              "\n",
              "<style>\n",
              "  .colab-df-quickchart {\n",
              "      --bg-color: #E8F0FE;\n",
              "      --fill-color: #1967D2;\n",
              "      --hover-bg-color: #E2EBFA;\n",
              "      --hover-fill-color: #174EA6;\n",
              "      --disabled-fill-color: #AAA;\n",
              "      --disabled-bg-color: #DDD;\n",
              "  }\n",
              "\n",
              "  [theme=dark] .colab-df-quickchart {\n",
              "      --bg-color: #3B4455;\n",
              "      --fill-color: #D2E3FC;\n",
              "      --hover-bg-color: #434B5C;\n",
              "      --hover-fill-color: #FFFFFF;\n",
              "      --disabled-bg-color: #3B4455;\n",
              "      --disabled-fill-color: #666;\n",
              "  }\n",
              "\n",
              "  .colab-df-quickchart {\n",
              "    background-color: var(--bg-color);\n",
              "    border: none;\n",
              "    border-radius: 50%;\n",
              "    cursor: pointer;\n",
              "    display: none;\n",
              "    fill: var(--fill-color);\n",
              "    height: 32px;\n",
              "    padding: 0;\n",
              "    width: 32px;\n",
              "  }\n",
              "\n",
              "  .colab-df-quickchart:hover {\n",
              "    background-color: var(--hover-bg-color);\n",
              "    box-shadow: 0 1px 2px rgba(60, 64, 67, 0.3), 0 1px 3px 1px rgba(60, 64, 67, 0.15);\n",
              "    fill: var(--button-hover-fill-color);\n",
              "  }\n",
              "\n",
              "  .colab-df-quickchart-complete:disabled,\n",
              "  .colab-df-quickchart-complete:disabled:hover {\n",
              "    background-color: var(--disabled-bg-color);\n",
              "    fill: var(--disabled-fill-color);\n",
              "    box-shadow: none;\n",
              "  }\n",
              "\n",
              "  .colab-df-spinner {\n",
              "    border: 2px solid var(--fill-color);\n",
              "    border-color: transparent;\n",
              "    border-bottom-color: var(--fill-color);\n",
              "    animation:\n",
              "      spin 1s steps(1) infinite;\n",
              "  }\n",
              "\n",
              "  @keyframes spin {\n",
              "    0% {\n",
              "      border-color: transparent;\n",
              "      border-bottom-color: var(--fill-color);\n",
              "      border-left-color: var(--fill-color);\n",
              "    }\n",
              "    20% {\n",
              "      border-color: transparent;\n",
              "      border-left-color: var(--fill-color);\n",
              "      border-top-color: var(--fill-color);\n",
              "    }\n",
              "    30% {\n",
              "      border-color: transparent;\n",
              "      border-left-color: var(--fill-color);\n",
              "      border-top-color: var(--fill-color);\n",
              "      border-right-color: var(--fill-color);\n",
              "    }\n",
              "    40% {\n",
              "      border-color: transparent;\n",
              "      border-right-color: var(--fill-color);\n",
              "      border-top-color: var(--fill-color);\n",
              "    }\n",
              "    60% {\n",
              "      border-color: transparent;\n",
              "      border-right-color: var(--fill-color);\n",
              "    }\n",
              "    80% {\n",
              "      border-color: transparent;\n",
              "      border-right-color: var(--fill-color);\n",
              "      border-bottom-color: var(--fill-color);\n",
              "    }\n",
              "    90% {\n",
              "      border-color: transparent;\n",
              "      border-bottom-color: var(--fill-color);\n",
              "    }\n",
              "  }\n",
              "</style>\n",
              "\n",
              "      <script>\n",
              "        async function quickchart(key) {\n",
              "          const quickchartButtonEl =\n",
              "            document.querySelector('#' + key + ' button');\n",
              "          quickchartButtonEl.disabled = true;  // To prevent multiple clicks.\n",
              "          quickchartButtonEl.classList.add('colab-df-spinner');\n",
              "          try {\n",
              "            const charts = await google.colab.kernel.invokeFunction(\n",
              "                'suggestCharts', [key], {});\n",
              "          } catch (error) {\n",
              "            console.error('Error during call to suggestCharts:', error);\n",
              "          }\n",
              "          quickchartButtonEl.classList.remove('colab-df-spinner');\n",
              "          quickchartButtonEl.classList.add('colab-df-quickchart-complete');\n",
              "        }\n",
              "        (() => {\n",
              "          let quickchartButtonEl =\n",
              "            document.querySelector('#df-5a406949-eab8-498f-af59-d70edc555b36 button');\n",
              "          quickchartButtonEl.style.display =\n",
              "            google.colab.kernel.accessAllowed ? 'block' : 'none';\n",
              "        })();\n",
              "      </script>\n",
              "    </div>\n",
              "\n",
              "    </div>\n",
              "  </div>\n"
            ],
            "application/vnd.google.colaboratory.intrinsic+json": {
              "type": "dataframe",
              "variable_name": "hotels_reviews",
              "summary": "{\n  \"name\": \"hotels_reviews\",\n  \"rows\": 50000,\n  \"fields\": [\n    {\n      \"column\": \"hotel_name\",\n      \"properties\": {\n        \"dtype\": \"category\",\n        \"num_unique_values\": 25,\n        \"samples\": [\n          \"Berlin Mitte Elite\",\n          \"Kremlin Suites\",\n          \"The Azure Tower\"\n        ],\n        \"semantic_type\": \"\",\n        \"description\": \"\"\n      }\n    },\n    {\n      \"column\": \"country\",\n      \"properties\": {\n        \"dtype\": \"category\",\n        \"num_unique_values\": 25,\n        \"samples\": [\n          \"Germany\",\n          \"Russia\",\n          \"United States\"\n        ],\n        \"semantic_type\": \"\",\n        \"description\": \"\"\n      }\n    },\n    {\n      \"column\": \"score_overall\",\n      \"properties\": {\n        \"dtype\": \"number\",\n        \"std\": 0.1808775351823766,\n        \"min\": 8.2,\n        \"max\": 9.6,\n        \"num_unique_values\": 15,\n        \"samples\": [\n          9.3,\n          9.5,\n          8.7\n        ],\n        \"semantic_type\": \"\",\n        \"description\": \"\"\n      }\n    }\n  ]\n}"
            }
          },
          "metadata": {},
          "execution_count": 11
        }
      ]
    },
    {
      "cell_type": "markdown",
      "source": [
        "## Actividad 2 (Dificultad *)\n",
        "Reproducir la siguiente consulta SQL con Pandas\n",
        "\n",
        "\n",
        "```\n",
        "select h.hotel_name, h.country, avg(r.score_overall) as avg_score\n",
        "from  hotels h join reviews r\n",
        "on h.hotel_id == r.hotel_id\n",
        "GROUP by h.hotel_name, h.country\n",
        "```"
      ],
      "metadata": {
        "id": "jAZtiDYcPXtl"
      }
    },
    {
      "cell_type": "code",
      "source": [
        "# Merge (equivalente al SQL JOIN)\n",
        "hotels_reviews = hotels_reviews[[\"hotel_name\", \"country\", \"score_overall\"]]"
      ],
      "metadata": {
        "id": "D6Qw7xsNQdiV"
      },
      "execution_count": 17,
      "outputs": []
    },
    {
      "cell_type": "code",
      "source": [
        "# Agrupación / Agregación\n",
        "# Acá aparece cada hotel con una única puntuación promedio\n",
        "result = hotels_reviews.groupby([\"hotel_name\", \"country\"]).agg(\n",
        "    avg_score = (\"score_overall\", \"mean\")\n",
        ")\n",
        "result.head()"
      ],
      "metadata": {
        "id": "1BsoSM6ISPJ0",
        "colab": {
          "base_uri": "https://localhost:8080/",
          "height": 237
        },
        "outputId": "29bf6d11-cdbe-4300-b056-41311e205b64"
      },
      "execution_count": 22,
      "outputs": [
        {
          "output_type": "execute_result",
          "data": {
            "text/plain": [
              "                                   avg_score\n",
              "hotel_name         country                  \n",
              "The Kiwi Grand     New Zealand      9.016311\n",
              "The Maple Grove    Canada           9.035692\n",
              "The Orchid Palace  Thailand         9.006521\n",
              "The Royal Compass  United Kingdom   8.881020\n",
              "The Savannah House Nigeria          8.694632"
            ],
            "text/html": [
              "\n",
              "  <div id=\"df-47b1af35-3b58-4121-9ba9-2ff630bc07f3\" class=\"colab-df-container\">\n",
              "    <div>\n",
              "<style scoped>\n",
              "    .dataframe tbody tr th:only-of-type {\n",
              "        vertical-align: middle;\n",
              "    }\n",
              "\n",
              "    .dataframe tbody tr th {\n",
              "        vertical-align: top;\n",
              "    }\n",
              "\n",
              "    .dataframe thead th {\n",
              "        text-align: right;\n",
              "    }\n",
              "</style>\n",
              "<table border=\"1\" class=\"dataframe\">\n",
              "  <thead>\n",
              "    <tr style=\"text-align: right;\">\n",
              "      <th></th>\n",
              "      <th></th>\n",
              "      <th>avg_score</th>\n",
              "    </tr>\n",
              "    <tr>\n",
              "      <th>hotel_name</th>\n",
              "      <th>country</th>\n",
              "      <th></th>\n",
              "    </tr>\n",
              "  </thead>\n",
              "  <tbody>\n",
              "    <tr>\n",
              "      <th>The Kiwi Grand</th>\n",
              "      <th>New Zealand</th>\n",
              "      <td>9.016311</td>\n",
              "    </tr>\n",
              "    <tr>\n",
              "      <th>The Maple Grove</th>\n",
              "      <th>Canada</th>\n",
              "      <td>9.035692</td>\n",
              "    </tr>\n",
              "    <tr>\n",
              "      <th>The Orchid Palace</th>\n",
              "      <th>Thailand</th>\n",
              "      <td>9.006521</td>\n",
              "    </tr>\n",
              "    <tr>\n",
              "      <th>The Royal Compass</th>\n",
              "      <th>United Kingdom</th>\n",
              "      <td>8.881020</td>\n",
              "    </tr>\n",
              "    <tr>\n",
              "      <th>The Savannah House</th>\n",
              "      <th>Nigeria</th>\n",
              "      <td>8.694632</td>\n",
              "    </tr>\n",
              "  </tbody>\n",
              "</table>\n",
              "</div>\n",
              "    <div class=\"colab-df-buttons\">\n",
              "\n",
              "  <div class=\"colab-df-container\">\n",
              "    <button class=\"colab-df-convert\" onclick=\"convertToInteractive('df-47b1af35-3b58-4121-9ba9-2ff630bc07f3')\"\n",
              "            title=\"Convert this dataframe to an interactive table.\"\n",
              "            style=\"display:none;\">\n",
              "\n",
              "  <svg xmlns=\"http://www.w3.org/2000/svg\" height=\"24px\" viewBox=\"0 -960 960 960\">\n",
              "    <path d=\"M120-120v-720h720v720H120Zm60-500h600v-160H180v160Zm220 220h160v-160H400v160Zm0 220h160v-160H400v160ZM180-400h160v-160H180v160Zm440 0h160v-160H620v160ZM180-180h160v-160H180v160Zm440 0h160v-160H620v160Z\"/>\n",
              "  </svg>\n",
              "    </button>\n",
              "\n",
              "  <style>\n",
              "    .colab-df-container {\n",
              "      display:flex;\n",
              "      gap: 12px;\n",
              "    }\n",
              "\n",
              "    .colab-df-convert {\n",
              "      background-color: #E8F0FE;\n",
              "      border: none;\n",
              "      border-radius: 50%;\n",
              "      cursor: pointer;\n",
              "      display: none;\n",
              "      fill: #1967D2;\n",
              "      height: 32px;\n",
              "      padding: 0 0 0 0;\n",
              "      width: 32px;\n",
              "    }\n",
              "\n",
              "    .colab-df-convert:hover {\n",
              "      background-color: #E2EBFA;\n",
              "      box-shadow: 0px 1px 2px rgba(60, 64, 67, 0.3), 0px 1px 3px 1px rgba(60, 64, 67, 0.15);\n",
              "      fill: #174EA6;\n",
              "    }\n",
              "\n",
              "    .colab-df-buttons div {\n",
              "      margin-bottom: 4px;\n",
              "    }\n",
              "\n",
              "    [theme=dark] .colab-df-convert {\n",
              "      background-color: #3B4455;\n",
              "      fill: #D2E3FC;\n",
              "    }\n",
              "\n",
              "    [theme=dark] .colab-df-convert:hover {\n",
              "      background-color: #434B5C;\n",
              "      box-shadow: 0px 1px 3px 1px rgba(0, 0, 0, 0.15);\n",
              "      filter: drop-shadow(0px 1px 2px rgba(0, 0, 0, 0.3));\n",
              "      fill: #FFFFFF;\n",
              "    }\n",
              "  </style>\n",
              "\n",
              "    <script>\n",
              "      const buttonEl =\n",
              "        document.querySelector('#df-47b1af35-3b58-4121-9ba9-2ff630bc07f3 button.colab-df-convert');\n",
              "      buttonEl.style.display =\n",
              "        google.colab.kernel.accessAllowed ? 'block' : 'none';\n",
              "\n",
              "      async function convertToInteractive(key) {\n",
              "        const element = document.querySelector('#df-47b1af35-3b58-4121-9ba9-2ff630bc07f3');\n",
              "        const dataTable =\n",
              "          await google.colab.kernel.invokeFunction('convertToInteractive',\n",
              "                                                    [key], {});\n",
              "        if (!dataTable) return;\n",
              "\n",
              "        const docLinkHtml = 'Like what you see? Visit the ' +\n",
              "          '<a target=\"_blank\" href=https://colab.research.google.com/notebooks/data_table.ipynb>data table notebook</a>'\n",
              "          + ' to learn more about interactive tables.';\n",
              "        element.innerHTML = '';\n",
              "        dataTable['output_type'] = 'display_data';\n",
              "        await google.colab.output.renderOutput(dataTable, element);\n",
              "        const docLink = document.createElement('div');\n",
              "        docLink.innerHTML = docLinkHtml;\n",
              "        element.appendChild(docLink);\n",
              "      }\n",
              "    </script>\n",
              "  </div>\n",
              "\n",
              "\n",
              "    <div id=\"df-f5e07e59-3abc-4bf3-8cd2-2ee2c0492a94\">\n",
              "      <button class=\"colab-df-quickchart\" onclick=\"quickchart('df-f5e07e59-3abc-4bf3-8cd2-2ee2c0492a94')\"\n",
              "                title=\"Suggest charts\"\n",
              "                style=\"display:none;\">\n",
              "\n",
              "<svg xmlns=\"http://www.w3.org/2000/svg\" height=\"24px\"viewBox=\"0 0 24 24\"\n",
              "     width=\"24px\">\n",
              "    <g>\n",
              "        <path d=\"M19 3H5c-1.1 0-2 .9-2 2v14c0 1.1.9 2 2 2h14c1.1 0 2-.9 2-2V5c0-1.1-.9-2-2-2zM9 17H7v-7h2v7zm4 0h-2V7h2v10zm4 0h-2v-4h2v4z\"/>\n",
              "    </g>\n",
              "</svg>\n",
              "      </button>\n",
              "\n",
              "<style>\n",
              "  .colab-df-quickchart {\n",
              "      --bg-color: #E8F0FE;\n",
              "      --fill-color: #1967D2;\n",
              "      --hover-bg-color: #E2EBFA;\n",
              "      --hover-fill-color: #174EA6;\n",
              "      --disabled-fill-color: #AAA;\n",
              "      --disabled-bg-color: #DDD;\n",
              "  }\n",
              "\n",
              "  [theme=dark] .colab-df-quickchart {\n",
              "      --bg-color: #3B4455;\n",
              "      --fill-color: #D2E3FC;\n",
              "      --hover-bg-color: #434B5C;\n",
              "      --hover-fill-color: #FFFFFF;\n",
              "      --disabled-bg-color: #3B4455;\n",
              "      --disabled-fill-color: #666;\n",
              "  }\n",
              "\n",
              "  .colab-df-quickchart {\n",
              "    background-color: var(--bg-color);\n",
              "    border: none;\n",
              "    border-radius: 50%;\n",
              "    cursor: pointer;\n",
              "    display: none;\n",
              "    fill: var(--fill-color);\n",
              "    height: 32px;\n",
              "    padding: 0;\n",
              "    width: 32px;\n",
              "  }\n",
              "\n",
              "  .colab-df-quickchart:hover {\n",
              "    background-color: var(--hover-bg-color);\n",
              "    box-shadow: 0 1px 2px rgba(60, 64, 67, 0.3), 0 1px 3px 1px rgba(60, 64, 67, 0.15);\n",
              "    fill: var(--button-hover-fill-color);\n",
              "  }\n",
              "\n",
              "  .colab-df-quickchart-complete:disabled,\n",
              "  .colab-df-quickchart-complete:disabled:hover {\n",
              "    background-color: var(--disabled-bg-color);\n",
              "    fill: var(--disabled-fill-color);\n",
              "    box-shadow: none;\n",
              "  }\n",
              "\n",
              "  .colab-df-spinner {\n",
              "    border: 2px solid var(--fill-color);\n",
              "    border-color: transparent;\n",
              "    border-bottom-color: var(--fill-color);\n",
              "    animation:\n",
              "      spin 1s steps(1) infinite;\n",
              "  }\n",
              "\n",
              "  @keyframes spin {\n",
              "    0% {\n",
              "      border-color: transparent;\n",
              "      border-bottom-color: var(--fill-color);\n",
              "      border-left-color: var(--fill-color);\n",
              "    }\n",
              "    20% {\n",
              "      border-color: transparent;\n",
              "      border-left-color: var(--fill-color);\n",
              "      border-top-color: var(--fill-color);\n",
              "    }\n",
              "    30% {\n",
              "      border-color: transparent;\n",
              "      border-left-color: var(--fill-color);\n",
              "      border-top-color: var(--fill-color);\n",
              "      border-right-color: var(--fill-color);\n",
              "    }\n",
              "    40% {\n",
              "      border-color: transparent;\n",
              "      border-right-color: var(--fill-color);\n",
              "      border-top-color: var(--fill-color);\n",
              "    }\n",
              "    60% {\n",
              "      border-color: transparent;\n",
              "      border-right-color: var(--fill-color);\n",
              "    }\n",
              "    80% {\n",
              "      border-color: transparent;\n",
              "      border-right-color: var(--fill-color);\n",
              "      border-bottom-color: var(--fill-color);\n",
              "    }\n",
              "    90% {\n",
              "      border-color: transparent;\n",
              "      border-bottom-color: var(--fill-color);\n",
              "    }\n",
              "  }\n",
              "</style>\n",
              "\n",
              "      <script>\n",
              "        async function quickchart(key) {\n",
              "          const quickchartButtonEl =\n",
              "            document.querySelector('#' + key + ' button');\n",
              "          quickchartButtonEl.disabled = true;  // To prevent multiple clicks.\n",
              "          quickchartButtonEl.classList.add('colab-df-spinner');\n",
              "          try {\n",
              "            const charts = await google.colab.kernel.invokeFunction(\n",
              "                'suggestCharts', [key], {});\n",
              "          } catch (error) {\n",
              "            console.error('Error during call to suggestCharts:', error);\n",
              "          }\n",
              "          quickchartButtonEl.classList.remove('colab-df-spinner');\n",
              "          quickchartButtonEl.classList.add('colab-df-quickchart-complete');\n",
              "        }\n",
              "        (() => {\n",
              "          let quickchartButtonEl =\n",
              "            document.querySelector('#df-f5e07e59-3abc-4bf3-8cd2-2ee2c0492a94 button');\n",
              "          quickchartButtonEl.style.display =\n",
              "            google.colab.kernel.accessAllowed ? 'block' : 'none';\n",
              "        })();\n",
              "      </script>\n",
              "    </div>\n",
              "\n",
              "    </div>\n",
              "  </div>\n"
            ],
            "application/vnd.google.colaboratory.intrinsic+json": {
              "type": "dataframe",
              "summary": "{\n  \"name\": \"result\",\n  \"rows\": 5,\n  \"fields\": [\n    {\n      \"column\": \"avg_score\",\n      \"properties\": {\n        \"dtype\": \"number\",\n        \"std\": 0.14337287168927312,\n        \"min\": 8.694631527574426,\n        \"max\": 9.035692464358451,\n        \"num_unique_values\": 5,\n        \"samples\": [\n          9.035692464358451,\n          8.694631527574426,\n          9.006520681265208\n        ],\n        \"semantic_type\": \"\",\n        \"description\": \"\"\n      }\n    }\n  ]\n}"
            }
          },
          "metadata": {},
          "execution_count": 22
        }
      ]
    },
    {
      "cell_type": "markdown",
      "source": [
        "## Actividad 3 (Dificultad ***)\n",
        "Reproducir la siguiente consulta SQL con Pandas\n",
        "\n",
        "\n",
        "```\n",
        "select h.hotel_name, h.country, avg(r.score_overall) as avg_score\n",
        "from  hotels h join reviews r\n",
        "on h.hotel_id == r.hotel_id\n",
        "WHERE h.country like '%argentina%'\n",
        "GROUP by h.hotel_name, h.country\n",
        "```\n",
        "\n"
      ],
      "metadata": {
        "id": "s9AVlDLrVYkK"
      }
    },
    {
      "cell_type": "code",
      "source": [
        "df_final_pandas = (\n",
        "    pd.merge(df_hotels, df_reviews, on='hotel_id', how='inner') # 1. JOIN\n",
        "    .loc[lambda df: df['country'].str.contains('argentina', case=False, na=False)] # 2. WHERE\n",
        "    .groupby(['hotel_name', 'country'])['score_overall'].mean() # 3. GROUP BY y AVG\n",
        "    .reset_index(name='avg_score') # Convierte la Serie agrupada de vuelta a DataFrame\n",
        "    .loc[lambda df: df['avg_score'] > 4.0] # 4. HAVING\n",
        ")\n",
        "\n",
        "print(df_final_pandas)"
      ],
      "metadata": {
        "id": "Q9gvUjKiHbJs"
      },
      "execution_count": null,
      "outputs": []
    },
    {
      "cell_type": "code",
      "source": [
        "# Merge (equivalente al SQL JOIN)\n",
        "hotels_reviews = hotels_reviews[[\"hotel_name\", \"country\", \"score_overall\"]]"
      ],
      "metadata": {
        "id": "DahBgo4NPi-z"
      },
      "execution_count": 23,
      "outputs": []
    },
    {
      "cell_type": "code",
      "source": [
        "# Filtro (equivalente al WHERE con LIKE)\n",
        "filtered=hotels_reviews[hotels_reviews[\"country\"].str.contains(\"Argentina\", case=False)]\n",
        "filtered.head()\n"
      ],
      "metadata": {
        "id": "4jc3uuS3VCLb",
        "colab": {
          "base_uri": "https://localhost:8080/",
          "height": 206
        },
        "outputId": "5209cbed-3432-4c43-e9a4-c07fde750537"
      },
      "execution_count": 24,
      "outputs": [
        {
          "output_type": "execute_result",
          "data": {
            "text/plain": [
              "           hotel_name    country  score_overall\n",
              "43935  Tango Boutique  Argentina            8.9\n",
              "43936  Tango Boutique  Argentina            8.9\n",
              "43937  Tango Boutique  Argentina            8.7\n",
              "43938  Tango Boutique  Argentina            9.0\n",
              "43939  Tango Boutique  Argentina            8.9"
            ],
            "text/html": [
              "\n",
              "  <div id=\"df-e1231cdf-d9cc-4eef-9209-7901cfa2e02e\" class=\"colab-df-container\">\n",
              "    <div>\n",
              "<style scoped>\n",
              "    .dataframe tbody tr th:only-of-type {\n",
              "        vertical-align: middle;\n",
              "    }\n",
              "\n",
              "    .dataframe tbody tr th {\n",
              "        vertical-align: top;\n",
              "    }\n",
              "\n",
              "    .dataframe thead th {\n",
              "        text-align: right;\n",
              "    }\n",
              "</style>\n",
              "<table border=\"1\" class=\"dataframe\">\n",
              "  <thead>\n",
              "    <tr style=\"text-align: right;\">\n",
              "      <th></th>\n",
              "      <th>hotel_name</th>\n",
              "      <th>country</th>\n",
              "      <th>score_overall</th>\n",
              "    </tr>\n",
              "  </thead>\n",
              "  <tbody>\n",
              "    <tr>\n",
              "      <th>43935</th>\n",
              "      <td>Tango Boutique</td>\n",
              "      <td>Argentina</td>\n",
              "      <td>8.9</td>\n",
              "    </tr>\n",
              "    <tr>\n",
              "      <th>43936</th>\n",
              "      <td>Tango Boutique</td>\n",
              "      <td>Argentina</td>\n",
              "      <td>8.9</td>\n",
              "    </tr>\n",
              "    <tr>\n",
              "      <th>43937</th>\n",
              "      <td>Tango Boutique</td>\n",
              "      <td>Argentina</td>\n",
              "      <td>8.7</td>\n",
              "    </tr>\n",
              "    <tr>\n",
              "      <th>43938</th>\n",
              "      <td>Tango Boutique</td>\n",
              "      <td>Argentina</td>\n",
              "      <td>9.0</td>\n",
              "    </tr>\n",
              "    <tr>\n",
              "      <th>43939</th>\n",
              "      <td>Tango Boutique</td>\n",
              "      <td>Argentina</td>\n",
              "      <td>8.9</td>\n",
              "    </tr>\n",
              "  </tbody>\n",
              "</table>\n",
              "</div>\n",
              "    <div class=\"colab-df-buttons\">\n",
              "\n",
              "  <div class=\"colab-df-container\">\n",
              "    <button class=\"colab-df-convert\" onclick=\"convertToInteractive('df-e1231cdf-d9cc-4eef-9209-7901cfa2e02e')\"\n",
              "            title=\"Convert this dataframe to an interactive table.\"\n",
              "            style=\"display:none;\">\n",
              "\n",
              "  <svg xmlns=\"http://www.w3.org/2000/svg\" height=\"24px\" viewBox=\"0 -960 960 960\">\n",
              "    <path d=\"M120-120v-720h720v720H120Zm60-500h600v-160H180v160Zm220 220h160v-160H400v160Zm0 220h160v-160H400v160ZM180-400h160v-160H180v160Zm440 0h160v-160H620v160ZM180-180h160v-160H180v160Zm440 0h160v-160H620v160Z\"/>\n",
              "  </svg>\n",
              "    </button>\n",
              "\n",
              "  <style>\n",
              "    .colab-df-container {\n",
              "      display:flex;\n",
              "      gap: 12px;\n",
              "    }\n",
              "\n",
              "    .colab-df-convert {\n",
              "      background-color: #E8F0FE;\n",
              "      border: none;\n",
              "      border-radius: 50%;\n",
              "      cursor: pointer;\n",
              "      display: none;\n",
              "      fill: #1967D2;\n",
              "      height: 32px;\n",
              "      padding: 0 0 0 0;\n",
              "      width: 32px;\n",
              "    }\n",
              "\n",
              "    .colab-df-convert:hover {\n",
              "      background-color: #E2EBFA;\n",
              "      box-shadow: 0px 1px 2px rgba(60, 64, 67, 0.3), 0px 1px 3px 1px rgba(60, 64, 67, 0.15);\n",
              "      fill: #174EA6;\n",
              "    }\n",
              "\n",
              "    .colab-df-buttons div {\n",
              "      margin-bottom: 4px;\n",
              "    }\n",
              "\n",
              "    [theme=dark] .colab-df-convert {\n",
              "      background-color: #3B4455;\n",
              "      fill: #D2E3FC;\n",
              "    }\n",
              "\n",
              "    [theme=dark] .colab-df-convert:hover {\n",
              "      background-color: #434B5C;\n",
              "      box-shadow: 0px 1px 3px 1px rgba(0, 0, 0, 0.15);\n",
              "      filter: drop-shadow(0px 1px 2px rgba(0, 0, 0, 0.3));\n",
              "      fill: #FFFFFF;\n",
              "    }\n",
              "  </style>\n",
              "\n",
              "    <script>\n",
              "      const buttonEl =\n",
              "        document.querySelector('#df-e1231cdf-d9cc-4eef-9209-7901cfa2e02e button.colab-df-convert');\n",
              "      buttonEl.style.display =\n",
              "        google.colab.kernel.accessAllowed ? 'block' : 'none';\n",
              "\n",
              "      async function convertToInteractive(key) {\n",
              "        const element = document.querySelector('#df-e1231cdf-d9cc-4eef-9209-7901cfa2e02e');\n",
              "        const dataTable =\n",
              "          await google.colab.kernel.invokeFunction('convertToInteractive',\n",
              "                                                    [key], {});\n",
              "        if (!dataTable) return;\n",
              "\n",
              "        const docLinkHtml = 'Like what you see? Visit the ' +\n",
              "          '<a target=\"_blank\" href=https://colab.research.google.com/notebooks/data_table.ipynb>data table notebook</a>'\n",
              "          + ' to learn more about interactive tables.';\n",
              "        element.innerHTML = '';\n",
              "        dataTable['output_type'] = 'display_data';\n",
              "        await google.colab.output.renderOutput(dataTable, element);\n",
              "        const docLink = document.createElement('div');\n",
              "        docLink.innerHTML = docLinkHtml;\n",
              "        element.appendChild(docLink);\n",
              "      }\n",
              "    </script>\n",
              "  </div>\n",
              "\n",
              "\n",
              "    <div id=\"df-fe916048-8d06-4158-a1c1-2d10348573ee\">\n",
              "      <button class=\"colab-df-quickchart\" onclick=\"quickchart('df-fe916048-8d06-4158-a1c1-2d10348573ee')\"\n",
              "                title=\"Suggest charts\"\n",
              "                style=\"display:none;\">\n",
              "\n",
              "<svg xmlns=\"http://www.w3.org/2000/svg\" height=\"24px\"viewBox=\"0 0 24 24\"\n",
              "     width=\"24px\">\n",
              "    <g>\n",
              "        <path d=\"M19 3H5c-1.1 0-2 .9-2 2v14c0 1.1.9 2 2 2h14c1.1 0 2-.9 2-2V5c0-1.1-.9-2-2-2zM9 17H7v-7h2v7zm4 0h-2V7h2v10zm4 0h-2v-4h2v4z\"/>\n",
              "    </g>\n",
              "</svg>\n",
              "      </button>\n",
              "\n",
              "<style>\n",
              "  .colab-df-quickchart {\n",
              "      --bg-color: #E8F0FE;\n",
              "      --fill-color: #1967D2;\n",
              "      --hover-bg-color: #E2EBFA;\n",
              "      --hover-fill-color: #174EA6;\n",
              "      --disabled-fill-color: #AAA;\n",
              "      --disabled-bg-color: #DDD;\n",
              "  }\n",
              "\n",
              "  [theme=dark] .colab-df-quickchart {\n",
              "      --bg-color: #3B4455;\n",
              "      --fill-color: #D2E3FC;\n",
              "      --hover-bg-color: #434B5C;\n",
              "      --hover-fill-color: #FFFFFF;\n",
              "      --disabled-bg-color: #3B4455;\n",
              "      --disabled-fill-color: #666;\n",
              "  }\n",
              "\n",
              "  .colab-df-quickchart {\n",
              "    background-color: var(--bg-color);\n",
              "    border: none;\n",
              "    border-radius: 50%;\n",
              "    cursor: pointer;\n",
              "    display: none;\n",
              "    fill: var(--fill-color);\n",
              "    height: 32px;\n",
              "    padding: 0;\n",
              "    width: 32px;\n",
              "  }\n",
              "\n",
              "  .colab-df-quickchart:hover {\n",
              "    background-color: var(--hover-bg-color);\n",
              "    box-shadow: 0 1px 2px rgba(60, 64, 67, 0.3), 0 1px 3px 1px rgba(60, 64, 67, 0.15);\n",
              "    fill: var(--button-hover-fill-color);\n",
              "  }\n",
              "\n",
              "  .colab-df-quickchart-complete:disabled,\n",
              "  .colab-df-quickchart-complete:disabled:hover {\n",
              "    background-color: var(--disabled-bg-color);\n",
              "    fill: var(--disabled-fill-color);\n",
              "    box-shadow: none;\n",
              "  }\n",
              "\n",
              "  .colab-df-spinner {\n",
              "    border: 2px solid var(--fill-color);\n",
              "    border-color: transparent;\n",
              "    border-bottom-color: var(--fill-color);\n",
              "    animation:\n",
              "      spin 1s steps(1) infinite;\n",
              "  }\n",
              "\n",
              "  @keyframes spin {\n",
              "    0% {\n",
              "      border-color: transparent;\n",
              "      border-bottom-color: var(--fill-color);\n",
              "      border-left-color: var(--fill-color);\n",
              "    }\n",
              "    20% {\n",
              "      border-color: transparent;\n",
              "      border-left-color: var(--fill-color);\n",
              "      border-top-color: var(--fill-color);\n",
              "    }\n",
              "    30% {\n",
              "      border-color: transparent;\n",
              "      border-left-color: var(--fill-color);\n",
              "      border-top-color: var(--fill-color);\n",
              "      border-right-color: var(--fill-color);\n",
              "    }\n",
              "    40% {\n",
              "      border-color: transparent;\n",
              "      border-right-color: var(--fill-color);\n",
              "      border-top-color: var(--fill-color);\n",
              "    }\n",
              "    60% {\n",
              "      border-color: transparent;\n",
              "      border-right-color: var(--fill-color);\n",
              "    }\n",
              "    80% {\n",
              "      border-color: transparent;\n",
              "      border-right-color: var(--fill-color);\n",
              "      border-bottom-color: var(--fill-color);\n",
              "    }\n",
              "    90% {\n",
              "      border-color: transparent;\n",
              "      border-bottom-color: var(--fill-color);\n",
              "    }\n",
              "  }\n",
              "</style>\n",
              "\n",
              "      <script>\n",
              "        async function quickchart(key) {\n",
              "          const quickchartButtonEl =\n",
              "            document.querySelector('#' + key + ' button');\n",
              "          quickchartButtonEl.disabled = true;  // To prevent multiple clicks.\n",
              "          quickchartButtonEl.classList.add('colab-df-spinner');\n",
              "          try {\n",
              "            const charts = await google.colab.kernel.invokeFunction(\n",
              "                'suggestCharts', [key], {});\n",
              "          } catch (error) {\n",
              "            console.error('Error during call to suggestCharts:', error);\n",
              "          }\n",
              "          quickchartButtonEl.classList.remove('colab-df-spinner');\n",
              "          quickchartButtonEl.classList.add('colab-df-quickchart-complete');\n",
              "        }\n",
              "        (() => {\n",
              "          let quickchartButtonEl =\n",
              "            document.querySelector('#df-fe916048-8d06-4158-a1c1-2d10348573ee button');\n",
              "          quickchartButtonEl.style.display =\n",
              "            google.colab.kernel.accessAllowed ? 'block' : 'none';\n",
              "        })();\n",
              "      </script>\n",
              "    </div>\n",
              "\n",
              "    </div>\n",
              "  </div>\n"
            ],
            "application/vnd.google.colaboratory.intrinsic+json": {
              "type": "dataframe",
              "variable_name": "filtered",
              "summary": "{\n  \"name\": \"filtered\",\n  \"rows\": 1956,\n  \"fields\": [\n    {\n      \"column\": \"hotel_name\",\n      \"properties\": {\n        \"dtype\": \"category\",\n        \"num_unique_values\": 1,\n        \"samples\": [\n          \"Tango Boutique\"\n        ],\n        \"semantic_type\": \"\",\n        \"description\": \"\"\n      }\n    },\n    {\n      \"column\": \"country\",\n      \"properties\": {\n        \"dtype\": \"category\",\n        \"num_unique_values\": 1,\n        \"samples\": [\n          \"Argentina\"\n        ],\n        \"semantic_type\": \"\",\n        \"description\": \"\"\n      }\n    },\n    {\n      \"column\": \"score_overall\",\n      \"properties\": {\n        \"dtype\": \"number\",\n        \"std\": 0.14935534953327836,\n        \"min\": 8.3,\n        \"max\": 9.3,\n        \"num_unique_values\": 11,\n        \"samples\": [\n          8.6\n        ],\n        \"semantic_type\": \"\",\n        \"description\": \"\"\n      }\n    }\n  ]\n}"
            }
          },
          "metadata": {},
          "execution_count": 24
        }
      ]
    },
    {
      "cell_type": "code",
      "source": [
        "# Agrupación y promedio (equivalente al GROUP BY y AVG)\n",
        "result=(\n",
        "    filtered.groupby([\"hotel_name\", \"country\"])\n",
        "    .agg(avg_score=(\"score_overall\", \"mean\"))\n",
        ")\n",
        "result.head()\n"
      ],
      "metadata": {
        "id": "SrjCleHDVTMr"
      },
      "execution_count": null,
      "outputs": []
    },
    {
      "cell_type": "markdown",
      "source": [
        "## Bonus Track\n",
        "Usar OpenStreetMap para encontrar la dirección del Hotel"
      ],
      "metadata": {
        "id": "pzmqNe2uTaBE"
      }
    },
    {
      "cell_type": "code",
      "source": [
        "hotels[hotels[\"hotel_name\"]==\"Tango Boutique\"]"
      ],
      "metadata": {
        "colab": {
          "base_uri": "https://localhost:8080/",
          "height": 118
        },
        "id": "fqCehadyBMjf",
        "outputId": "4016d0c5-ccfc-44b9-d3bc-e8ed53c65885"
      },
      "execution_count": 25,
      "outputs": [
        {
          "output_type": "execute_result",
          "data": {
            "text/plain": [
              "    hotel_id      hotel_name          city    country  star_rating      lat  \\\n",
              "22        23  Tango Boutique  Buenos Aires  Argentina            5 -34.6037   \n",
              "\n",
              "        lon  cleanliness_base  comfort_base  facilities_base  location_base  \\\n",
              "22 -58.3816               8.9           8.8              8.7            9.0   \n",
              "\n",
              "    staff_base  value_for_money_base  \n",
              "22         8.8                   8.7  "
            ],
            "text/html": [
              "\n",
              "  <div id=\"df-9ad76efb-a670-4ad9-baa9-01745bbcf6a0\" class=\"colab-df-container\">\n",
              "    <div>\n",
              "<style scoped>\n",
              "    .dataframe tbody tr th:only-of-type {\n",
              "        vertical-align: middle;\n",
              "    }\n",
              "\n",
              "    .dataframe tbody tr th {\n",
              "        vertical-align: top;\n",
              "    }\n",
              "\n",
              "    .dataframe thead th {\n",
              "        text-align: right;\n",
              "    }\n",
              "</style>\n",
              "<table border=\"1\" class=\"dataframe\">\n",
              "  <thead>\n",
              "    <tr style=\"text-align: right;\">\n",
              "      <th></th>\n",
              "      <th>hotel_id</th>\n",
              "      <th>hotel_name</th>\n",
              "      <th>city</th>\n",
              "      <th>country</th>\n",
              "      <th>star_rating</th>\n",
              "      <th>lat</th>\n",
              "      <th>lon</th>\n",
              "      <th>cleanliness_base</th>\n",
              "      <th>comfort_base</th>\n",
              "      <th>facilities_base</th>\n",
              "      <th>location_base</th>\n",
              "      <th>staff_base</th>\n",
              "      <th>value_for_money_base</th>\n",
              "    </tr>\n",
              "  </thead>\n",
              "  <tbody>\n",
              "    <tr>\n",
              "      <th>22</th>\n",
              "      <td>23</td>\n",
              "      <td>Tango Boutique</td>\n",
              "      <td>Buenos Aires</td>\n",
              "      <td>Argentina</td>\n",
              "      <td>5</td>\n",
              "      <td>-34.6037</td>\n",
              "      <td>-58.3816</td>\n",
              "      <td>8.9</td>\n",
              "      <td>8.8</td>\n",
              "      <td>8.7</td>\n",
              "      <td>9.0</td>\n",
              "      <td>8.8</td>\n",
              "      <td>8.7</td>\n",
              "    </tr>\n",
              "  </tbody>\n",
              "</table>\n",
              "</div>\n",
              "    <div class=\"colab-df-buttons\">\n",
              "\n",
              "  <div class=\"colab-df-container\">\n",
              "    <button class=\"colab-df-convert\" onclick=\"convertToInteractive('df-9ad76efb-a670-4ad9-baa9-01745bbcf6a0')\"\n",
              "            title=\"Convert this dataframe to an interactive table.\"\n",
              "            style=\"display:none;\">\n",
              "\n",
              "  <svg xmlns=\"http://www.w3.org/2000/svg\" height=\"24px\" viewBox=\"0 -960 960 960\">\n",
              "    <path d=\"M120-120v-720h720v720H120Zm60-500h600v-160H180v160Zm220 220h160v-160H400v160Zm0 220h160v-160H400v160ZM180-400h160v-160H180v160Zm440 0h160v-160H620v160ZM180-180h160v-160H180v160Zm440 0h160v-160H620v160Z\"/>\n",
              "  </svg>\n",
              "    </button>\n",
              "\n",
              "  <style>\n",
              "    .colab-df-container {\n",
              "      display:flex;\n",
              "      gap: 12px;\n",
              "    }\n",
              "\n",
              "    .colab-df-convert {\n",
              "      background-color: #E8F0FE;\n",
              "      border: none;\n",
              "      border-radius: 50%;\n",
              "      cursor: pointer;\n",
              "      display: none;\n",
              "      fill: #1967D2;\n",
              "      height: 32px;\n",
              "      padding: 0 0 0 0;\n",
              "      width: 32px;\n",
              "    }\n",
              "\n",
              "    .colab-df-convert:hover {\n",
              "      background-color: #E2EBFA;\n",
              "      box-shadow: 0px 1px 2px rgba(60, 64, 67, 0.3), 0px 1px 3px 1px rgba(60, 64, 67, 0.15);\n",
              "      fill: #174EA6;\n",
              "    }\n",
              "\n",
              "    .colab-df-buttons div {\n",
              "      margin-bottom: 4px;\n",
              "    }\n",
              "\n",
              "    [theme=dark] .colab-df-convert {\n",
              "      background-color: #3B4455;\n",
              "      fill: #D2E3FC;\n",
              "    }\n",
              "\n",
              "    [theme=dark] .colab-df-convert:hover {\n",
              "      background-color: #434B5C;\n",
              "      box-shadow: 0px 1px 3px 1px rgba(0, 0, 0, 0.15);\n",
              "      filter: drop-shadow(0px 1px 2px rgba(0, 0, 0, 0.3));\n",
              "      fill: #FFFFFF;\n",
              "    }\n",
              "  </style>\n",
              "\n",
              "    <script>\n",
              "      const buttonEl =\n",
              "        document.querySelector('#df-9ad76efb-a670-4ad9-baa9-01745bbcf6a0 button.colab-df-convert');\n",
              "      buttonEl.style.display =\n",
              "        google.colab.kernel.accessAllowed ? 'block' : 'none';\n",
              "\n",
              "      async function convertToInteractive(key) {\n",
              "        const element = document.querySelector('#df-9ad76efb-a670-4ad9-baa9-01745bbcf6a0');\n",
              "        const dataTable =\n",
              "          await google.colab.kernel.invokeFunction('convertToInteractive',\n",
              "                                                    [key], {});\n",
              "        if (!dataTable) return;\n",
              "\n",
              "        const docLinkHtml = 'Like what you see? Visit the ' +\n",
              "          '<a target=\"_blank\" href=https://colab.research.google.com/notebooks/data_table.ipynb>data table notebook</a>'\n",
              "          + ' to learn more about interactive tables.';\n",
              "        element.innerHTML = '';\n",
              "        dataTable['output_type'] = 'display_data';\n",
              "        await google.colab.output.renderOutput(dataTable, element);\n",
              "        const docLink = document.createElement('div');\n",
              "        docLink.innerHTML = docLinkHtml;\n",
              "        element.appendChild(docLink);\n",
              "      }\n",
              "    </script>\n",
              "  </div>\n",
              "\n",
              "\n",
              "    </div>\n",
              "  </div>\n"
            ],
            "application/vnd.google.colaboratory.intrinsic+json": {
              "type": "dataframe",
              "summary": "{\n  \"name\": \"hotels[hotels[\\\"hotel_name\\\"]==\\\"Tango Boutique\\\"]\",\n  \"rows\": 1,\n  \"fields\": [\n    {\n      \"column\": \"hotel_id\",\n      \"properties\": {\n        \"dtype\": \"number\",\n        \"std\": null,\n        \"min\": 23,\n        \"max\": 23,\n        \"num_unique_values\": 1,\n        \"samples\": [\n          23\n        ],\n        \"semantic_type\": \"\",\n        \"description\": \"\"\n      }\n    },\n    {\n      \"column\": \"hotel_name\",\n      \"properties\": {\n        \"dtype\": \"string\",\n        \"num_unique_values\": 1,\n        \"samples\": [\n          \"Tango Boutique\"\n        ],\n        \"semantic_type\": \"\",\n        \"description\": \"\"\n      }\n    },\n    {\n      \"column\": \"city\",\n      \"properties\": {\n        \"dtype\": \"string\",\n        \"num_unique_values\": 1,\n        \"samples\": [\n          \"Buenos Aires\"\n        ],\n        \"semantic_type\": \"\",\n        \"description\": \"\"\n      }\n    },\n    {\n      \"column\": \"country\",\n      \"properties\": {\n        \"dtype\": \"string\",\n        \"num_unique_values\": 1,\n        \"samples\": [\n          \"Argentina\"\n        ],\n        \"semantic_type\": \"\",\n        \"description\": \"\"\n      }\n    },\n    {\n      \"column\": \"star_rating\",\n      \"properties\": {\n        \"dtype\": \"number\",\n        \"std\": null,\n        \"min\": 5,\n        \"max\": 5,\n        \"num_unique_values\": 1,\n        \"samples\": [\n          5\n        ],\n        \"semantic_type\": \"\",\n        \"description\": \"\"\n      }\n    },\n    {\n      \"column\": \"lat\",\n      \"properties\": {\n        \"dtype\": \"number\",\n        \"std\": null,\n        \"min\": -34.6037,\n        \"max\": -34.6037,\n        \"num_unique_values\": 1,\n        \"samples\": [\n          -34.6037\n        ],\n        \"semantic_type\": \"\",\n        \"description\": \"\"\n      }\n    },\n    {\n      \"column\": \"lon\",\n      \"properties\": {\n        \"dtype\": \"number\",\n        \"std\": null,\n        \"min\": -58.3816,\n        \"max\": -58.3816,\n        \"num_unique_values\": 1,\n        \"samples\": [\n          -58.3816\n        ],\n        \"semantic_type\": \"\",\n        \"description\": \"\"\n      }\n    },\n    {\n      \"column\": \"cleanliness_base\",\n      \"properties\": {\n        \"dtype\": \"number\",\n        \"std\": null,\n        \"min\": 8.9,\n        \"max\": 8.9,\n        \"num_unique_values\": 1,\n        \"samples\": [\n          8.9\n        ],\n        \"semantic_type\": \"\",\n        \"description\": \"\"\n      }\n    },\n    {\n      \"column\": \"comfort_base\",\n      \"properties\": {\n        \"dtype\": \"number\",\n        \"std\": null,\n        \"min\": 8.8,\n        \"max\": 8.8,\n        \"num_unique_values\": 1,\n        \"samples\": [\n          8.8\n        ],\n        \"semantic_type\": \"\",\n        \"description\": \"\"\n      }\n    },\n    {\n      \"column\": \"facilities_base\",\n      \"properties\": {\n        \"dtype\": \"number\",\n        \"std\": null,\n        \"min\": 8.7,\n        \"max\": 8.7,\n        \"num_unique_values\": 1,\n        \"samples\": [\n          8.7\n        ],\n        \"semantic_type\": \"\",\n        \"description\": \"\"\n      }\n    },\n    {\n      \"column\": \"location_base\",\n      \"properties\": {\n        \"dtype\": \"number\",\n        \"std\": null,\n        \"min\": 9.0,\n        \"max\": 9.0,\n        \"num_unique_values\": 1,\n        \"samples\": [\n          9.0\n        ],\n        \"semantic_type\": \"\",\n        \"description\": \"\"\n      }\n    },\n    {\n      \"column\": \"staff_base\",\n      \"properties\": {\n        \"dtype\": \"number\",\n        \"std\": null,\n        \"min\": 8.8,\n        \"max\": 8.8,\n        \"num_unique_values\": 1,\n        \"samples\": [\n          8.8\n        ],\n        \"semantic_type\": \"\",\n        \"description\": \"\"\n      }\n    },\n    {\n      \"column\": \"value_for_money_base\",\n      \"properties\": {\n        \"dtype\": \"number\",\n        \"std\": null,\n        \"min\": 8.7,\n        \"max\": 8.7,\n        \"num_unique_values\": 1,\n        \"samples\": [\n          8.7\n        ],\n        \"semantic_type\": \"\",\n        \"description\": \"\"\n      }\n    }\n  ]\n}"
            }
          },
          "metadata": {},
          "execution_count": 25
        }
      ]
    },
    {
      "cell_type": "code",
      "source": [
        "# https://www.openstreetmap.org/search?lat=-34.6037&lon=-58.3816&zoom=10#map=12/-37.2888/-59.1229"
      ],
      "metadata": {
        "id": "wMA5K2m7Thnz"
      },
      "execution_count": null,
      "outputs": []
    }
  ]
}