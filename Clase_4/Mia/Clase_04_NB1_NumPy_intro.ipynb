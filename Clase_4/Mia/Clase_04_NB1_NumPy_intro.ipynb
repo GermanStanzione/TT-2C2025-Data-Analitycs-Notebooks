{
  "metadata": {
    "colab": {
      "provenance": [],
      "include_colab_link": true
    },
    "kernelspec": {
      "name": "python3",
      "display_name": "Python 3"
    },
    "language_info": {
      "name": "python"
    },
    "kaggle": {
      "accelerator": "none",
      "dataSources": [],
      "isInternetEnabled": true,
      "language": "python",
      "sourceType": "notebook",
      "isGpuEnabled": false
    }
  },
  "nbformat_minor": 0,
  "nbformat": 4,
  "cells": [
    {
      "cell_type": "markdown",
      "metadata": {
        "id": "view-in-github",
        "colab_type": "text"
      },
      "source": [
        "<a href=\"https://colab.research.google.com/github/GermanStanzione/TT-2C2025-Data-Analitycs-Notebooks/blob/main/Clase_4/Mia/Clase_04_NB1_NumPy_intro.ipynb\" target=\"_parent\"><img src=\"https://colab.research.google.com/assets/colab-badge.svg\" alt=\"Open In Colab\"/></a>"
      ]
    },
    {
      "cell_type": "markdown",
      "source": [
        "# **Numpy**\n",
        "NumPy es una librería de propósito general para el procesamiento de arrays.\n",
        "Proporciona un objeto de array multidimensional de alto rendimiento y herramientas para trabajar con estos arrays.\n",
        "<BR>\n",
        "\n",
        "El nombre NumPy proviene de “Numerical Python” (Python Numérico).\n",
        "<BR>\n",
        "\n",
        "Además, incluye funciones para trabajar en los dominios de:\n",
        "* Álgebra lineal\n",
        "* Matrices\n"
      ],
      "metadata": {
        "id": "4KvJyJ9pgMUh"
      }
    },
    {
      "cell_type": "markdown",
      "source": [
        "El objeto array en NumPy se llama ndarray (N-dimensional array).\n",
        "Este objeto viene acompañado de muchas funciones que facilitan enormemente el trabajo con los ndarray."
      ],
      "metadata": {
        "id": "JADp7eUWjQjA"
      }
    },
    {
      "cell_type": "markdown",
      "source": [
        "**Por qué es más rápido que las listas tradicionales de Python?**\n",
        "<BR>\n",
        "Los arrays de NumPy se almacenan en un único espacio continuo en memoria, a diferencia de las listas, por lo que los procesos pueden acceder y manipularlos de manera muy eficiente.\n",
        "<BR>\n",
        "Además, están optimizados para funcionar con las arquitecturas de CPU más recientes."
      ],
      "metadata": {
        "id": "HkvU-LozjrC_"
      }
    },
    {
      "cell_type": "markdown",
      "source": [
        "## Importamos NumPy con el alias np"
      ],
      "metadata": {
        "id": "pCL_0PYH_R-w"
      }
    },
    {
      "cell_type": "code",
      "source": [
        "import numpy as np"
      ],
      "metadata": {
        "id": "SEniHMnElwjz"
      },
      "execution_count": 1,
      "outputs": []
    },
    {
      "cell_type": "markdown",
      "source": [
        "## Ver la versión"
      ],
      "metadata": {
        "id": "FSdvWZgplCk2"
      }
    },
    {
      "cell_type": "code",
      "source": [
        "print(np.__version__)"
      ],
      "metadata": {
        "id": "Bft3KLwqk-qA",
        "colab": {
          "base_uri": "https://localhost:8080/"
        },
        "outputId": "4dfac7c9-1808-42c5-ea86-ae900e348f19"
      },
      "execution_count": 2,
      "outputs": [
        {
          "output_type": "stream",
          "name": "stdout",
          "text": [
            "2.0.2\n"
          ]
        }
      ]
    },
    {
      "cell_type": "markdown",
      "source": [
        "## Documentación oficial\n",
        "\n",
        "\n",
        "\n",
        "\n"
      ],
      "metadata": {
        "id": "AWEXLC0h_pAr"
      }
    },
    {
      "cell_type": "markdown",
      "source": [
        "[Acceder aquí](https://numpy.org/doc/)"
      ],
      "metadata": {
        "id": "hcFoUI2R_2Vu"
      }
    },
    {
      "cell_type": "markdown",
      "source": [
        "## Crear Arrays en NumPy\n",
        "NumPy se utiliza para trabajar con arrays.\n",
        "\n",
        "El objeto array en NumPy se llama ndarray.\n",
        "\n",
        "Podemos crear un objeto ndarray de NumPy usando la función array()."
      ],
      "metadata": {
        "id": "seRqr5rrldyK"
      }
    },
    {
      "cell_type": "code",
      "source": [
        "arr = np.array([12,20,30,40,50,60])\n",
        "\n",
        "print(arr)\n",
        "print(type(arr))"
      ],
      "metadata": {
        "id": "N9dlJrRDlQrq",
        "colab": {
          "base_uri": "https://localhost:8080/"
        },
        "outputId": "0b113e9e-7335-4ff4-f7c0-40f3f449cf4a"
      },
      "execution_count": 3,
      "outputs": [
        {
          "output_type": "stream",
          "name": "stdout",
          "text": [
            "[12 20 30 40 50 60]\n",
            "<class 'numpy.ndarray'>\n"
          ]
        }
      ]
    },
    {
      "cell_type": "markdown",
      "source": [
        "Podemos pasar una lista, tupla o cualquier objeto similar a un array al método array(), y será convertido en un ndarray."
      ],
      "metadata": {
        "id": "gLoDkKa4AcaK"
      }
    },
    {
      "cell_type": "code",
      "source": [
        "arr =np.array((10,20,30,40,50,60))\n",
        "print(arr)"
      ],
      "metadata": {
        "id": "osqEyNx2mKDD",
        "outputId": "23101743-f896-40c2-ea9d-8a16ab3c119d",
        "colab": {
          "base_uri": "https://localhost:8080/"
        }
      },
      "execution_count": 4,
      "outputs": [
        {
          "output_type": "stream",
          "name": "stdout",
          "text": [
            "[10 20 30 40 50 60]\n"
          ]
        }
      ]
    },
    {
      "cell_type": "markdown",
      "source": [
        "## Crear un array dentro de un rango específico\n",
        "\n",
        "El método np.arange() puede usarse en lugar del método np.array(range())."
      ],
      "metadata": {
        "id": "sQRWp1BjegCJ"
      }
    },
    {
      "cell_type": "code",
      "source": [
        "# np.arange(start, stop, step)\n",
        "arr = np.arange(0, 21, 3)\n",
        "print(arr)\n",
        "print(type(arr))"
      ],
      "metadata": {
        "id": "bANlY6aWekAg"
      },
      "execution_count": null,
      "outputs": []
    },
    {
      "cell_type": "markdown",
      "source": [
        "## Crear un array de números equidistantes dentro de un rango específico\n",
        "\n",
        "np.linspace(start, stop, num_of_elements, endpoint=True, retstep=False) tiene 5 parámetros:\n",
        "\n",
        "start: número de inicio (inclusive)\n",
        "\n",
        "stop: número final (inclusive, a menos que endpoint esté establecido en False)\n",
        "\n",
        "num_of_elements: cantidad de elementos que contendrá el array\n",
        "\n",
        "endpoint: valor booleano que indica si el número stop está incluido o no\n",
        "\n",
        "retstep: valor booleano que indica si se debe devolver el tamaño del paso"
      ],
      "metadata": {
        "id": "2pWHP3wyep2h"
      }
    },
    {
      "cell_type": "code",
      "source": [
        "arr, step_size = np.linspace(0, 5, 10, endpoint=False, retstep=True)\n",
        "print(arr)\n",
        "print(arr.size)\n",
        "print('The step size is ' + str(step_size))"
      ],
      "metadata": {
        "id": "AAPCLkC6ezFf",
        "colab": {
          "base_uri": "https://localhost:8080/"
        },
        "outputId": "46824153-8b8d-4140-d35b-160cad4b1631"
      },
      "execution_count": 5,
      "outputs": [
        {
          "output_type": "stream",
          "name": "stdout",
          "text": [
            "[0.  0.5 1.  1.5 2.  2.5 3.  3.5 4.  4.5]\n",
            "10\n",
            "The step size is 0.5\n"
          ]
        }
      ]
    },
    {
      "cell_type": "markdown",
      "source": [
        "## Crear un array de valores aleatorios con una forma determinada\n",
        "\n",
        "El método np.random.rand() devuelve valores en el rango [0, 1)."
      ],
      "metadata": {
        "id": "Mx-9TGmgfK46"
      }
    },
    {
      "cell_type": "code",
      "source": [
        "arr = np.random.rand(3, 4)\n",
        "# arr = np.round(np.random.rand(3, 4), 2)\n",
        "print(arr)"
      ],
      "metadata": {
        "id": "cn4EMlU2fPS6",
        "colab": {
          "base_uri": "https://localhost:8080/"
        },
        "outputId": "5ac87357-7464-4411-9ffa-cddab012b28e"
      },
      "execution_count": 6,
      "outputs": [
        {
          "output_type": "stream",
          "name": "stdout",
          "text": [
            "[[0.94882555 0.2523093  0.39752118 0.74306171]\n",
            " [0.42015765 0.95796941 0.05200216 0.30556628]\n",
            " [0.47705202 0.51754119 0.23497394 0.46329098]]\n"
          ]
        }
      ]
    },
    {
      "cell_type": "markdown",
      "source": [
        "## Crear un array de ceros\n",
        "\n",
        "np.zeros(): crea un array de solo ceros con la forma especificada\n",
        "\n",
        "np.zeros_like(): crea un array de solo ceros con la misma forma y tipo de dato que el array dado como entrada"
      ],
      "metadata": {
        "id": "0J8GPnMLfSG3"
      }
    },
    {
      "cell_type": "code",
      "source": [
        "zeros = np.zeros((2,3))\n",
        "print(zeros)"
      ],
      "metadata": {
        "id": "120-y0-ofXev",
        "outputId": "5662b67a-1310-481f-caf1-594aa1a4e6b1",
        "colab": {
          "base_uri": "https://localhost:8080/"
        }
      },
      "execution_count": 7,
      "outputs": [
        {
          "output_type": "stream",
          "name": "stdout",
          "text": [
            "[[0. 0. 0.]\n",
            " [0. 0. 0.]]\n"
          ]
        }
      ]
    },
    {
      "cell_type": "markdown",
      "source": [
        "## Crear un array de unos\n",
        "\n",
        "np.ones(): crea un array de solo unos con la forma especificada\n",
        "\n",
        "np.ones_like(): crea un array de solo unos con la misma forma y tipo de dato que el array dado como entrada"
      ],
      "metadata": {
        "id": "jzzMBgpIjJeq"
      }
    },
    {
      "cell_type": "code",
      "source": [
        "ones = np.ones((3,2))\n",
        "print(ones)"
      ],
      "metadata": {
        "id": "m5wJGFZbjLeQ",
        "colab": {
          "base_uri": "https://localhost:8080/"
        },
        "outputId": "f6989f77-e776-44da-ecd1-8603bca750c5"
      },
      "execution_count": 8,
      "outputs": [
        {
          "output_type": "stream",
          "name": "stdout",
          "text": [
            "[[1. 1.]\n",
            " [1. 1.]\n",
            " [1. 1.]]\n"
          ]
        }
      ]
    },
    {
      "cell_type": "code",
      "source": [
        "arr = [[1,2,3], [4,5,6]]\n",
        "ones = np.ones_like(arr)\n",
        "print(ones)\n",
        "print('Data Type: ' + str(ones.dtype))"
      ],
      "metadata": {
        "id": "0AAoC55ijSYD"
      },
      "execution_count": null,
      "outputs": []
    },
    {
      "cell_type": "markdown",
      "source": [
        "## Crear un array vacío con una forma determinada\n",
        "\n",
        "np.empty(): crea un array de valores vacíos con la forma especificada\n",
        "\n",
        "np.empty_like(): crea un array de valores vacíos con la misma forma y tipo de dato que el array dado como entrada\n",
        "\n",
        "Ten en cuenta que los valores iniciales no están necesariamente establecidos en cero.\n",
        "\n",
        "Son simplemente valores basura que ya estaban almacenados en direcciones de memoria aleatorias."
      ],
      "metadata": {
        "id": "VFqviWkVjaVF"
      }
    },
    {
      "cell_type": "code",
      "source": [
        "empty = np.empty((2,2))\n",
        "print(empty)\n",
        "print(empty.dtype)"
      ],
      "metadata": {
        "id": "WEwT03LPjgIK"
      },
      "execution_count": null,
      "outputs": []
    },
    {
      "cell_type": "code",
      "source": [
        "newarr = np.array([[10,20,30], [40,50,60]], dtype=np.int64)\n",
        "empty = np.empty_like(newarr)\n",
        "print(empty)\n",
        "print('Data Type: ' + str(empty.dtype))"
      ],
      "metadata": {
        "id": "7baNixS5jolI"
      },
      "execution_count": null,
      "outputs": []
    },
    {
      "cell_type": "markdown",
      "source": [
        "## Crear un array de valores constantes con una forma determinada\n",
        "\n",
        "np.full(): crea un array de valores constantes con la forma especificada\n",
        "\n",
        "np.full_like(): crea un array de valores constantes con la misma forma y tipo de dato que el array dado como entrada"
      ],
      "metadata": {
        "id": "8EOIIdYAjy8t"
      }
    },
    {
      "cell_type": "code",
      "source": [
        "full = np.full((4,4), 4)\n",
        "print(full)"
      ],
      "metadata": {
        "id": "6SU_boPzkBkB"
      },
      "execution_count": null,
      "outputs": []
    },
    {
      "cell_type": "code",
      "source": [
        "arr = np.array([[1,2], [3,4]], dtype=np.int64)\n",
        "full = np.full_like(arr, 5)\n",
        "print(full)\n",
        "print('Data Type: ' + str(full.dtype))"
      ],
      "metadata": {
        "id": "GivlhatSkG19"
      },
      "execution_count": null,
      "outputs": []
    },
    {
      "cell_type": "markdown",
      "source": [
        "## **Create an identity matrix of given size**\n",
        "- ```np.eye(size, k=0)```: create an identity matrix of given size\n",
        "    - ```size```: the size of the identity matrix\n",
        "    - ```k```: the diagonal offset\n",
        "- ```np.identity()```: same as ```np.eye()``` but does not carry parameters"
      ],
      "metadata": {
        "id": "-K7TxYfRlHpU"
      }
    },
    {
      "cell_type": "code",
      "source": [
        "identity_matrix = np.eye(4)\n",
        "print(identity_matrix)\n",
        "print(type(identity_matrix))"
      ],
      "metadata": {
        "id": "Mc93q__tlN5_"
      },
      "execution_count": null,
      "outputs": []
    },
    {
      "cell_type": "code",
      "source": [
        "# An example of diagonal offset\n",
        "identity_matrix = np.eye(5, k=1) # default k = 0\n",
        "print(identity_matrix)"
      ],
      "metadata": {
        "id": "NC24vSGElTQu"
      },
      "execution_count": null,
      "outputs": []
    },
    {
      "cell_type": "code",
      "source": [
        "identity_matrix = np.identity(5)\n",
        "print(identity_matrix)\n",
        "print(type(identity_matrix))"
      ],
      "metadata": {
        "id": "wYOO5Kq5lVWY"
      },
      "execution_count": null,
      "outputs": []
    },
    {
      "cell_type": "markdown",
      "source": [
        "## No tiene que ser una matriz cuadrada"
      ],
      "metadata": {
        "id": "mHAoUjm1m3yQ"
      }
    },
    {
      "cell_type": "code",
      "source": [
        "arr = np.random.rand(5,3)\n",
        "print(arr)"
      ],
      "metadata": {
        "id": "fbHlmSrtmnBu"
      },
      "execution_count": null,
      "outputs": []
    },
    {
      "cell_type": "markdown",
      "source": [
        "# **Dimensions in Arrays**\n",
        "A **dimension** in arrays is **one level** of **array depth** (nested arrays).\n",
        "\n",
        "**Nested array:** are arrays that **have arrays as their elements.**"
      ],
      "metadata": {
        "id": "kmKF58Y8m6UV"
      }
    },
    {
      "cell_type": "markdown",
      "source": [
        "## Arrays 0-D\n",
        "\n",
        "Los arrays 0-D, o escalares, son los elementos dentro de un array.\n",
        "\n",
        "Cada valor en un array es un array 0-D."
      ],
      "metadata": {
        "id": "P7TKyt-knJLt"
      }
    },
    {
      "cell_type": "code",
      "source": [
        "#create 0-D array with value '10'\n",
        "\n",
        "arr=np.array('10')\n",
        "print(arr)"
      ],
      "metadata": {
        "id": "L5FOCJSvm3tc"
      },
      "execution_count": null,
      "outputs": []
    },
    {
      "cell_type": "markdown",
      "source": [
        "## Arrays unidimensionales (1-D)\n",
        "\n",
        "Un array que tiene arrays de 0 dimensiones (0-D) como sus elementos se llama unidimensional o array 1-D.\n",
        "\n",
        "Estos son los arrays más comunes y básicos."
      ],
      "metadata": {
        "id": "WR8nYGwmnulk"
      }
    },
    {
      "cell_type": "code",
      "source": [
        "arr = np.array([1, 2, 3, 4, 5])\n",
        "\n",
        "print(arr)"
      ],
      "metadata": {
        "id": "Yompr9xUnmsX"
      },
      "execution_count": null,
      "outputs": []
    },
    {
      "cell_type": "markdown",
      "source": [
        "## Arrays bidimensionales (2-D)\n",
        "\n",
        "Un array que tiene arrays unidimensionales (1-D) como sus elementos se llama array 2-D.\n",
        "\n",
        "Estos se utilizan frecuentemente para representar matrices o tensores de segundo orden.\n",
        "\n",
        "NumPy tiene todo un submódulo dedicado a las operaciones con matrices, llamado numpy.mat."
      ],
      "metadata": {
        "id": "DUwZ7zXPoD5a"
      }
    },
    {
      "cell_type": "code",
      "source": [
        "arr= np.array([[10,20,30],[40,50,60]])\n",
        "print(arr)"
      ],
      "metadata": {
        "id": "AZFnswKPn__R"
      },
      "execution_count": null,
      "outputs": []
    },
    {
      "cell_type": "markdown",
      "source": [
        "## Arrays tridimensionales (3-D)\n",
        "\n",
        "Un array que tiene arrays 2-D (matrices) como sus elementos se llama array 3-D.\n",
        "\n",
        "Estos se utilizan frecuentemente para representar un tensor de tercer orden."
      ],
      "metadata": {
        "id": "OOtM_MWloxqW"
      }
    },
    {
      "cell_type": "code",
      "source": [
        "arr =np.array([[[10,20,30],[40,50,60]],[[10,20,30],[40,50,60]]])\n",
        "print(arr)"
      ],
      "metadata": {
        "id": "wYEDkWZKoqtg"
      },
      "execution_count": null,
      "outputs": []
    },
    {
      "cell_type": "markdown",
      "source": [
        "##¿Cómo verificar el número de dimensiones?\n",
        "\n",
        "Los arrays de NumPy proporcionan el atributo ndim, que devuelve un número entero indicando cuántas dimensiones tiene el array."
      ],
      "metadata": {
        "id": "gR0j-RXcpf8k"
      }
    },
    {
      "cell_type": "code",
      "source": [
        "array_0d = np.array(42)\n",
        "array_1d = np.array([1, 2, 3, 4, 5])\n",
        "array_2d = np.array([[1, 2, 3], [4, 5, 6]])\n",
        "array_3d = np.array([[[1, 2, 3], [4, 5, 6]], [[1, 2, 3], [4, 5, 6]]])\n",
        "\n",
        "print(f\"El número de dimensiones del array es :\" ,array_0d.ndim)\n",
        "print(f\"El número de dimensiones del array es :\" ,array_1d.ndim)\n",
        "print(f\"El número de dimensiones del array es :\" ,array_2d.ndim)\n",
        "print(f\"El número de dimensiones del array es :\" ,array_3d.ndim)"
      ],
      "metadata": {
        "id": "jgYFZoIepUGp"
      },
      "execution_count": null,
      "outputs": []
    },
    {
      "cell_type": "markdown",
      "source": [
        "## Inspeccionar información general de un array"
      ],
      "metadata": {
        "id": "vNZ3hn4knx_c"
      }
    },
    {
      "cell_type": "code",
      "source": [
        "print(np.info(c))"
      ],
      "metadata": {
        "id": "DDlBvYY6n2sX"
      },
      "execution_count": null,
      "outputs": []
    },
    {
      "cell_type": "markdown",
      "source": [
        "# Tipos de datos en NumPy\n",
        "\n",
        "NumPy tiene algunos tipos de datos adicionales, y se refiere a los tipos de datos con un solo carácter, como i para enteros, u para enteros sin signo, etc.\n",
        "\n",
        "**i** entero\n",
        "\n",
        "**b** booleano\n",
        "\n",
        "**u** entero sin signo\n",
        "\n",
        "**f** número de punto flotante\n",
        "\n",
        "**c** número complejo de punto flotante\n",
        "\n",
        "**m** diferencia de tiempo (timedelta)\n",
        "\n",
        "**M** fecha y hora (datetime)\n",
        "\n",
        "**O** objeto (object)\n",
        "\n",
        "**S** cadena de caracteres (string - ASCII)\n",
        "\n",
        "**U** cadena Unicode\n",
        "\n",
        "**V** bloque fijo de memoria para otro tipo (void)"
      ],
      "metadata": {
        "id": "9bDPc-hCrPQD"
      }
    },
    {
      "cell_type": "markdown",
      "source": [
        "[NumPy Data Types](https://numpy.org/doc/2.3/user/basics.types.html)"
      ],
      "metadata": {
        "id": "puf1fbFZEaWo"
      }
    },
    {
      "cell_type": "markdown",
      "source": [
        "## Verificar el tipo de dato de un array\n",
        "\n",
        "El objeto array de NumPy tiene una propiedad llamada dtype que devuelve el tipo de dato del array."
      ],
      "metadata": {
        "id": "sbVu84F3sLN9"
      }
    },
    {
      "cell_type": "code",
      "source": [
        "arr = np.array([1, 2, 3, 4])\n",
        "\n",
        "print(arr.dtype)"
      ],
      "metadata": {
        "id": "FSE10QBFqXiw"
      },
      "execution_count": null,
      "outputs": []
    },
    {
      "cell_type": "code",
      "source": [
        "arr = np.array(['apple', 'banana', 'cherry'])\n",
        "\n",
        "print(arr.dtype)"
      ],
      "metadata": {
        "id": "PuFW3tzzsO3s"
      },
      "execution_count": null,
      "outputs": []
    },
    {
      "cell_type": "markdown",
      "source": [
        "## Crear arrays con un tipo de dato definido\n",
        "\n",
        "La función array() puede recibir un argumento opcional llamado dtype, que nos permite definir el tipo de dato esperado para los elementos del array."
      ],
      "metadata": {
        "id": "Dr_CCFi-sjWy"
      }
    },
    {
      "cell_type": "code",
      "source": [
        "arr = np.array([1, 2, 3, 4], dtype=str)\n",
        "# arr = np.array([1, 2, 3, 4], dtype=\"s\") # pueden usar i, f, etc\n",
        "\n",
        "print(arr)\n",
        "print(arr.dtype)  #los datos son convertidos a string"
      ],
      "metadata": {
        "id": "SAx08gwvsWSx"
      },
      "execution_count": null,
      "outputs": []
    },
    {
      "cell_type": "markdown",
      "source": [
        "## ¿Qué pasa si un valor no se puede convertir?\n",
        "\n",
        "Si se especifica un tipo al cual los elementos no pueden ser convertidos, entonces NumPy lanzará un ValueError.\n",
        "\n",
        "ValueError: En Python, un ValueError se lanza cuando el tipo del argumento pasado a una función es inesperado o incorrecto."
      ],
      "metadata": {
        "id": "JPiA_TxwtybT"
      }
    },
    {
      "cell_type": "code",
      "source": [
        "# arr = np.array(['a', '2', '3'], dtype='i') #we have a string so we sill get error"
      ],
      "metadata": {
        "id": "ywxlNjzxti9q"
      },
      "execution_count": null,
      "outputs": []
    },
    {
      "cell_type": "markdown",
      "source": [
        "## Convertir el tipo de dato en arrays existentes\n",
        "\n",
        "La mejor forma de cambiar el tipo de dato de un array existente es hacer una copia del array utilizando el método astype().\n",
        "La función astype() crea una copia del array y te permite especificar el tipo de dato como parámetro.\n",
        "\n",
        "El tipo de dato puede especificarse usando una cadena de texto, como 'f' para flotante, 'i' para entero, etc.\n",
        "\n",
        "O también se puede usar el tipo de dato directamente, como float para flotante e int para entero."
      ],
      "metadata": {
        "id": "6MHoh8dfuXEZ"
      }
    },
    {
      "cell_type": "code",
      "source": [
        "arr=np.array((1.2, 20.2, 30.3))\n",
        "print(arr)\n",
        "print(arr.dtype)\n",
        "\n",
        "arr2=arr.astype(\"i\")\n",
        "print(arr2)\n",
        "print(arr2.dtype)"
      ],
      "metadata": {
        "id": "TgM65qL1uNFf"
      },
      "execution_count": null,
      "outputs": []
    },
    {
      "cell_type": "code",
      "source": [
        "arr=np.array((1.2,20.2 ,30.3))\n",
        "print(arr)\n",
        "print(arr.dtype)\n",
        "\n",
        "\n",
        "arr2=arr.astype(int)\n",
        "print(arr2)\n",
        "print(arr2.dtype)"
      ],
      "metadata": {
        "id": "uJdQ_OVqvSeS"
      },
      "execution_count": null,
      "outputs": []
    },
    {
      "cell_type": "markdown",
      "source": [
        "## Indexación en Arrays de NumPy\n",
        "Acceder a los elementos del array:\n",
        "\n",
        "La indexación en arrays es lo mismo que acceder a un elemento del array.\n",
        "\n",
        "Puedes acceder a un elemento del array refiriéndote a su número de índice.\n",
        "\n",
        "Los índices en los arrays de NumPy comienzan en 0, lo que significa que el primer elemento tiene el índice 0, el segundo el índice 1, y así sucesivamente."
      ],
      "metadata": {
        "id": "pdmg085NUFrK"
      }
    },
    {
      "cell_type": "code",
      "source": [
        "#Acceder al primer elemento\n",
        "\n",
        "arr= np.array([10,20,30,40,50,60,70,80,90,100])\n",
        "\n",
        "print(arr[0])"
      ],
      "metadata": {
        "id": "T4YHum-cve2C"
      },
      "execution_count": null,
      "outputs": []
    },
    {
      "cell_type": "code",
      "source": [
        "#Accedemos al segundo\n",
        "\n",
        "arr= np.array([10,20,30,40,50,60,70,80,90,100])\n",
        "\n",
        "print(arr[1])"
      ],
      "metadata": {
        "id": "49jiwYjlUf3b"
      },
      "execution_count": null,
      "outputs": []
    },
    {
      "cell_type": "code",
      "source": [
        "# Obtén el tercer y cuarto elemento del siguiente array y súmalos.\n",
        "\n",
        "arr= np.array([10,20,30,40,50,60,70,80,90,100])\n",
        "\n",
        "print(arr[2]+arr[3])"
      ],
      "metadata": {
        "id": "AFhg0D75U0tq"
      },
      "execution_count": null,
      "outputs": []
    },
    {
      "cell_type": "markdown",
      "source": [
        "## Acceder a arrays 2-D\n",
        "\n",
        "Para acceder a elementos de arrays 2-D, podemos usar enteros separados por comas que representan la dimensión (fila) y el índice del elemento (columna).\n",
        "\n",
        "El índice de la dimensión también comienza en 0"
      ],
      "metadata": {
        "id": "DdgqS-P4U_E1"
      }
    },
    {
      "cell_type": "code",
      "source": [
        "arr = np.array([[10,20,30,40,50],[60,70,80,90,100]])\n",
        "\n",
        "print(f\"El primer elemento de la primera dimensión {arr[0,0]}\")"
      ],
      "metadata": {
        "id": "R50R1vedU8bY"
      },
      "execution_count": null,
      "outputs": []
    },
    {
      "cell_type": "code",
      "source": [
        "arr = np.array([[10,20,30,40,50],[60,70,80,90,100]])\n",
        "\n",
        "print(f\"El primer elemento de la segunda dimensión {arr[1,0]}\")"
      ],
      "metadata": {
        "id": "ZgnPuR40VcYj"
      },
      "execution_count": null,
      "outputs": []
    },
    {
      "cell_type": "markdown",
      "source": [
        "## **Negative Indexing**\n",
        "\n",
        ">Use negative indexing to access an array from the end."
      ],
      "metadata": {
        "id": "FJdB13YiYOvU"
      }
    },
    {
      "cell_type": "code",
      "source": [
        "arr = np.array([[10,20,30,40,50],[60,70,80,90,100]])\n",
        "\n",
        "print(f\"Last element from first Dimension {arr[0,-1]}\")"
      ],
      "metadata": {
        "id": "So_7sxvcWe3Z"
      },
      "execution_count": null,
      "outputs": []
    },
    {
      "cell_type": "markdown",
      "source": [
        "## Forma (Shape) de un array en NumPy\n",
        "\n",
        "La forma de un array es la cantidad de elementos en cada dimensión.\n",
        "\n",
        "Los arrays de NumPy tienen un atributo llamado shape que devuelve una tupla, donde cada índice representa la cantidad de elementos en la dimensión correspondiente."
      ],
      "metadata": {
        "id": "Nuqv_4H2h0dv"
      }
    },
    {
      "cell_type": "code",
      "source": [
        "#Imprimir el shape de una array de 2D\n",
        "\n",
        "arr = np.array([[1, 2, 3, 4], [5, 6, 7, 8]])\n",
        "\n",
        "print(arr.shape)  #SALIDA 2 ⇒ Dos elementos en la primera dimensión 4 ⇒ Cuatro elementos en la segunda dimensión"
      ],
      "metadata": {
        "id": "y12iXm4iftk7"
      },
      "execution_count": null,
      "outputs": []
    },
    {
      "cell_type": "markdown",
      "source": [
        "## Cambio de forma (Reshape) de arrays en NumPy\n",
        "\n",
        "Al aplicar reshape podemos agregar o eliminar dimensiones o cambiar la cantidad de elementos en cada dimensión.\n",
        "\n",
        "Convertir de 1-D a 2-D\n",
        "\n",
        "La dimensión más externa tendrá 2 arrays, cada uno con 6 elementos."
      ],
      "metadata": {
        "id": "72tqFxoclXJ4"
      }
    },
    {
      "cell_type": "code",
      "source": [
        "#Convierte el siguiente array 1-D con 12 elementos en un array 2-D.\n",
        "arr = np.array([1, 2, 3, 4, 5, 6, 7, 8, 9, 10, 11, 12])\n",
        "\n",
        "newarr = arr.reshape(2, 6)\n",
        "\n",
        "print(newarr)"
      ],
      "metadata": {
        "id": "40qbGjNnm_Yd"
      },
      "execution_count": null,
      "outputs": []
    },
    {
      "cell_type": "markdown",
      "source": [
        "## Convertir de 1-D a 3-D\n",
        "\n",
        "La dimensión más externa tendrá 2 arrays, que contienen 2 arrays cada uno, con 3 elementos cada uno."
      ],
      "metadata": {
        "id": "RfksPtW5nqdT"
      }
    },
    {
      "cell_type": "code",
      "source": [
        "#Convierte el siguiente array 1-D con 12 elementos en un array 3-D.\n",
        "\n",
        "arr = np.array([1, 2, 3, 4, 5, 6, 7, 8, 9, 10, 11, 12])\n",
        "\n",
        "newarr = arr.reshape(2,2,3)\n",
        "print(newarr)"
      ],
      "metadata": {
        "id": "PmX5Zt6lnOgT"
      },
      "execution_count": null,
      "outputs": []
    },
    {
      "cell_type": "markdown",
      "source": [
        "## ¿Podemos cambiar la forma (reshape) a cualquier forma?\n",
        "\n",
        "Sí, siempre que la cantidad de elementos necesaria para el cambio de forma sea igual en ambas formas.\n",
        "\n",
        "Podemos transformar un array 1-D de 8 elementos en un array 2-D con 2 filas de 4 elementos,\n",
        "pero no podemos convertirlo en un array 2-D de 3 filas con 3 elementos, ya que eso requeriría 3 × 3 = 9 elementos."
      ],
      "metadata": {
        "id": "z6jdeiEXoK9c"
      }
    }
  ]
}