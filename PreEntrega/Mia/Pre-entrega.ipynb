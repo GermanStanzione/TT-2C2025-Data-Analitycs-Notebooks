{
  "nbformat": 4,
  "nbformat_minor": 0,
  "metadata": {
    "colab": {
      "provenance": [],
      "toc_visible": true,
      "include_colab_link": true
    },
    "kernelspec": {
      "name": "python3",
      "display_name": "Python 3"
    },
    "language_info": {
      "name": "python"
    }
  },
  "cells": [
    {
      "cell_type": "markdown",
      "metadata": {
        "id": "view-in-github",
        "colab_type": "text"
      },
      "source": [
        "<a href=\"https://colab.research.google.com/github/GermanStanzione/TT-2C2025-Data-Analitycs-Notebooks/blob/main/PreEntrega/Mia/Pre-entrega.ipynb\" target=\"_parent\"><img src=\"https://colab.research.google.com/assets/colab-badge.svg\" alt=\"Open In Colab\"/></a>"
      ]
    },
    {
      "cell_type": "markdown",
      "source": [
        "# Análisis de datos con Pyhon - Pre-entrega\n",
        "Nombre y apellido:"
      ],
      "metadata": {
        "id": "G2HrbM6xhNs-"
      }
    },
    {
      "cell_type": "markdown",
      "source": [
        "# Etapa 1"
      ],
      "metadata": {
        "id": "-CxKqzBrhVHX"
      }
    },
    {
      "cell_type": "markdown",
      "source": [
        "## Script básico\n",
        "Actividades 2 y 3"
      ],
      "metadata": {
        "id": "4ILasuZOlQH2"
      }
    },
    {
      "cell_type": "code",
      "source": [
        "# Generamos una lista de diccionarios que contenga algunos datos\n",
        "ventas = [\n",
        "  {'producto': 'notebook', 'precio': 1500.0, 'cantidad': 3},\n",
        "  {'producto': 'monitor', 'precio': 500.0, 'cantidad': 5},\n",
        "  {'producto': 'mouse', 'precio': 20.0, 'cantidad': 15}\n",
        "]"
      ],
      "metadata": {
        "id": "HCohGTwZlUL5"
      },
      "execution_count": 1,
      "outputs": []
    },
    {
      "cell_type": "code",
      "source": [
        "# Calculamos las ventas acumuladas - map\n"
      ],
      "metadata": {
        "id": "OEfBFwOql3Du"
      },
      "execution_count": null,
      "outputs": []
    },
    {
      "cell_type": "code",
      "source": [
        "# Calculamos las ventas acumuladas - listas por comprensión\n",
        "ventas_acumuladas = sum([venta[\"precio\"]] * [venta[\"cantidad\"]])\n",
        "ventas_acumuladas = [sum(venta['precio'] * venta['cantidad'] for venta in ventas[:i+1]) for i in range(len(ventas))]\n",
        "ventas_acumuladas"
      ],
      "metadata": {
        "id": "bF7f3yB_rzAi",
        "colab": {
          "base_uri": "https://localhost:8080/"
        },
        "outputId": "9a186a38-8515-44e5-c6c8-0f647036d137"
      },
      "execution_count": 4,
      "outputs": [
        {
          "output_type": "execute_result",
          "data": {
            "text/plain": [
              "[4500.0, 7000.0, 7300.0]"
            ]
          },
          "metadata": {},
          "execution_count": 4
        }
      ]
    },
    {
      "cell_type": "markdown",
      "source": [
        "## Import Datasets\n",
        "Actividad 1"
      ],
      "metadata": {
        "id": "Wm34ILh_i9hu"
      }
    },
    {
      "cell_type": "code",
      "source": [
        "import pandas as pd"
      ],
      "metadata": {
        "id": "GIHJ_ZidjGxi"
      },
      "execution_count": 5,
      "outputs": []
    },
    {
      "cell_type": "code",
      "execution_count": 6,
      "metadata": {
        "id": "U3mjW5hXhBez"
      },
      "outputs": [],
      "source": [
        "# Import dataset ventas\n",
        "df_ventas = pd.read_csv(\"https://raw.githubusercontent.com/jrigottiedu/TT-2C2025-Data-Analitycs-Notebooks/refs/heads/main/PreEntrega/Datasets/ventas.csv\")"
      ]
    },
    {
      "cell_type": "code",
      "source": [
        "# Import dataset clientes\n",
        "df_clientes = pd.read_csv(\"https://raw.githubusercontent.com/jrigottiedu/TT-2C2025-Data-Analitycs-Notebooks/refs/heads/main/PreEntrega/Datasets/clientes.csv\")"
      ],
      "metadata": {
        "id": "1Q1i_NiRjV_L"
      },
      "execution_count": 7,
      "outputs": []
    },
    {
      "cell_type": "code",
      "source": [
        "# Import dataset marketing\n",
        "df_marketing = pd.read_csv(\"https://raw.githubusercontent.com/jrigottiedu/TT-2C2025-Data-Analitycs-Notebooks/refs/heads/main/PreEntrega/Datasets/marketing.csv\")"
      ],
      "metadata": {
        "id": "jCM9GltEjikr"
      },
      "execution_count": 8,
      "outputs": []
    },
    {
      "cell_type": "code",
      "source": [
        "df_ventas"
      ],
      "metadata": {
        "id": "jXHChqP3jNEy",
        "colab": {
          "base_uri": "https://localhost:8080/",
          "height": 423
        },
        "outputId": "f262e244-c9e3-44ec-8062-5d3e323f2647"
      },
      "execution_count": 9,
      "outputs": [
        {
          "output_type": "execute_result",
          "data": {
            "text/plain": [
              "      id_venta                producto   precio  cantidad fecha_venta  \\\n",
              "0          792       Cuadro decorativo   $69.94       5.0  02/01/2024   \n",
              "1          811         Lámpara de mesa  $105.10       5.0  02/01/2024   \n",
              "2         1156                Secadora   $97.96       3.0  02/01/2024   \n",
              "3         1372                Heladera  $114.35       8.0  02/01/2024   \n",
              "4         1546                Secadora  $106.21       4.0  02/01/2024   \n",
              "...        ...                     ...      ...       ...         ...   \n",
              "3030      1837         Horno eléctrico  $104.12       9.0  30/12/2024   \n",
              "3031      2276                  Laptop   $85.27       9.0  30/12/2024   \n",
              "3032      2696                  Laptop  $107.81       4.0  30/12/2024   \n",
              "3033      2913              Smartphone   $99.85       7.0  30/12/2024   \n",
              "3034      2930  Consola de videojuegos   $55.47       6.0  30/12/2024   \n",
              "\n",
              "              categoria  \n",
              "0            Decoración  \n",
              "1            Decoración  \n",
              "2     Electrodomésticos  \n",
              "3     Electrodomésticos  \n",
              "4     Electrodomésticos  \n",
              "...                 ...  \n",
              "3030  Electrodomésticos  \n",
              "3031        Electrónica  \n",
              "3032        Electrónica  \n",
              "3033        Electrónica  \n",
              "3034        Electrónica  \n",
              "\n",
              "[3035 rows x 6 columns]"
            ],
            "text/html": [
              "\n",
              "  <div id=\"df-18f54c1d-2372-46f2-9f05-5fffcae54f31\" class=\"colab-df-container\">\n",
              "    <div>\n",
              "<style scoped>\n",
              "    .dataframe tbody tr th:only-of-type {\n",
              "        vertical-align: middle;\n",
              "    }\n",
              "\n",
              "    .dataframe tbody tr th {\n",
              "        vertical-align: top;\n",
              "    }\n",
              "\n",
              "    .dataframe thead th {\n",
              "        text-align: right;\n",
              "    }\n",
              "</style>\n",
              "<table border=\"1\" class=\"dataframe\">\n",
              "  <thead>\n",
              "    <tr style=\"text-align: right;\">\n",
              "      <th></th>\n",
              "      <th>id_venta</th>\n",
              "      <th>producto</th>\n",
              "      <th>precio</th>\n",
              "      <th>cantidad</th>\n",
              "      <th>fecha_venta</th>\n",
              "      <th>categoria</th>\n",
              "    </tr>\n",
              "  </thead>\n",
              "  <tbody>\n",
              "    <tr>\n",
              "      <th>0</th>\n",
              "      <td>792</td>\n",
              "      <td>Cuadro decorativo</td>\n",
              "      <td>$69.94</td>\n",
              "      <td>5.0</td>\n",
              "      <td>02/01/2024</td>\n",
              "      <td>Decoración</td>\n",
              "    </tr>\n",
              "    <tr>\n",
              "      <th>1</th>\n",
              "      <td>811</td>\n",
              "      <td>Lámpara de mesa</td>\n",
              "      <td>$105.10</td>\n",
              "      <td>5.0</td>\n",
              "      <td>02/01/2024</td>\n",
              "      <td>Decoración</td>\n",
              "    </tr>\n",
              "    <tr>\n",
              "      <th>2</th>\n",
              "      <td>1156</td>\n",
              "      <td>Secadora</td>\n",
              "      <td>$97.96</td>\n",
              "      <td>3.0</td>\n",
              "      <td>02/01/2024</td>\n",
              "      <td>Electrodomésticos</td>\n",
              "    </tr>\n",
              "    <tr>\n",
              "      <th>3</th>\n",
              "      <td>1372</td>\n",
              "      <td>Heladera</td>\n",
              "      <td>$114.35</td>\n",
              "      <td>8.0</td>\n",
              "      <td>02/01/2024</td>\n",
              "      <td>Electrodomésticos</td>\n",
              "    </tr>\n",
              "    <tr>\n",
              "      <th>4</th>\n",
              "      <td>1546</td>\n",
              "      <td>Secadora</td>\n",
              "      <td>$106.21</td>\n",
              "      <td>4.0</td>\n",
              "      <td>02/01/2024</td>\n",
              "      <td>Electrodomésticos</td>\n",
              "    </tr>\n",
              "    <tr>\n",
              "      <th>...</th>\n",
              "      <td>...</td>\n",
              "      <td>...</td>\n",
              "      <td>...</td>\n",
              "      <td>...</td>\n",
              "      <td>...</td>\n",
              "      <td>...</td>\n",
              "    </tr>\n",
              "    <tr>\n",
              "      <th>3030</th>\n",
              "      <td>1837</td>\n",
              "      <td>Horno eléctrico</td>\n",
              "      <td>$104.12</td>\n",
              "      <td>9.0</td>\n",
              "      <td>30/12/2024</td>\n",
              "      <td>Electrodomésticos</td>\n",
              "    </tr>\n",
              "    <tr>\n",
              "      <th>3031</th>\n",
              "      <td>2276</td>\n",
              "      <td>Laptop</td>\n",
              "      <td>$85.27</td>\n",
              "      <td>9.0</td>\n",
              "      <td>30/12/2024</td>\n",
              "      <td>Electrónica</td>\n",
              "    </tr>\n",
              "    <tr>\n",
              "      <th>3032</th>\n",
              "      <td>2696</td>\n",
              "      <td>Laptop</td>\n",
              "      <td>$107.81</td>\n",
              "      <td>4.0</td>\n",
              "      <td>30/12/2024</td>\n",
              "      <td>Electrónica</td>\n",
              "    </tr>\n",
              "    <tr>\n",
              "      <th>3033</th>\n",
              "      <td>2913</td>\n",
              "      <td>Smartphone</td>\n",
              "      <td>$99.85</td>\n",
              "      <td>7.0</td>\n",
              "      <td>30/12/2024</td>\n",
              "      <td>Electrónica</td>\n",
              "    </tr>\n",
              "    <tr>\n",
              "      <th>3034</th>\n",
              "      <td>2930</td>\n",
              "      <td>Consola de videojuegos</td>\n",
              "      <td>$55.47</td>\n",
              "      <td>6.0</td>\n",
              "      <td>30/12/2024</td>\n",
              "      <td>Electrónica</td>\n",
              "    </tr>\n",
              "  </tbody>\n",
              "</table>\n",
              "<p>3035 rows × 6 columns</p>\n",
              "</div>\n",
              "    <div class=\"colab-df-buttons\">\n",
              "\n",
              "  <div class=\"colab-df-container\">\n",
              "    <button class=\"colab-df-convert\" onclick=\"convertToInteractive('df-18f54c1d-2372-46f2-9f05-5fffcae54f31')\"\n",
              "            title=\"Convert this dataframe to an interactive table.\"\n",
              "            style=\"display:none;\">\n",
              "\n",
              "  <svg xmlns=\"http://www.w3.org/2000/svg\" height=\"24px\" viewBox=\"0 -960 960 960\">\n",
              "    <path d=\"M120-120v-720h720v720H120Zm60-500h600v-160H180v160Zm220 220h160v-160H400v160Zm0 220h160v-160H400v160ZM180-400h160v-160H180v160Zm440 0h160v-160H620v160ZM180-180h160v-160H180v160Zm440 0h160v-160H620v160Z\"/>\n",
              "  </svg>\n",
              "    </button>\n",
              "\n",
              "  <style>\n",
              "    .colab-df-container {\n",
              "      display:flex;\n",
              "      gap: 12px;\n",
              "    }\n",
              "\n",
              "    .colab-df-convert {\n",
              "      background-color: #E8F0FE;\n",
              "      border: none;\n",
              "      border-radius: 50%;\n",
              "      cursor: pointer;\n",
              "      display: none;\n",
              "      fill: #1967D2;\n",
              "      height: 32px;\n",
              "      padding: 0 0 0 0;\n",
              "      width: 32px;\n",
              "    }\n",
              "\n",
              "    .colab-df-convert:hover {\n",
              "      background-color: #E2EBFA;\n",
              "      box-shadow: 0px 1px 2px rgba(60, 64, 67, 0.3), 0px 1px 3px 1px rgba(60, 64, 67, 0.15);\n",
              "      fill: #174EA6;\n",
              "    }\n",
              "\n",
              "    .colab-df-buttons div {\n",
              "      margin-bottom: 4px;\n",
              "    }\n",
              "\n",
              "    [theme=dark] .colab-df-convert {\n",
              "      background-color: #3B4455;\n",
              "      fill: #D2E3FC;\n",
              "    }\n",
              "\n",
              "    [theme=dark] .colab-df-convert:hover {\n",
              "      background-color: #434B5C;\n",
              "      box-shadow: 0px 1px 3px 1px rgba(0, 0, 0, 0.15);\n",
              "      filter: drop-shadow(0px 1px 2px rgba(0, 0, 0, 0.3));\n",
              "      fill: #FFFFFF;\n",
              "    }\n",
              "  </style>\n",
              "\n",
              "    <script>\n",
              "      const buttonEl =\n",
              "        document.querySelector('#df-18f54c1d-2372-46f2-9f05-5fffcae54f31 button.colab-df-convert');\n",
              "      buttonEl.style.display =\n",
              "        google.colab.kernel.accessAllowed ? 'block' : 'none';\n",
              "\n",
              "      async function convertToInteractive(key) {\n",
              "        const element = document.querySelector('#df-18f54c1d-2372-46f2-9f05-5fffcae54f31');\n",
              "        const dataTable =\n",
              "          await google.colab.kernel.invokeFunction('convertToInteractive',\n",
              "                                                    [key], {});\n",
              "        if (!dataTable) return;\n",
              "\n",
              "        const docLinkHtml = 'Like what you see? Visit the ' +\n",
              "          '<a target=\"_blank\" href=https://colab.research.google.com/notebooks/data_table.ipynb>data table notebook</a>'\n",
              "          + ' to learn more about interactive tables.';\n",
              "        element.innerHTML = '';\n",
              "        dataTable['output_type'] = 'display_data';\n",
              "        await google.colab.output.renderOutput(dataTable, element);\n",
              "        const docLink = document.createElement('div');\n",
              "        docLink.innerHTML = docLinkHtml;\n",
              "        element.appendChild(docLink);\n",
              "      }\n",
              "    </script>\n",
              "  </div>\n",
              "\n",
              "\n",
              "    <div id=\"df-0f8e2456-d14c-4520-a228-52cf288c0d33\">\n",
              "      <button class=\"colab-df-quickchart\" onclick=\"quickchart('df-0f8e2456-d14c-4520-a228-52cf288c0d33')\"\n",
              "                title=\"Suggest charts\"\n",
              "                style=\"display:none;\">\n",
              "\n",
              "<svg xmlns=\"http://www.w3.org/2000/svg\" height=\"24px\"viewBox=\"0 0 24 24\"\n",
              "     width=\"24px\">\n",
              "    <g>\n",
              "        <path d=\"M19 3H5c-1.1 0-2 .9-2 2v14c0 1.1.9 2 2 2h14c1.1 0 2-.9 2-2V5c0-1.1-.9-2-2-2zM9 17H7v-7h2v7zm4 0h-2V7h2v10zm4 0h-2v-4h2v4z\"/>\n",
              "    </g>\n",
              "</svg>\n",
              "      </button>\n",
              "\n",
              "<style>\n",
              "  .colab-df-quickchart {\n",
              "      --bg-color: #E8F0FE;\n",
              "      --fill-color: #1967D2;\n",
              "      --hover-bg-color: #E2EBFA;\n",
              "      --hover-fill-color: #174EA6;\n",
              "      --disabled-fill-color: #AAA;\n",
              "      --disabled-bg-color: #DDD;\n",
              "  }\n",
              "\n",
              "  [theme=dark] .colab-df-quickchart {\n",
              "      --bg-color: #3B4455;\n",
              "      --fill-color: #D2E3FC;\n",
              "      --hover-bg-color: #434B5C;\n",
              "      --hover-fill-color: #FFFFFF;\n",
              "      --disabled-bg-color: #3B4455;\n",
              "      --disabled-fill-color: #666;\n",
              "  }\n",
              "\n",
              "  .colab-df-quickchart {\n",
              "    background-color: var(--bg-color);\n",
              "    border: none;\n",
              "    border-radius: 50%;\n",
              "    cursor: pointer;\n",
              "    display: none;\n",
              "    fill: var(--fill-color);\n",
              "    height: 32px;\n",
              "    padding: 0;\n",
              "    width: 32px;\n",
              "  }\n",
              "\n",
              "  .colab-df-quickchart:hover {\n",
              "    background-color: var(--hover-bg-color);\n",
              "    box-shadow: 0 1px 2px rgba(60, 64, 67, 0.3), 0 1px 3px 1px rgba(60, 64, 67, 0.15);\n",
              "    fill: var(--button-hover-fill-color);\n",
              "  }\n",
              "\n",
              "  .colab-df-quickchart-complete:disabled,\n",
              "  .colab-df-quickchart-complete:disabled:hover {\n",
              "    background-color: var(--disabled-bg-color);\n",
              "    fill: var(--disabled-fill-color);\n",
              "    box-shadow: none;\n",
              "  }\n",
              "\n",
              "  .colab-df-spinner {\n",
              "    border: 2px solid var(--fill-color);\n",
              "    border-color: transparent;\n",
              "    border-bottom-color: var(--fill-color);\n",
              "    animation:\n",
              "      spin 1s steps(1) infinite;\n",
              "  }\n",
              "\n",
              "  @keyframes spin {\n",
              "    0% {\n",
              "      border-color: transparent;\n",
              "      border-bottom-color: var(--fill-color);\n",
              "      border-left-color: var(--fill-color);\n",
              "    }\n",
              "    20% {\n",
              "      border-color: transparent;\n",
              "      border-left-color: var(--fill-color);\n",
              "      border-top-color: var(--fill-color);\n",
              "    }\n",
              "    30% {\n",
              "      border-color: transparent;\n",
              "      border-left-color: var(--fill-color);\n",
              "      border-top-color: var(--fill-color);\n",
              "      border-right-color: var(--fill-color);\n",
              "    }\n",
              "    40% {\n",
              "      border-color: transparent;\n",
              "      border-right-color: var(--fill-color);\n",
              "      border-top-color: var(--fill-color);\n",
              "    }\n",
              "    60% {\n",
              "      border-color: transparent;\n",
              "      border-right-color: var(--fill-color);\n",
              "    }\n",
              "    80% {\n",
              "      border-color: transparent;\n",
              "      border-right-color: var(--fill-color);\n",
              "      border-bottom-color: var(--fill-color);\n",
              "    }\n",
              "    90% {\n",
              "      border-color: transparent;\n",
              "      border-bottom-color: var(--fill-color);\n",
              "    }\n",
              "  }\n",
              "</style>\n",
              "\n",
              "      <script>\n",
              "        async function quickchart(key) {\n",
              "          const quickchartButtonEl =\n",
              "            document.querySelector('#' + key + ' button');\n",
              "          quickchartButtonEl.disabled = true;  // To prevent multiple clicks.\n",
              "          quickchartButtonEl.classList.add('colab-df-spinner');\n",
              "          try {\n",
              "            const charts = await google.colab.kernel.invokeFunction(\n",
              "                'suggestCharts', [key], {});\n",
              "          } catch (error) {\n",
              "            console.error('Error during call to suggestCharts:', error);\n",
              "          }\n",
              "          quickchartButtonEl.classList.remove('colab-df-spinner');\n",
              "          quickchartButtonEl.classList.add('colab-df-quickchart-complete');\n",
              "        }\n",
              "        (() => {\n",
              "          let quickchartButtonEl =\n",
              "            document.querySelector('#df-0f8e2456-d14c-4520-a228-52cf288c0d33 button');\n",
              "          quickchartButtonEl.style.display =\n",
              "            google.colab.kernel.accessAllowed ? 'block' : 'none';\n",
              "        })();\n",
              "      </script>\n",
              "    </div>\n",
              "\n",
              "  <div id=\"id_f112328e-c263-485d-8689-92a763de06fc\">\n",
              "    <style>\n",
              "      .colab-df-generate {\n",
              "        background-color: #E8F0FE;\n",
              "        border: none;\n",
              "        border-radius: 50%;\n",
              "        cursor: pointer;\n",
              "        display: none;\n",
              "        fill: #1967D2;\n",
              "        height: 32px;\n",
              "        padding: 0 0 0 0;\n",
              "        width: 32px;\n",
              "      }\n",
              "\n",
              "      .colab-df-generate:hover {\n",
              "        background-color: #E2EBFA;\n",
              "        box-shadow: 0px 1px 2px rgba(60, 64, 67, 0.3), 0px 1px 3px 1px rgba(60, 64, 67, 0.15);\n",
              "        fill: #174EA6;\n",
              "      }\n",
              "\n",
              "      [theme=dark] .colab-df-generate {\n",
              "        background-color: #3B4455;\n",
              "        fill: #D2E3FC;\n",
              "      }\n",
              "\n",
              "      [theme=dark] .colab-df-generate:hover {\n",
              "        background-color: #434B5C;\n",
              "        box-shadow: 0px 1px 3px 1px rgba(0, 0, 0, 0.15);\n",
              "        filter: drop-shadow(0px 1px 2px rgba(0, 0, 0, 0.3));\n",
              "        fill: #FFFFFF;\n",
              "      }\n",
              "    </style>\n",
              "    <button class=\"colab-df-generate\" onclick=\"generateWithVariable('df_ventas')\"\n",
              "            title=\"Generate code using this dataframe.\"\n",
              "            style=\"display:none;\">\n",
              "\n",
              "  <svg xmlns=\"http://www.w3.org/2000/svg\" height=\"24px\"viewBox=\"0 0 24 24\"\n",
              "       width=\"24px\">\n",
              "    <path d=\"M7,19H8.4L18.45,9,17,7.55,7,17.6ZM5,21V16.75L18.45,3.32a2,2,0,0,1,2.83,0l1.4,1.43a1.91,1.91,0,0,1,.58,1.4,1.91,1.91,0,0,1-.58,1.4L9.25,21ZM18.45,9,17,7.55Zm-12,3A5.31,5.31,0,0,0,4.9,8.1,5.31,5.31,0,0,0,1,6.5,5.31,5.31,0,0,0,4.9,4.9,5.31,5.31,0,0,0,6.5,1,5.31,5.31,0,0,0,8.1,4.9,5.31,5.31,0,0,0,12,6.5,5.46,5.46,0,0,0,6.5,12Z\"/>\n",
              "  </svg>\n",
              "    </button>\n",
              "    <script>\n",
              "      (() => {\n",
              "      const buttonEl =\n",
              "        document.querySelector('#id_f112328e-c263-485d-8689-92a763de06fc button.colab-df-generate');\n",
              "      buttonEl.style.display =\n",
              "        google.colab.kernel.accessAllowed ? 'block' : 'none';\n",
              "\n",
              "      buttonEl.onclick = () => {\n",
              "        google.colab.notebook.generateWithVariable('df_ventas');\n",
              "      }\n",
              "      })();\n",
              "    </script>\n",
              "  </div>\n",
              "\n",
              "    </div>\n",
              "  </div>\n"
            ],
            "application/vnd.google.colaboratory.intrinsic+json": {
              "type": "dataframe",
              "variable_name": "df_ventas",
              "summary": "{\n  \"name\": \"df_ventas\",\n  \"rows\": 3035,\n  \"fields\": [\n    {\n      \"column\": \"id_venta\",\n      \"properties\": {\n        \"dtype\": \"number\",\n        \"std\": 866,\n        \"min\": 1,\n        \"max\": 3000,\n        \"num_unique_values\": 3000,\n        \"samples\": [\n          1155,\n          2726,\n          2880\n        ],\n        \"semantic_type\": \"\",\n        \"description\": \"\"\n      }\n    },\n    {\n      \"column\": \"producto\",\n      \"properties\": {\n        \"dtype\": \"category\",\n        \"num_unique_values\": 30,\n        \"samples\": [\n          \"Alfombra\",\n          \"Lavadora\",\n          \"Parlantes Bluetooth\"\n        ],\n        \"semantic_type\": \"\",\n        \"description\": \"\"\n      }\n    },\n    {\n      \"column\": \"precio\",\n      \"properties\": {\n        \"dtype\": \"string\",\n        \"num_unique_values\": 2590,\n        \"samples\": [\n          \"$112.46\",\n          \"$119.78\",\n          \"$70.13\"\n        ],\n        \"semantic_type\": \"\",\n        \"description\": \"\"\n      }\n    },\n    {\n      \"column\": \"cantidad\",\n      \"properties\": {\n        \"dtype\": \"number\",\n        \"std\": 3.457249927514147,\n        \"min\": 1.0,\n        \"max\": 12.0,\n        \"num_unique_values\": 12,\n        \"samples\": [\n          10.0,\n          12.0,\n          5.0\n        ],\n        \"semantic_type\": \"\",\n        \"description\": \"\"\n      }\n    },\n    {\n      \"column\": \"fecha_venta\",\n      \"properties\": {\n        \"dtype\": \"category\",\n        \"num_unique_values\": 364,\n        \"samples\": [\n          \"13/07/2024\",\n          \"04/02/2024\",\n          \"17/01/2024\"\n        ],\n        \"semantic_type\": \"\",\n        \"description\": \"\"\n      }\n    },\n    {\n      \"column\": \"categoria\",\n      \"properties\": {\n        \"dtype\": \"category\",\n        \"num_unique_values\": 3,\n        \"samples\": [\n          \"Decoraci\\u00f3n\",\n          \"Electrodom\\u00e9sticos\",\n          \"Electr\\u00f3nica\"\n        ],\n        \"semantic_type\": \"\",\n        \"description\": \"\"\n      }\n    }\n  ]\n}"
            }
          },
          "metadata": {},
          "execution_count": 9
        }
      ]
    },
    {
      "cell_type": "markdown",
      "source": [
        "## Dataframe ventas"
      ],
      "metadata": {
        "id": "i6EzpCSOtwUx"
      }
    },
    {
      "cell_type": "markdown",
      "source": [
        "### Análisis exploratorio de **datos**\n",
        "Actividad 4"
      ],
      "metadata": {
        "id": "7CF7mLnpsQ8p"
      }
    },
    {
      "cell_type": "markdown",
      "source": [
        "Aplicamos los métodos de EDA vistos en clase, `info`, `columns`, `dtypes`, `head`, `tail`, `sample`, `unique`, `value_counts`, `describe`, `duplicated`, `isnull`, etc. y documentamos las observaciones:"
      ],
      "metadata": {
        "id": "l2yM5nTLwKjJ"
      }
    },
    {
      "cell_type": "code",
      "source": [
        "# Aplicamos info() para familiarizarnos con el dataframe\n",
        "df_ventas.info()"
      ],
      "metadata": {
        "id": "9u6pn82DsZ0k",
        "colab": {
          "base_uri": "https://localhost:8080/"
        },
        "outputId": "351ff97c-07c0-4493-8839-a4d68b9befb2"
      },
      "execution_count": 10,
      "outputs": [
        {
          "output_type": "stream",
          "name": "stdout",
          "text": [
            "<class 'pandas.core.frame.DataFrame'>\n",
            "RangeIndex: 3035 entries, 0 to 3034\n",
            "Data columns (total 6 columns):\n",
            " #   Column       Non-Null Count  Dtype  \n",
            "---  ------       --------------  -----  \n",
            " 0   id_venta     3035 non-null   int64  \n",
            " 1   producto     3035 non-null   object \n",
            " 2   precio       3033 non-null   object \n",
            " 3   cantidad     3033 non-null   float64\n",
            " 4   fecha_venta  3035 non-null   object \n",
            " 5   categoria    3035 non-null   object \n",
            "dtypes: float64(1), int64(1), object(4)\n",
            "memory usage: 142.4+ KB\n"
          ]
        }
      ]
    },
    {
      "cell_type": "code",
      "source": [
        "# Visualizamos los primeros registros con head()\n",
        "# también podemos usar tail() para visualizar los últimos\n",
        "df_ventas.head()"
      ],
      "metadata": {
        "id": "QX_TXdPFwEpc"
      },
      "execution_count": null,
      "outputs": []
    },
    {
      "cell_type": "code",
      "source": [
        "# Usar sample() para tomar registros al azar\n",
        "df_ventas.sample(5)"
      ],
      "metadata": {
        "id": "r4Yu43kOxpIK",
        "colab": {
          "base_uri": "https://localhost:8080/",
          "height": 206
        },
        "outputId": "5a5aaffb-8d50-423e-f6e8-eaea088f91b5"
      },
      "execution_count": 11,
      "outputs": [
        {
          "output_type": "execute_result",
          "data": {
            "text/plain": [
              "      id_venta           producto   precio  cantidad fecha_venta  \\\n",
              "588         74  Jarrón decorativo   $51.08      11.0  10/03/2024   \n",
              "2188      2805        Auriculares   $32.81       7.0  13/09/2024   \n",
              "1963      1153         Microondas  $111.78       5.0  18/08/2024   \n",
              "2070      1035           Lavadora   $75.44       2.0  30/08/2024   \n",
              "2504      1676           Secadora   $88.46       9.0  26/10/2024   \n",
              "\n",
              "              categoria  \n",
              "588          Decoración  \n",
              "2188        Electrónica  \n",
              "1963  Electrodomésticos  \n",
              "2070  Electrodomésticos  \n",
              "2504  Electrodomésticos  "
            ],
            "text/html": [
              "\n",
              "  <div id=\"df-0f408a21-b350-4424-a722-1cf150e6687f\" class=\"colab-df-container\">\n",
              "    <div>\n",
              "<style scoped>\n",
              "    .dataframe tbody tr th:only-of-type {\n",
              "        vertical-align: middle;\n",
              "    }\n",
              "\n",
              "    .dataframe tbody tr th {\n",
              "        vertical-align: top;\n",
              "    }\n",
              "\n",
              "    .dataframe thead th {\n",
              "        text-align: right;\n",
              "    }\n",
              "</style>\n",
              "<table border=\"1\" class=\"dataframe\">\n",
              "  <thead>\n",
              "    <tr style=\"text-align: right;\">\n",
              "      <th></th>\n",
              "      <th>id_venta</th>\n",
              "      <th>producto</th>\n",
              "      <th>precio</th>\n",
              "      <th>cantidad</th>\n",
              "      <th>fecha_venta</th>\n",
              "      <th>categoria</th>\n",
              "    </tr>\n",
              "  </thead>\n",
              "  <tbody>\n",
              "    <tr>\n",
              "      <th>588</th>\n",
              "      <td>74</td>\n",
              "      <td>Jarrón decorativo</td>\n",
              "      <td>$51.08</td>\n",
              "      <td>11.0</td>\n",
              "      <td>10/03/2024</td>\n",
              "      <td>Decoración</td>\n",
              "    </tr>\n",
              "    <tr>\n",
              "      <th>2188</th>\n",
              "      <td>2805</td>\n",
              "      <td>Auriculares</td>\n",
              "      <td>$32.81</td>\n",
              "      <td>7.0</td>\n",
              "      <td>13/09/2024</td>\n",
              "      <td>Electrónica</td>\n",
              "    </tr>\n",
              "    <tr>\n",
              "      <th>1963</th>\n",
              "      <td>1153</td>\n",
              "      <td>Microondas</td>\n",
              "      <td>$111.78</td>\n",
              "      <td>5.0</td>\n",
              "      <td>18/08/2024</td>\n",
              "      <td>Electrodomésticos</td>\n",
              "    </tr>\n",
              "    <tr>\n",
              "      <th>2070</th>\n",
              "      <td>1035</td>\n",
              "      <td>Lavadora</td>\n",
              "      <td>$75.44</td>\n",
              "      <td>2.0</td>\n",
              "      <td>30/08/2024</td>\n",
              "      <td>Electrodomésticos</td>\n",
              "    </tr>\n",
              "    <tr>\n",
              "      <th>2504</th>\n",
              "      <td>1676</td>\n",
              "      <td>Secadora</td>\n",
              "      <td>$88.46</td>\n",
              "      <td>9.0</td>\n",
              "      <td>26/10/2024</td>\n",
              "      <td>Electrodomésticos</td>\n",
              "    </tr>\n",
              "  </tbody>\n",
              "</table>\n",
              "</div>\n",
              "    <div class=\"colab-df-buttons\">\n",
              "\n",
              "  <div class=\"colab-df-container\">\n",
              "    <button class=\"colab-df-convert\" onclick=\"convertToInteractive('df-0f408a21-b350-4424-a722-1cf150e6687f')\"\n",
              "            title=\"Convert this dataframe to an interactive table.\"\n",
              "            style=\"display:none;\">\n",
              "\n",
              "  <svg xmlns=\"http://www.w3.org/2000/svg\" height=\"24px\" viewBox=\"0 -960 960 960\">\n",
              "    <path d=\"M120-120v-720h720v720H120Zm60-500h600v-160H180v160Zm220 220h160v-160H400v160Zm0 220h160v-160H400v160ZM180-400h160v-160H180v160Zm440 0h160v-160H620v160ZM180-180h160v-160H180v160Zm440 0h160v-160H620v160Z\"/>\n",
              "  </svg>\n",
              "    </button>\n",
              "\n",
              "  <style>\n",
              "    .colab-df-container {\n",
              "      display:flex;\n",
              "      gap: 12px;\n",
              "    }\n",
              "\n",
              "    .colab-df-convert {\n",
              "      background-color: #E8F0FE;\n",
              "      border: none;\n",
              "      border-radius: 50%;\n",
              "      cursor: pointer;\n",
              "      display: none;\n",
              "      fill: #1967D2;\n",
              "      height: 32px;\n",
              "      padding: 0 0 0 0;\n",
              "      width: 32px;\n",
              "    }\n",
              "\n",
              "    .colab-df-convert:hover {\n",
              "      background-color: #E2EBFA;\n",
              "      box-shadow: 0px 1px 2px rgba(60, 64, 67, 0.3), 0px 1px 3px 1px rgba(60, 64, 67, 0.15);\n",
              "      fill: #174EA6;\n",
              "    }\n",
              "\n",
              "    .colab-df-buttons div {\n",
              "      margin-bottom: 4px;\n",
              "    }\n",
              "\n",
              "    [theme=dark] .colab-df-convert {\n",
              "      background-color: #3B4455;\n",
              "      fill: #D2E3FC;\n",
              "    }\n",
              "\n",
              "    [theme=dark] .colab-df-convert:hover {\n",
              "      background-color: #434B5C;\n",
              "      box-shadow: 0px 1px 3px 1px rgba(0, 0, 0, 0.15);\n",
              "      filter: drop-shadow(0px 1px 2px rgba(0, 0, 0, 0.3));\n",
              "      fill: #FFFFFF;\n",
              "    }\n",
              "  </style>\n",
              "\n",
              "    <script>\n",
              "      const buttonEl =\n",
              "        document.querySelector('#df-0f408a21-b350-4424-a722-1cf150e6687f button.colab-df-convert');\n",
              "      buttonEl.style.display =\n",
              "        google.colab.kernel.accessAllowed ? 'block' : 'none';\n",
              "\n",
              "      async function convertToInteractive(key) {\n",
              "        const element = document.querySelector('#df-0f408a21-b350-4424-a722-1cf150e6687f');\n",
              "        const dataTable =\n",
              "          await google.colab.kernel.invokeFunction('convertToInteractive',\n",
              "                                                    [key], {});\n",
              "        if (!dataTable) return;\n",
              "\n",
              "        const docLinkHtml = 'Like what you see? Visit the ' +\n",
              "          '<a target=\"_blank\" href=https://colab.research.google.com/notebooks/data_table.ipynb>data table notebook</a>'\n",
              "          + ' to learn more about interactive tables.';\n",
              "        element.innerHTML = '';\n",
              "        dataTable['output_type'] = 'display_data';\n",
              "        await google.colab.output.renderOutput(dataTable, element);\n",
              "        const docLink = document.createElement('div');\n",
              "        docLink.innerHTML = docLinkHtml;\n",
              "        element.appendChild(docLink);\n",
              "      }\n",
              "    </script>\n",
              "  </div>\n",
              "\n",
              "\n",
              "    <div id=\"df-4e5895e5-e2e2-416e-93a0-b6a1530bff01\">\n",
              "      <button class=\"colab-df-quickchart\" onclick=\"quickchart('df-4e5895e5-e2e2-416e-93a0-b6a1530bff01')\"\n",
              "                title=\"Suggest charts\"\n",
              "                style=\"display:none;\">\n",
              "\n",
              "<svg xmlns=\"http://www.w3.org/2000/svg\" height=\"24px\"viewBox=\"0 0 24 24\"\n",
              "     width=\"24px\">\n",
              "    <g>\n",
              "        <path d=\"M19 3H5c-1.1 0-2 .9-2 2v14c0 1.1.9 2 2 2h14c1.1 0 2-.9 2-2V5c0-1.1-.9-2-2-2zM9 17H7v-7h2v7zm4 0h-2V7h2v10zm4 0h-2v-4h2v4z\"/>\n",
              "    </g>\n",
              "</svg>\n",
              "      </button>\n",
              "\n",
              "<style>\n",
              "  .colab-df-quickchart {\n",
              "      --bg-color: #E8F0FE;\n",
              "      --fill-color: #1967D2;\n",
              "      --hover-bg-color: #E2EBFA;\n",
              "      --hover-fill-color: #174EA6;\n",
              "      --disabled-fill-color: #AAA;\n",
              "      --disabled-bg-color: #DDD;\n",
              "  }\n",
              "\n",
              "  [theme=dark] .colab-df-quickchart {\n",
              "      --bg-color: #3B4455;\n",
              "      --fill-color: #D2E3FC;\n",
              "      --hover-bg-color: #434B5C;\n",
              "      --hover-fill-color: #FFFFFF;\n",
              "      --disabled-bg-color: #3B4455;\n",
              "      --disabled-fill-color: #666;\n",
              "  }\n",
              "\n",
              "  .colab-df-quickchart {\n",
              "    background-color: var(--bg-color);\n",
              "    border: none;\n",
              "    border-radius: 50%;\n",
              "    cursor: pointer;\n",
              "    display: none;\n",
              "    fill: var(--fill-color);\n",
              "    height: 32px;\n",
              "    padding: 0;\n",
              "    width: 32px;\n",
              "  }\n",
              "\n",
              "  .colab-df-quickchart:hover {\n",
              "    background-color: var(--hover-bg-color);\n",
              "    box-shadow: 0 1px 2px rgba(60, 64, 67, 0.3), 0 1px 3px 1px rgba(60, 64, 67, 0.15);\n",
              "    fill: var(--button-hover-fill-color);\n",
              "  }\n",
              "\n",
              "  .colab-df-quickchart-complete:disabled,\n",
              "  .colab-df-quickchart-complete:disabled:hover {\n",
              "    background-color: var(--disabled-bg-color);\n",
              "    fill: var(--disabled-fill-color);\n",
              "    box-shadow: none;\n",
              "  }\n",
              "\n",
              "  .colab-df-spinner {\n",
              "    border: 2px solid var(--fill-color);\n",
              "    border-color: transparent;\n",
              "    border-bottom-color: var(--fill-color);\n",
              "    animation:\n",
              "      spin 1s steps(1) infinite;\n",
              "  }\n",
              "\n",
              "  @keyframes spin {\n",
              "    0% {\n",
              "      border-color: transparent;\n",
              "      border-bottom-color: var(--fill-color);\n",
              "      border-left-color: var(--fill-color);\n",
              "    }\n",
              "    20% {\n",
              "      border-color: transparent;\n",
              "      border-left-color: var(--fill-color);\n",
              "      border-top-color: var(--fill-color);\n",
              "    }\n",
              "    30% {\n",
              "      border-color: transparent;\n",
              "      border-left-color: var(--fill-color);\n",
              "      border-top-color: var(--fill-color);\n",
              "      border-right-color: var(--fill-color);\n",
              "    }\n",
              "    40% {\n",
              "      border-color: transparent;\n",
              "      border-right-color: var(--fill-color);\n",
              "      border-top-color: var(--fill-color);\n",
              "    }\n",
              "    60% {\n",
              "      border-color: transparent;\n",
              "      border-right-color: var(--fill-color);\n",
              "    }\n",
              "    80% {\n",
              "      border-color: transparent;\n",
              "      border-right-color: var(--fill-color);\n",
              "      border-bottom-color: var(--fill-color);\n",
              "    }\n",
              "    90% {\n",
              "      border-color: transparent;\n",
              "      border-bottom-color: var(--fill-color);\n",
              "    }\n",
              "  }\n",
              "</style>\n",
              "\n",
              "      <script>\n",
              "        async function quickchart(key) {\n",
              "          const quickchartButtonEl =\n",
              "            document.querySelector('#' + key + ' button');\n",
              "          quickchartButtonEl.disabled = true;  // To prevent multiple clicks.\n",
              "          quickchartButtonEl.classList.add('colab-df-spinner');\n",
              "          try {\n",
              "            const charts = await google.colab.kernel.invokeFunction(\n",
              "                'suggestCharts', [key], {});\n",
              "          } catch (error) {\n",
              "            console.error('Error during call to suggestCharts:', error);\n",
              "          }\n",
              "          quickchartButtonEl.classList.remove('colab-df-spinner');\n",
              "          quickchartButtonEl.classList.add('colab-df-quickchart-complete');\n",
              "        }\n",
              "        (() => {\n",
              "          let quickchartButtonEl =\n",
              "            document.querySelector('#df-4e5895e5-e2e2-416e-93a0-b6a1530bff01 button');\n",
              "          quickchartButtonEl.style.display =\n",
              "            google.colab.kernel.accessAllowed ? 'block' : 'none';\n",
              "        })();\n",
              "      </script>\n",
              "    </div>\n",
              "\n",
              "    </div>\n",
              "  </div>\n"
            ],
            "application/vnd.google.colaboratory.intrinsic+json": {
              "type": "dataframe",
              "summary": "{\n  \"name\": \"df_ventas\",\n  \"rows\": 5,\n  \"fields\": [\n    {\n      \"column\": \"id_venta\",\n      \"properties\": {\n        \"dtype\": \"number\",\n        \"std\": 998,\n        \"min\": 74,\n        \"max\": 2805,\n        \"num_unique_values\": 5,\n        \"samples\": [\n          2805,\n          1676,\n          1153\n        ],\n        \"semantic_type\": \"\",\n        \"description\": \"\"\n      }\n    },\n    {\n      \"column\": \"producto\",\n      \"properties\": {\n        \"dtype\": \"string\",\n        \"num_unique_values\": 5,\n        \"samples\": [\n          \"Auriculares\",\n          \"Secadora\",\n          \"Microondas\"\n        ],\n        \"semantic_type\": \"\",\n        \"description\": \"\"\n      }\n    },\n    {\n      \"column\": \"precio\",\n      \"properties\": {\n        \"dtype\": \"string\",\n        \"num_unique_values\": 5,\n        \"samples\": [\n          \"$32.81\",\n          \"$88.46\",\n          \"$111.78\"\n        ],\n        \"semantic_type\": \"\",\n        \"description\": \"\"\n      }\n    },\n    {\n      \"column\": \"cantidad\",\n      \"properties\": {\n        \"dtype\": \"number\",\n        \"std\": 3.492849839314596,\n        \"min\": 2.0,\n        \"max\": 11.0,\n        \"num_unique_values\": 5,\n        \"samples\": [\n          7.0,\n          9.0,\n          5.0\n        ],\n        \"semantic_type\": \"\",\n        \"description\": \"\"\n      }\n    },\n    {\n      \"column\": \"fecha_venta\",\n      \"properties\": {\n        \"dtype\": \"string\",\n        \"num_unique_values\": 5,\n        \"samples\": [\n          \"13/09/2024\",\n          \"26/10/2024\",\n          \"18/08/2024\"\n        ],\n        \"semantic_type\": \"\",\n        \"description\": \"\"\n      }\n    },\n    {\n      \"column\": \"categoria\",\n      \"properties\": {\n        \"dtype\": \"string\",\n        \"num_unique_values\": 3,\n        \"samples\": [\n          \"Decoraci\\u00f3n\",\n          \"Electr\\u00f3nica\",\n          \"Electrodom\\u00e9sticos\"\n        ],\n        \"semantic_type\": \"\",\n        \"description\": \"\"\n      }\n    }\n  ]\n}"
            }
          },
          "metadata": {},
          "execution_count": 11
        }
      ]
    },
    {
      "cell_type": "code",
      "source": [
        "# Analizamos el campo precio\n",
        "# Si es numericos se puede aplicar describe()\n",
        "df_ventas[\"precio\"].sample(5)"
      ],
      "metadata": {
        "id": "yS_uqM3ry7oW",
        "colab": {
          "base_uri": "https://localhost:8080/",
          "height": 241
        },
        "outputId": "c2ec1711-759c-496e-b554-8b69326aa44c"
      },
      "execution_count": 12,
      "outputs": [
        {
          "output_type": "execute_result",
          "data": {
            "text/plain": [
              "363      $83.07\n",
              "555     $100.57\n",
              "2284     $49.43\n",
              "2377     $55.21\n",
              "2575    $112.53\n",
              "Name: precio, dtype: object"
            ],
            "text/html": [
              "<div>\n",
              "<style scoped>\n",
              "    .dataframe tbody tr th:only-of-type {\n",
              "        vertical-align: middle;\n",
              "    }\n",
              "\n",
              "    .dataframe tbody tr th {\n",
              "        vertical-align: top;\n",
              "    }\n",
              "\n",
              "    .dataframe thead th {\n",
              "        text-align: right;\n",
              "    }\n",
              "</style>\n",
              "<table border=\"1\" class=\"dataframe\">\n",
              "  <thead>\n",
              "    <tr style=\"text-align: right;\">\n",
              "      <th></th>\n",
              "      <th>precio</th>\n",
              "    </tr>\n",
              "  </thead>\n",
              "  <tbody>\n",
              "    <tr>\n",
              "      <th>363</th>\n",
              "      <td>$83.07</td>\n",
              "    </tr>\n",
              "    <tr>\n",
              "      <th>555</th>\n",
              "      <td>$100.57</td>\n",
              "    </tr>\n",
              "    <tr>\n",
              "      <th>2284</th>\n",
              "      <td>$49.43</td>\n",
              "    </tr>\n",
              "    <tr>\n",
              "      <th>2377</th>\n",
              "      <td>$55.21</td>\n",
              "    </tr>\n",
              "    <tr>\n",
              "      <th>2575</th>\n",
              "      <td>$112.53</td>\n",
              "    </tr>\n",
              "  </tbody>\n",
              "</table>\n",
              "</div><br><label><b>dtype:</b> object</label>"
            ]
          },
          "metadata": {},
          "execution_count": 12
        }
      ]
    },
    {
      "cell_type": "code",
      "source": [
        "# Analizamos el campo cantidad\n",
        "# si es numerico se puede aplicar describe()\n",
        "df_ventas[\"cantidad\"].sample(5)"
      ],
      "metadata": {
        "id": "JCZSmwXK18u9",
        "colab": {
          "base_uri": "https://localhost:8080/",
          "height": 241
        },
        "outputId": "2b271e76-e3c4-413f-df6b-468a6322a366"
      },
      "execution_count": 13,
      "outputs": [
        {
          "output_type": "execute_result",
          "data": {
            "text/plain": [
              "1145    11.0\n",
              "1332     4.0\n",
              "2242    11.0\n",
              "2714     5.0\n",
              "329      3.0\n",
              "Name: cantidad, dtype: float64"
            ],
            "text/html": [
              "<div>\n",
              "<style scoped>\n",
              "    .dataframe tbody tr th:only-of-type {\n",
              "        vertical-align: middle;\n",
              "    }\n",
              "\n",
              "    .dataframe tbody tr th {\n",
              "        vertical-align: top;\n",
              "    }\n",
              "\n",
              "    .dataframe thead th {\n",
              "        text-align: right;\n",
              "    }\n",
              "</style>\n",
              "<table border=\"1\" class=\"dataframe\">\n",
              "  <thead>\n",
              "    <tr style=\"text-align: right;\">\n",
              "      <th></th>\n",
              "      <th>cantidad</th>\n",
              "    </tr>\n",
              "  </thead>\n",
              "  <tbody>\n",
              "    <tr>\n",
              "      <th>1145</th>\n",
              "      <td>11.0</td>\n",
              "    </tr>\n",
              "    <tr>\n",
              "      <th>1332</th>\n",
              "      <td>4.0</td>\n",
              "    </tr>\n",
              "    <tr>\n",
              "      <th>2242</th>\n",
              "      <td>11.0</td>\n",
              "    </tr>\n",
              "    <tr>\n",
              "      <th>2714</th>\n",
              "      <td>5.0</td>\n",
              "    </tr>\n",
              "    <tr>\n",
              "      <th>329</th>\n",
              "      <td>3.0</td>\n",
              "    </tr>\n",
              "  </tbody>\n",
              "</table>\n",
              "</div><br><label><b>dtype:</b> float64</label>"
            ]
          },
          "metadata": {},
          "execution_count": 13
        }
      ]
    },
    {
      "cell_type": "code",
      "source": [
        "# Analizamos el campo fecha_venta\n",
        "df_ventas[\"fecha_venta\"].sample(5)"
      ],
      "metadata": {
        "id": "IASdTdeN2OMw",
        "colab": {
          "base_uri": "https://localhost:8080/",
          "height": 241
        },
        "outputId": "1d0fdfac-3cb6-486f-bb63-2c1da4b9a056"
      },
      "execution_count": 14,
      "outputs": [
        {
          "output_type": "execute_result",
          "data": {
            "text/plain": [
              "2834    05/12/2024\n",
              "1515    21/06/2024\n",
              "2244    21/09/2024\n",
              "2041    26/08/2024\n",
              "123     16/01/2024\n",
              "Name: fecha_venta, dtype: object"
            ],
            "text/html": [
              "<div>\n",
              "<style scoped>\n",
              "    .dataframe tbody tr th:only-of-type {\n",
              "        vertical-align: middle;\n",
              "    }\n",
              "\n",
              "    .dataframe tbody tr th {\n",
              "        vertical-align: top;\n",
              "    }\n",
              "\n",
              "    .dataframe thead th {\n",
              "        text-align: right;\n",
              "    }\n",
              "</style>\n",
              "<table border=\"1\" class=\"dataframe\">\n",
              "  <thead>\n",
              "    <tr style=\"text-align: right;\">\n",
              "      <th></th>\n",
              "      <th>fecha_venta</th>\n",
              "    </tr>\n",
              "  </thead>\n",
              "  <tbody>\n",
              "    <tr>\n",
              "      <th>2834</th>\n",
              "      <td>05/12/2024</td>\n",
              "    </tr>\n",
              "    <tr>\n",
              "      <th>1515</th>\n",
              "      <td>21/06/2024</td>\n",
              "    </tr>\n",
              "    <tr>\n",
              "      <th>2244</th>\n",
              "      <td>21/09/2024</td>\n",
              "    </tr>\n",
              "    <tr>\n",
              "      <th>2041</th>\n",
              "      <td>26/08/2024</td>\n",
              "    </tr>\n",
              "    <tr>\n",
              "      <th>123</th>\n",
              "      <td>16/01/2024</td>\n",
              "    </tr>\n",
              "  </tbody>\n",
              "</table>\n",
              "</div><br><label><b>dtype:</b> object</label>"
            ]
          },
          "metadata": {},
          "execution_count": 14
        }
      ]
    },
    {
      "cell_type": "code",
      "source": [
        "# Analizamos el campo categoria\n",
        "# Probar con value_counts y unique\n",
        "df_ventas[\"categoria\"].value_counts()"
      ],
      "metadata": {
        "id": "u0olGUXk2aQP",
        "colab": {
          "base_uri": "https://localhost:8080/",
          "height": 209
        },
        "outputId": "af3652da-a311-42ae-c523-408d1e5ccbc7"
      },
      "execution_count": 15,
      "outputs": [
        {
          "output_type": "execute_result",
          "data": {
            "text/plain": [
              "categoria\n",
              "Decoración           1015\n",
              "Electrónica          1012\n",
              "Electrodomésticos    1008\n",
              "Name: count, dtype: int64"
            ],
            "text/html": [
              "<div>\n",
              "<style scoped>\n",
              "    .dataframe tbody tr th:only-of-type {\n",
              "        vertical-align: middle;\n",
              "    }\n",
              "\n",
              "    .dataframe tbody tr th {\n",
              "        vertical-align: top;\n",
              "    }\n",
              "\n",
              "    .dataframe thead th {\n",
              "        text-align: right;\n",
              "    }\n",
              "</style>\n",
              "<table border=\"1\" class=\"dataframe\">\n",
              "  <thead>\n",
              "    <tr style=\"text-align: right;\">\n",
              "      <th></th>\n",
              "      <th>count</th>\n",
              "    </tr>\n",
              "    <tr>\n",
              "      <th>categoria</th>\n",
              "      <th></th>\n",
              "    </tr>\n",
              "  </thead>\n",
              "  <tbody>\n",
              "    <tr>\n",
              "      <th>Decoración</th>\n",
              "      <td>1015</td>\n",
              "    </tr>\n",
              "    <tr>\n",
              "      <th>Electrónica</th>\n",
              "      <td>1012</td>\n",
              "    </tr>\n",
              "    <tr>\n",
              "      <th>Electrodomésticos</th>\n",
              "      <td>1008</td>\n",
              "    </tr>\n",
              "  </tbody>\n",
              "</table>\n",
              "</div><br><label><b>dtype:</b> int64</label>"
            ]
          },
          "metadata": {},
          "execution_count": 15
        }
      ]
    },
    {
      "cell_type": "markdown",
      "source": [
        "### Calidad de datos\n",
        "Actividad 5"
      ],
      "metadata": {
        "id": "qF-Q6rCC6Ql8"
      }
    },
    {
      "cell_type": "code",
      "source": [
        "# Buscamos registros duplicados\n",
        "df_ventas.duplicated().sum()"
      ],
      "metadata": {
        "id": "qoJWMCaNyb1n",
        "colab": {
          "base_uri": "https://localhost:8080/"
        },
        "outputId": "a46b807d-9df3-45cb-d7f3-cf3528b6ece1"
      },
      "execution_count": 17,
      "outputs": [
        {
          "output_type": "execute_result",
          "data": {
            "text/plain": [
              "np.int64(35)"
            ]
          },
          "metadata": {},
          "execution_count": 17
        }
      ]
    },
    {
      "cell_type": "code",
      "source": [
        "# Visualizamos los duplicados\n",
        "# keep: 'first', 'last', False\n",
        "df_ventas[df_ventas.duplicated(keep = \"first\")]"
      ],
      "metadata": {
        "id": "T5ZrKVEn4aI-",
        "colab": {
          "base_uri": "https://localhost:8080/",
          "height": 1000
        },
        "outputId": "ee1b3e4f-a12d-4c77-d24f-f5f1728ad202"
      },
      "execution_count": 18,
      "outputs": [
        {
          "output_type": "execute_result",
          "data": {
            "text/plain": [
              "     id_venta                producto   precio  cantidad fecha_venta  \\\n",
              "826        56                Cortinas   $66.24       5.0  05/04/2024   \n",
              "827       421         Lámpara de mesa  $114.83       9.0  05/04/2024   \n",
              "828       424       Jarrón decorativo   $87.94       2.0  05/04/2024   \n",
              "829      1868                Cafetera   $62.23       1.0  05/04/2024   \n",
              "830      2545             Auriculares   $32.81      11.0  05/04/2024   \n",
              "831      2778              SmartWatch   $70.66       7.0  05/04/2024   \n",
              "844       145                Alfombra   $41.72       8.0  06/04/2024   \n",
              "845       300         Adorno de pared   $67.75       9.0  06/04/2024   \n",
              "846       439         Lámpara de mesa   $35.43       2.0  06/04/2024   \n",
              "847       906                Cortinas   $84.04       3.0  06/04/2024   \n",
              "848       959         Lámpara de mesa   $76.32       7.0  06/04/2024   \n",
              "849      1376                Secadora   $69.58       7.0  06/04/2024   \n",
              "850      1776                Secadora   $33.55       3.0  06/04/2024   \n",
              "851      1784              Aspiradora  $115.24       3.0  06/04/2024   \n",
              "852      1974              Aspiradora   $87.32       7.0  06/04/2024   \n",
              "853      2080  Consola de videojuegos  $100.69       7.0  06/04/2024   \n",
              "854      2108              SmartWatch   $79.37      10.0  06/04/2024   \n",
              "855      2169               Proyector  $120.34       1.0  06/04/2024   \n",
              "867       213       Espejo decorativo   $40.76       8.0  07/04/2024   \n",
              "868       345                Alfombra   $56.78       9.0  07/04/2024   \n",
              "869       398       Rincón de plantas   $77.30       7.0  07/04/2024   \n",
              "870       509         Lámpara de mesa   $72.50       1.0  07/04/2024   \n",
              "871       821         Lámpara de mesa   $71.17      10.0  07/04/2024   \n",
              "872      1642                Heladera   $88.78       2.0  07/04/2024   \n",
              "873      1956                Secadora   $42.59      12.0  07/04/2024   \n",
              "874      2085             Auriculares  $122.56       6.0  07/04/2024   \n",
              "875      2096                  Laptop   $83.25       6.0  07/04/2024   \n",
              "876      2356                  Laptop   $30.16       6.0  07/04/2024   \n",
              "877      2373              Smartphone  $123.60      12.0  07/04/2024   \n",
              "884       204       Jarrón decorativo   $94.75       1.0  08/04/2024   \n",
              "885      1381      Freidora eléctrica   $38.12       2.0  08/04/2024   \n",
              "886      2365             Auriculares   $92.91      11.0  08/04/2024   \n",
              "887      2486                  Laptop  $124.95      11.0  08/04/2024   \n",
              "888      2506                  Laptop   $34.74       1.0  08/04/2024   \n",
              "889      2705             Auriculares   $87.29       2.0  08/04/2024   \n",
              "\n",
              "             categoria  \n",
              "826         Decoración  \n",
              "827         Decoración  \n",
              "828         Decoración  \n",
              "829  Electrodomésticos  \n",
              "830        Electrónica  \n",
              "831        Electrónica  \n",
              "844         Decoración  \n",
              "845         Decoración  \n",
              "846         Decoración  \n",
              "847         Decoración  \n",
              "848         Decoración  \n",
              "849  Electrodomésticos  \n",
              "850  Electrodomésticos  \n",
              "851  Electrodomésticos  \n",
              "852  Electrodomésticos  \n",
              "853        Electrónica  \n",
              "854        Electrónica  \n",
              "855        Electrónica  \n",
              "867         Decoración  \n",
              "868         Decoración  \n",
              "869         Decoración  \n",
              "870         Decoración  \n",
              "871         Decoración  \n",
              "872  Electrodomésticos  \n",
              "873  Electrodomésticos  \n",
              "874        Electrónica  \n",
              "875        Electrónica  \n",
              "876        Electrónica  \n",
              "877        Electrónica  \n",
              "884         Decoración  \n",
              "885  Electrodomésticos  \n",
              "886        Electrónica  \n",
              "887        Electrónica  \n",
              "888        Electrónica  \n",
              "889        Electrónica  "
            ],
            "text/html": [
              "\n",
              "  <div id=\"df-c09a2d2c-3273-40e6-8948-2485da50630d\" class=\"colab-df-container\">\n",
              "    <div>\n",
              "<style scoped>\n",
              "    .dataframe tbody tr th:only-of-type {\n",
              "        vertical-align: middle;\n",
              "    }\n",
              "\n",
              "    .dataframe tbody tr th {\n",
              "        vertical-align: top;\n",
              "    }\n",
              "\n",
              "    .dataframe thead th {\n",
              "        text-align: right;\n",
              "    }\n",
              "</style>\n",
              "<table border=\"1\" class=\"dataframe\">\n",
              "  <thead>\n",
              "    <tr style=\"text-align: right;\">\n",
              "      <th></th>\n",
              "      <th>id_venta</th>\n",
              "      <th>producto</th>\n",
              "      <th>precio</th>\n",
              "      <th>cantidad</th>\n",
              "      <th>fecha_venta</th>\n",
              "      <th>categoria</th>\n",
              "    </tr>\n",
              "  </thead>\n",
              "  <tbody>\n",
              "    <tr>\n",
              "      <th>826</th>\n",
              "      <td>56</td>\n",
              "      <td>Cortinas</td>\n",
              "      <td>$66.24</td>\n",
              "      <td>5.0</td>\n",
              "      <td>05/04/2024</td>\n",
              "      <td>Decoración</td>\n",
              "    </tr>\n",
              "    <tr>\n",
              "      <th>827</th>\n",
              "      <td>421</td>\n",
              "      <td>Lámpara de mesa</td>\n",
              "      <td>$114.83</td>\n",
              "      <td>9.0</td>\n",
              "      <td>05/04/2024</td>\n",
              "      <td>Decoración</td>\n",
              "    </tr>\n",
              "    <tr>\n",
              "      <th>828</th>\n",
              "      <td>424</td>\n",
              "      <td>Jarrón decorativo</td>\n",
              "      <td>$87.94</td>\n",
              "      <td>2.0</td>\n",
              "      <td>05/04/2024</td>\n",
              "      <td>Decoración</td>\n",
              "    </tr>\n",
              "    <tr>\n",
              "      <th>829</th>\n",
              "      <td>1868</td>\n",
              "      <td>Cafetera</td>\n",
              "      <td>$62.23</td>\n",
              "      <td>1.0</td>\n",
              "      <td>05/04/2024</td>\n",
              "      <td>Electrodomésticos</td>\n",
              "    </tr>\n",
              "    <tr>\n",
              "      <th>830</th>\n",
              "      <td>2545</td>\n",
              "      <td>Auriculares</td>\n",
              "      <td>$32.81</td>\n",
              "      <td>11.0</td>\n",
              "      <td>05/04/2024</td>\n",
              "      <td>Electrónica</td>\n",
              "    </tr>\n",
              "    <tr>\n",
              "      <th>831</th>\n",
              "      <td>2778</td>\n",
              "      <td>SmartWatch</td>\n",
              "      <td>$70.66</td>\n",
              "      <td>7.0</td>\n",
              "      <td>05/04/2024</td>\n",
              "      <td>Electrónica</td>\n",
              "    </tr>\n",
              "    <tr>\n",
              "      <th>844</th>\n",
              "      <td>145</td>\n",
              "      <td>Alfombra</td>\n",
              "      <td>$41.72</td>\n",
              "      <td>8.0</td>\n",
              "      <td>06/04/2024</td>\n",
              "      <td>Decoración</td>\n",
              "    </tr>\n",
              "    <tr>\n",
              "      <th>845</th>\n",
              "      <td>300</td>\n",
              "      <td>Adorno de pared</td>\n",
              "      <td>$67.75</td>\n",
              "      <td>9.0</td>\n",
              "      <td>06/04/2024</td>\n",
              "      <td>Decoración</td>\n",
              "    </tr>\n",
              "    <tr>\n",
              "      <th>846</th>\n",
              "      <td>439</td>\n",
              "      <td>Lámpara de mesa</td>\n",
              "      <td>$35.43</td>\n",
              "      <td>2.0</td>\n",
              "      <td>06/04/2024</td>\n",
              "      <td>Decoración</td>\n",
              "    </tr>\n",
              "    <tr>\n",
              "      <th>847</th>\n",
              "      <td>906</td>\n",
              "      <td>Cortinas</td>\n",
              "      <td>$84.04</td>\n",
              "      <td>3.0</td>\n",
              "      <td>06/04/2024</td>\n",
              "      <td>Decoración</td>\n",
              "    </tr>\n",
              "    <tr>\n",
              "      <th>848</th>\n",
              "      <td>959</td>\n",
              "      <td>Lámpara de mesa</td>\n",
              "      <td>$76.32</td>\n",
              "      <td>7.0</td>\n",
              "      <td>06/04/2024</td>\n",
              "      <td>Decoración</td>\n",
              "    </tr>\n",
              "    <tr>\n",
              "      <th>849</th>\n",
              "      <td>1376</td>\n",
              "      <td>Secadora</td>\n",
              "      <td>$69.58</td>\n",
              "      <td>7.0</td>\n",
              "      <td>06/04/2024</td>\n",
              "      <td>Electrodomésticos</td>\n",
              "    </tr>\n",
              "    <tr>\n",
              "      <th>850</th>\n",
              "      <td>1776</td>\n",
              "      <td>Secadora</td>\n",
              "      <td>$33.55</td>\n",
              "      <td>3.0</td>\n",
              "      <td>06/04/2024</td>\n",
              "      <td>Electrodomésticos</td>\n",
              "    </tr>\n",
              "    <tr>\n",
              "      <th>851</th>\n",
              "      <td>1784</td>\n",
              "      <td>Aspiradora</td>\n",
              "      <td>$115.24</td>\n",
              "      <td>3.0</td>\n",
              "      <td>06/04/2024</td>\n",
              "      <td>Electrodomésticos</td>\n",
              "    </tr>\n",
              "    <tr>\n",
              "      <th>852</th>\n",
              "      <td>1974</td>\n",
              "      <td>Aspiradora</td>\n",
              "      <td>$87.32</td>\n",
              "      <td>7.0</td>\n",
              "      <td>06/04/2024</td>\n",
              "      <td>Electrodomésticos</td>\n",
              "    </tr>\n",
              "    <tr>\n",
              "      <th>853</th>\n",
              "      <td>2080</td>\n",
              "      <td>Consola de videojuegos</td>\n",
              "      <td>$100.69</td>\n",
              "      <td>7.0</td>\n",
              "      <td>06/04/2024</td>\n",
              "      <td>Electrónica</td>\n",
              "    </tr>\n",
              "    <tr>\n",
              "      <th>854</th>\n",
              "      <td>2108</td>\n",
              "      <td>SmartWatch</td>\n",
              "      <td>$79.37</td>\n",
              "      <td>10.0</td>\n",
              "      <td>06/04/2024</td>\n",
              "      <td>Electrónica</td>\n",
              "    </tr>\n",
              "    <tr>\n",
              "      <th>855</th>\n",
              "      <td>2169</td>\n",
              "      <td>Proyector</td>\n",
              "      <td>$120.34</td>\n",
              "      <td>1.0</td>\n",
              "      <td>06/04/2024</td>\n",
              "      <td>Electrónica</td>\n",
              "    </tr>\n",
              "    <tr>\n",
              "      <th>867</th>\n",
              "      <td>213</td>\n",
              "      <td>Espejo decorativo</td>\n",
              "      <td>$40.76</td>\n",
              "      <td>8.0</td>\n",
              "      <td>07/04/2024</td>\n",
              "      <td>Decoración</td>\n",
              "    </tr>\n",
              "    <tr>\n",
              "      <th>868</th>\n",
              "      <td>345</td>\n",
              "      <td>Alfombra</td>\n",
              "      <td>$56.78</td>\n",
              "      <td>9.0</td>\n",
              "      <td>07/04/2024</td>\n",
              "      <td>Decoración</td>\n",
              "    </tr>\n",
              "    <tr>\n",
              "      <th>869</th>\n",
              "      <td>398</td>\n",
              "      <td>Rincón de plantas</td>\n",
              "      <td>$77.30</td>\n",
              "      <td>7.0</td>\n",
              "      <td>07/04/2024</td>\n",
              "      <td>Decoración</td>\n",
              "    </tr>\n",
              "    <tr>\n",
              "      <th>870</th>\n",
              "      <td>509</td>\n",
              "      <td>Lámpara de mesa</td>\n",
              "      <td>$72.50</td>\n",
              "      <td>1.0</td>\n",
              "      <td>07/04/2024</td>\n",
              "      <td>Decoración</td>\n",
              "    </tr>\n",
              "    <tr>\n",
              "      <th>871</th>\n",
              "      <td>821</td>\n",
              "      <td>Lámpara de mesa</td>\n",
              "      <td>$71.17</td>\n",
              "      <td>10.0</td>\n",
              "      <td>07/04/2024</td>\n",
              "      <td>Decoración</td>\n",
              "    </tr>\n",
              "    <tr>\n",
              "      <th>872</th>\n",
              "      <td>1642</td>\n",
              "      <td>Heladera</td>\n",
              "      <td>$88.78</td>\n",
              "      <td>2.0</td>\n",
              "      <td>07/04/2024</td>\n",
              "      <td>Electrodomésticos</td>\n",
              "    </tr>\n",
              "    <tr>\n",
              "      <th>873</th>\n",
              "      <td>1956</td>\n",
              "      <td>Secadora</td>\n",
              "      <td>$42.59</td>\n",
              "      <td>12.0</td>\n",
              "      <td>07/04/2024</td>\n",
              "      <td>Electrodomésticos</td>\n",
              "    </tr>\n",
              "    <tr>\n",
              "      <th>874</th>\n",
              "      <td>2085</td>\n",
              "      <td>Auriculares</td>\n",
              "      <td>$122.56</td>\n",
              "      <td>6.0</td>\n",
              "      <td>07/04/2024</td>\n",
              "      <td>Electrónica</td>\n",
              "    </tr>\n",
              "    <tr>\n",
              "      <th>875</th>\n",
              "      <td>2096</td>\n",
              "      <td>Laptop</td>\n",
              "      <td>$83.25</td>\n",
              "      <td>6.0</td>\n",
              "      <td>07/04/2024</td>\n",
              "      <td>Electrónica</td>\n",
              "    </tr>\n",
              "    <tr>\n",
              "      <th>876</th>\n",
              "      <td>2356</td>\n",
              "      <td>Laptop</td>\n",
              "      <td>$30.16</td>\n",
              "      <td>6.0</td>\n",
              "      <td>07/04/2024</td>\n",
              "      <td>Electrónica</td>\n",
              "    </tr>\n",
              "    <tr>\n",
              "      <th>877</th>\n",
              "      <td>2373</td>\n",
              "      <td>Smartphone</td>\n",
              "      <td>$123.60</td>\n",
              "      <td>12.0</td>\n",
              "      <td>07/04/2024</td>\n",
              "      <td>Electrónica</td>\n",
              "    </tr>\n",
              "    <tr>\n",
              "      <th>884</th>\n",
              "      <td>204</td>\n",
              "      <td>Jarrón decorativo</td>\n",
              "      <td>$94.75</td>\n",
              "      <td>1.0</td>\n",
              "      <td>08/04/2024</td>\n",
              "      <td>Decoración</td>\n",
              "    </tr>\n",
              "    <tr>\n",
              "      <th>885</th>\n",
              "      <td>1381</td>\n",
              "      <td>Freidora eléctrica</td>\n",
              "      <td>$38.12</td>\n",
              "      <td>2.0</td>\n",
              "      <td>08/04/2024</td>\n",
              "      <td>Electrodomésticos</td>\n",
              "    </tr>\n",
              "    <tr>\n",
              "      <th>886</th>\n",
              "      <td>2365</td>\n",
              "      <td>Auriculares</td>\n",
              "      <td>$92.91</td>\n",
              "      <td>11.0</td>\n",
              "      <td>08/04/2024</td>\n",
              "      <td>Electrónica</td>\n",
              "    </tr>\n",
              "    <tr>\n",
              "      <th>887</th>\n",
              "      <td>2486</td>\n",
              "      <td>Laptop</td>\n",
              "      <td>$124.95</td>\n",
              "      <td>11.0</td>\n",
              "      <td>08/04/2024</td>\n",
              "      <td>Electrónica</td>\n",
              "    </tr>\n",
              "    <tr>\n",
              "      <th>888</th>\n",
              "      <td>2506</td>\n",
              "      <td>Laptop</td>\n",
              "      <td>$34.74</td>\n",
              "      <td>1.0</td>\n",
              "      <td>08/04/2024</td>\n",
              "      <td>Electrónica</td>\n",
              "    </tr>\n",
              "    <tr>\n",
              "      <th>889</th>\n",
              "      <td>2705</td>\n",
              "      <td>Auriculares</td>\n",
              "      <td>$87.29</td>\n",
              "      <td>2.0</td>\n",
              "      <td>08/04/2024</td>\n",
              "      <td>Electrónica</td>\n",
              "    </tr>\n",
              "  </tbody>\n",
              "</table>\n",
              "</div>\n",
              "    <div class=\"colab-df-buttons\">\n",
              "\n",
              "  <div class=\"colab-df-container\">\n",
              "    <button class=\"colab-df-convert\" onclick=\"convertToInteractive('df-c09a2d2c-3273-40e6-8948-2485da50630d')\"\n",
              "            title=\"Convert this dataframe to an interactive table.\"\n",
              "            style=\"display:none;\">\n",
              "\n",
              "  <svg xmlns=\"http://www.w3.org/2000/svg\" height=\"24px\" viewBox=\"0 -960 960 960\">\n",
              "    <path d=\"M120-120v-720h720v720H120Zm60-500h600v-160H180v160Zm220 220h160v-160H400v160Zm0 220h160v-160H400v160ZM180-400h160v-160H180v160Zm440 0h160v-160H620v160ZM180-180h160v-160H180v160Zm440 0h160v-160H620v160Z\"/>\n",
              "  </svg>\n",
              "    </button>\n",
              "\n",
              "  <style>\n",
              "    .colab-df-container {\n",
              "      display:flex;\n",
              "      gap: 12px;\n",
              "    }\n",
              "\n",
              "    .colab-df-convert {\n",
              "      background-color: #E8F0FE;\n",
              "      border: none;\n",
              "      border-radius: 50%;\n",
              "      cursor: pointer;\n",
              "      display: none;\n",
              "      fill: #1967D2;\n",
              "      height: 32px;\n",
              "      padding: 0 0 0 0;\n",
              "      width: 32px;\n",
              "    }\n",
              "\n",
              "    .colab-df-convert:hover {\n",
              "      background-color: #E2EBFA;\n",
              "      box-shadow: 0px 1px 2px rgba(60, 64, 67, 0.3), 0px 1px 3px 1px rgba(60, 64, 67, 0.15);\n",
              "      fill: #174EA6;\n",
              "    }\n",
              "\n",
              "    .colab-df-buttons div {\n",
              "      margin-bottom: 4px;\n",
              "    }\n",
              "\n",
              "    [theme=dark] .colab-df-convert {\n",
              "      background-color: #3B4455;\n",
              "      fill: #D2E3FC;\n",
              "    }\n",
              "\n",
              "    [theme=dark] .colab-df-convert:hover {\n",
              "      background-color: #434B5C;\n",
              "      box-shadow: 0px 1px 3px 1px rgba(0, 0, 0, 0.15);\n",
              "      filter: drop-shadow(0px 1px 2px rgba(0, 0, 0, 0.3));\n",
              "      fill: #FFFFFF;\n",
              "    }\n",
              "  </style>\n",
              "\n",
              "    <script>\n",
              "      const buttonEl =\n",
              "        document.querySelector('#df-c09a2d2c-3273-40e6-8948-2485da50630d button.colab-df-convert');\n",
              "      buttonEl.style.display =\n",
              "        google.colab.kernel.accessAllowed ? 'block' : 'none';\n",
              "\n",
              "      async function convertToInteractive(key) {\n",
              "        const element = document.querySelector('#df-c09a2d2c-3273-40e6-8948-2485da50630d');\n",
              "        const dataTable =\n",
              "          await google.colab.kernel.invokeFunction('convertToInteractive',\n",
              "                                                    [key], {});\n",
              "        if (!dataTable) return;\n",
              "\n",
              "        const docLinkHtml = 'Like what you see? Visit the ' +\n",
              "          '<a target=\"_blank\" href=https://colab.research.google.com/notebooks/data_table.ipynb>data table notebook</a>'\n",
              "          + ' to learn more about interactive tables.';\n",
              "        element.innerHTML = '';\n",
              "        dataTable['output_type'] = 'display_data';\n",
              "        await google.colab.output.renderOutput(dataTable, element);\n",
              "        const docLink = document.createElement('div');\n",
              "        docLink.innerHTML = docLinkHtml;\n",
              "        element.appendChild(docLink);\n",
              "      }\n",
              "    </script>\n",
              "  </div>\n",
              "\n",
              "\n",
              "    <div id=\"df-e8e95618-06a4-4cc0-9161-5090f118cbf3\">\n",
              "      <button class=\"colab-df-quickchart\" onclick=\"quickchart('df-e8e95618-06a4-4cc0-9161-5090f118cbf3')\"\n",
              "                title=\"Suggest charts\"\n",
              "                style=\"display:none;\">\n",
              "\n",
              "<svg xmlns=\"http://www.w3.org/2000/svg\" height=\"24px\"viewBox=\"0 0 24 24\"\n",
              "     width=\"24px\">\n",
              "    <g>\n",
              "        <path d=\"M19 3H5c-1.1 0-2 .9-2 2v14c0 1.1.9 2 2 2h14c1.1 0 2-.9 2-2V5c0-1.1-.9-2-2-2zM9 17H7v-7h2v7zm4 0h-2V7h2v10zm4 0h-2v-4h2v4z\"/>\n",
              "    </g>\n",
              "</svg>\n",
              "      </button>\n",
              "\n",
              "<style>\n",
              "  .colab-df-quickchart {\n",
              "      --bg-color: #E8F0FE;\n",
              "      --fill-color: #1967D2;\n",
              "      --hover-bg-color: #E2EBFA;\n",
              "      --hover-fill-color: #174EA6;\n",
              "      --disabled-fill-color: #AAA;\n",
              "      --disabled-bg-color: #DDD;\n",
              "  }\n",
              "\n",
              "  [theme=dark] .colab-df-quickchart {\n",
              "      --bg-color: #3B4455;\n",
              "      --fill-color: #D2E3FC;\n",
              "      --hover-bg-color: #434B5C;\n",
              "      --hover-fill-color: #FFFFFF;\n",
              "      --disabled-bg-color: #3B4455;\n",
              "      --disabled-fill-color: #666;\n",
              "  }\n",
              "\n",
              "  .colab-df-quickchart {\n",
              "    background-color: var(--bg-color);\n",
              "    border: none;\n",
              "    border-radius: 50%;\n",
              "    cursor: pointer;\n",
              "    display: none;\n",
              "    fill: var(--fill-color);\n",
              "    height: 32px;\n",
              "    padding: 0;\n",
              "    width: 32px;\n",
              "  }\n",
              "\n",
              "  .colab-df-quickchart:hover {\n",
              "    background-color: var(--hover-bg-color);\n",
              "    box-shadow: 0 1px 2px rgba(60, 64, 67, 0.3), 0 1px 3px 1px rgba(60, 64, 67, 0.15);\n",
              "    fill: var(--button-hover-fill-color);\n",
              "  }\n",
              "\n",
              "  .colab-df-quickchart-complete:disabled,\n",
              "  .colab-df-quickchart-complete:disabled:hover {\n",
              "    background-color: var(--disabled-bg-color);\n",
              "    fill: var(--disabled-fill-color);\n",
              "    box-shadow: none;\n",
              "  }\n",
              "\n",
              "  .colab-df-spinner {\n",
              "    border: 2px solid var(--fill-color);\n",
              "    border-color: transparent;\n",
              "    border-bottom-color: var(--fill-color);\n",
              "    animation:\n",
              "      spin 1s steps(1) infinite;\n",
              "  }\n",
              "\n",
              "  @keyframes spin {\n",
              "    0% {\n",
              "      border-color: transparent;\n",
              "      border-bottom-color: var(--fill-color);\n",
              "      border-left-color: var(--fill-color);\n",
              "    }\n",
              "    20% {\n",
              "      border-color: transparent;\n",
              "      border-left-color: var(--fill-color);\n",
              "      border-top-color: var(--fill-color);\n",
              "    }\n",
              "    30% {\n",
              "      border-color: transparent;\n",
              "      border-left-color: var(--fill-color);\n",
              "      border-top-color: var(--fill-color);\n",
              "      border-right-color: var(--fill-color);\n",
              "    }\n",
              "    40% {\n",
              "      border-color: transparent;\n",
              "      border-right-color: var(--fill-color);\n",
              "      border-top-color: var(--fill-color);\n",
              "    }\n",
              "    60% {\n",
              "      border-color: transparent;\n",
              "      border-right-color: var(--fill-color);\n",
              "    }\n",
              "    80% {\n",
              "      border-color: transparent;\n",
              "      border-right-color: var(--fill-color);\n",
              "      border-bottom-color: var(--fill-color);\n",
              "    }\n",
              "    90% {\n",
              "      border-color: transparent;\n",
              "      border-bottom-color: var(--fill-color);\n",
              "    }\n",
              "  }\n",
              "</style>\n",
              "\n",
              "      <script>\n",
              "        async function quickchart(key) {\n",
              "          const quickchartButtonEl =\n",
              "            document.querySelector('#' + key + ' button');\n",
              "          quickchartButtonEl.disabled = true;  // To prevent multiple clicks.\n",
              "          quickchartButtonEl.classList.add('colab-df-spinner');\n",
              "          try {\n",
              "            const charts = await google.colab.kernel.invokeFunction(\n",
              "                'suggestCharts', [key], {});\n",
              "          } catch (error) {\n",
              "            console.error('Error during call to suggestCharts:', error);\n",
              "          }\n",
              "          quickchartButtonEl.classList.remove('colab-df-spinner');\n",
              "          quickchartButtonEl.classList.add('colab-df-quickchart-complete');\n",
              "        }\n",
              "        (() => {\n",
              "          let quickchartButtonEl =\n",
              "            document.querySelector('#df-e8e95618-06a4-4cc0-9161-5090f118cbf3 button');\n",
              "          quickchartButtonEl.style.display =\n",
              "            google.colab.kernel.accessAllowed ? 'block' : 'none';\n",
              "        })();\n",
              "      </script>\n",
              "    </div>\n",
              "\n",
              "    </div>\n",
              "  </div>\n"
            ],
            "application/vnd.google.colaboratory.intrinsic+json": {
              "type": "dataframe",
              "repr_error": "0"
            }
          },
          "metadata": {},
          "execution_count": 18
        }
      ]
    },
    {
      "cell_type": "code",
      "source": [
        "# Buscamos datos nulos\n"
      ],
      "metadata": {
        "id": "V0W9zk6I5dSG"
      },
      "execution_count": null,
      "outputs": []
    },
    {
      "cell_type": "code",
      "source": [
        "# Visualizar los nulos\n"
      ],
      "metadata": {
        "id": "UuOnQjyc5n0w"
      },
      "execution_count": null,
      "outputs": []
    },
    {
      "cell_type": "code",
      "source": [
        "# Analizar los precios de los NaN a ver que opciones tenemos"
      ],
      "metadata": {
        "id": "mUWDRsVQP42q"
      },
      "execution_count": null,
      "outputs": []
    },
    {
      "cell_type": "markdown",
      "source": [
        "### Observaciones\n",
        "\n",
        "\n"
      ],
      "metadata": {
        "id": "0iVJTPFMwbSM"
      }
    },
    {
      "cell_type": "markdown",
      "source": [
        "***  Completar ***"
      ],
      "metadata": {
        "id": "MBdZ-O45lHho"
      }
    },
    {
      "cell_type": "markdown",
      "source": [
        "## Dataframe marketing"
      ],
      "metadata": {
        "id": "ifR2yFTi8B95"
      }
    },
    {
      "cell_type": "markdown",
      "source": [
        "### Analisis exploratorio de datos"
      ],
      "metadata": {
        "id": "Ya-UhrM49tJU"
      }
    },
    {
      "cell_type": "markdown",
      "source": [
        "Aplicamos los métodos de EDA vistos en clase, `info`, `columns`, `dtypes`, `head`, `tail`, `sample`, `unique`, `value_counts`, `describe`, `duplicated`, `isnull`, etc. y documentamos las observaciones:"
      ],
      "metadata": {
        "id": "KhNX82PBTrSj"
      }
    },
    {
      "cell_type": "code",
      "source": [
        "# Aplicamos info() para familiarizarnos con el dataframe\n",
        "df_marketing.info()"
      ],
      "metadata": {
        "id": "RuH1lakzTiE0"
      },
      "execution_count": null,
      "outputs": []
    },
    {
      "cell_type": "code",
      "source": [
        "# Visualizamos los primeros registros con head()\n",
        "# también podemos usar tail() para visualizar los últimos\n",
        "df_marketing.head()"
      ],
      "metadata": {
        "id": "TFHFaSX5UWxy"
      },
      "execution_count": null,
      "outputs": []
    },
    {
      "cell_type": "code",
      "source": [
        "# Analizamos el campo costo\n",
        "df_marketing[\"costo\"].sample(5)"
      ],
      "metadata": {
        "id": "SCRikVnBUkHS"
      },
      "execution_count": null,
      "outputs": []
    },
    {
      "cell_type": "code",
      "source": [
        "# Analizamos el campo fecha_inicio\n",
        "df_marketing[\"fecha_inicio\"].sample(5)"
      ],
      "metadata": {
        "id": "7dX9L7UwUq_7"
      },
      "execution_count": null,
      "outputs": []
    },
    {
      "cell_type": "code",
      "source": [
        "# Analizamos el campo fecha_fin\n",
        "df_marketing[\"fecha_fin\"].sample(5)"
      ],
      "metadata": {
        "id": "C7XtOyZPU56H"
      },
      "execution_count": null,
      "outputs": []
    },
    {
      "cell_type": "markdown",
      "source": [
        "### Calidad de los datos\n"
      ],
      "metadata": {
        "id": "FidOum8dU_82"
      }
    },
    {
      "cell_type": "code",
      "source": [
        "# Buscamos registros duplicados\n"
      ],
      "metadata": {
        "id": "rjzHFqEqVC7p"
      },
      "execution_count": null,
      "outputs": []
    },
    {
      "cell_type": "code",
      "source": [],
      "metadata": {
        "id": "Atws6KOZVL1z"
      },
      "execution_count": null,
      "outputs": []
    },
    {
      "cell_type": "markdown",
      "source": [
        "### Observaciones\n",
        "*** Completar ****"
      ],
      "metadata": {
        "id": "5ozl6XDO9vaD"
      }
    },
    {
      "cell_type": "markdown",
      "source": [
        "## Dataframe clientes"
      ],
      "metadata": {
        "id": "HG-gP0gu9qTb"
      }
    },
    {
      "cell_type": "markdown",
      "source": [
        "### Analisis exploratorio de datos"
      ],
      "metadata": {
        "id": "m_3WYdEx9xee"
      }
    },
    {
      "cell_type": "markdown",
      "source": [
        "### Observaciones"
      ],
      "metadata": {
        "id": "tnUto8c_9zaV"
      }
    },
    {
      "cell_type": "markdown",
      "source": [
        "# Etapa 2"
      ],
      "metadata": {
        "id": "rHt5rt_i93rw"
      }
    },
    {
      "cell_type": "markdown",
      "source": [
        "## Limpieza de datos\n",
        "Actividad 1 - Limpiar el conjunto de datos eliminando duplicados y caracteres no deseados. Documentar el proceso y los resultados."
      ],
      "metadata": {
        "id": "wtww21zh-LYZ"
      }
    },
    {
      "cell_type": "markdown",
      "source": [
        "### Dataframe ventas"
      ],
      "metadata": {
        "id": "J4Gwrqt1VxL0"
      }
    },
    {
      "cell_type": "markdown",
      "source": [
        "*** Agregar acciones ***"
      ],
      "metadata": {
        "id": "NByZ8lMdNPih"
      }
    },
    {
      "cell_type": "code",
      "source": [
        "# Eliminamos registros duplicados\n",
        "# atributos a evaluar, keep, ignore_index, inplace\n",
        "df_ventas.drop_duplicates(inplace=True, ignore_index=True)"
      ],
      "metadata": {
        "id": "X4a0lL4zM6p1"
      },
      "execution_count": 19,
      "outputs": []
    },
    {
      "cell_type": "code",
      "source": [
        "# Validamos que no haya duplicados\n",
        "df_ventas.duplicated().sum()"
      ],
      "metadata": {
        "id": "pyL2FvnRO8yf",
        "colab": {
          "base_uri": "https://localhost:8080/"
        },
        "outputId": "cc00b335-a3a1-4076-a37c-a33d8d91d2fa"
      },
      "execution_count": 20,
      "outputs": [
        {
          "output_type": "execute_result",
          "data": {
            "text/plain": [
              "np.int64(0)"
            ]
          },
          "metadata": {},
          "execution_count": 20
        }
      ]
    },
    {
      "cell_type": "code",
      "source": [
        "# Eliminamos registros con datos nulos\n",
        "df_ventas.dropna(inplace=True)"
      ],
      "metadata": {
        "id": "dGWwZLq9PjCc"
      },
      "execution_count": 21,
      "outputs": []
    },
    {
      "cell_type": "code",
      "source": [
        "# Validamos que no haya nulos\n",
        "df_ventas.isnull().sum()"
      ],
      "metadata": {
        "id": "M9wWpuyVRy-P",
        "colab": {
          "base_uri": "https://localhost:8080/",
          "height": 272
        },
        "outputId": "3587d767-cd8f-41d9-9ac1-a4ed8f27a2e4"
      },
      "execution_count": 22,
      "outputs": [
        {
          "output_type": "execute_result",
          "data": {
            "text/plain": [
              "id_venta       0\n",
              "producto       0\n",
              "precio         0\n",
              "cantidad       0\n",
              "fecha_venta    0\n",
              "categoria      0\n",
              "dtype: int64"
            ],
            "text/html": [
              "<div>\n",
              "<style scoped>\n",
              "    .dataframe tbody tr th:only-of-type {\n",
              "        vertical-align: middle;\n",
              "    }\n",
              "\n",
              "    .dataframe tbody tr th {\n",
              "        vertical-align: top;\n",
              "    }\n",
              "\n",
              "    .dataframe thead th {\n",
              "        text-align: right;\n",
              "    }\n",
              "</style>\n",
              "<table border=\"1\" class=\"dataframe\">\n",
              "  <thead>\n",
              "    <tr style=\"text-align: right;\">\n",
              "      <th></th>\n",
              "      <th>0</th>\n",
              "    </tr>\n",
              "  </thead>\n",
              "  <tbody>\n",
              "    <tr>\n",
              "      <th>id_venta</th>\n",
              "      <td>0</td>\n",
              "    </tr>\n",
              "    <tr>\n",
              "      <th>producto</th>\n",
              "      <td>0</td>\n",
              "    </tr>\n",
              "    <tr>\n",
              "      <th>precio</th>\n",
              "      <td>0</td>\n",
              "    </tr>\n",
              "    <tr>\n",
              "      <th>cantidad</th>\n",
              "      <td>0</td>\n",
              "    </tr>\n",
              "    <tr>\n",
              "      <th>fecha_venta</th>\n",
              "      <td>0</td>\n",
              "    </tr>\n",
              "    <tr>\n",
              "      <th>categoria</th>\n",
              "      <td>0</td>\n",
              "    </tr>\n",
              "  </tbody>\n",
              "</table>\n",
              "</div><br><label><b>dtype:</b> int64</label>"
            ]
          },
          "metadata": {},
          "execution_count": 22
        }
      ]
    },
    {
      "cell_type": "code",
      "source": [
        "# Eliminamos el caracter especial $ de precio\n",
        "# Normalización: usar replace()\n",
        "# De ser necesario, podemos usar el atributo regex=True\n",
        "df_ventas[\"precio\"] = df_ventas[\"precio\"].str.replace(\"$\", \"\")\n",
        "df_ventas[\"precio\"].sample(5)"
      ],
      "metadata": {
        "id": "U-VCJ_qWR563",
        "colab": {
          "base_uri": "https://localhost:8080/",
          "height": 241
        },
        "outputId": "d0935a60-7f53-47ce-81cc-81e37b2824ea"
      },
      "execution_count": 26,
      "outputs": [
        {
          "output_type": "execute_result",
          "data": {
            "text/plain": [
              "2820    55.26\n",
              "2000    64.25\n",
              "2269    49.23\n",
              "1597    73.11\n",
              "67      39.26\n",
              "Name: precio, dtype: object"
            ],
            "text/html": [
              "<div>\n",
              "<style scoped>\n",
              "    .dataframe tbody tr th:only-of-type {\n",
              "        vertical-align: middle;\n",
              "    }\n",
              "\n",
              "    .dataframe tbody tr th {\n",
              "        vertical-align: top;\n",
              "    }\n",
              "\n",
              "    .dataframe thead th {\n",
              "        text-align: right;\n",
              "    }\n",
              "</style>\n",
              "<table border=\"1\" class=\"dataframe\">\n",
              "  <thead>\n",
              "    <tr style=\"text-align: right;\">\n",
              "      <th></th>\n",
              "      <th>precio</th>\n",
              "    </tr>\n",
              "  </thead>\n",
              "  <tbody>\n",
              "    <tr>\n",
              "      <th>2820</th>\n",
              "      <td>55.26</td>\n",
              "    </tr>\n",
              "    <tr>\n",
              "      <th>2000</th>\n",
              "      <td>64.25</td>\n",
              "    </tr>\n",
              "    <tr>\n",
              "      <th>2269</th>\n",
              "      <td>49.23</td>\n",
              "    </tr>\n",
              "    <tr>\n",
              "      <th>1597</th>\n",
              "      <td>73.11</td>\n",
              "    </tr>\n",
              "    <tr>\n",
              "      <th>67</th>\n",
              "      <td>39.26</td>\n",
              "    </tr>\n",
              "  </tbody>\n",
              "</table>\n",
              "</div><br><label><b>dtype:</b> object</label>"
            ]
          },
          "metadata": {},
          "execution_count": 26
        }
      ]
    },
    {
      "cell_type": "code",
      "source": [
        "# Validamos que precio no contenga $\n"
      ],
      "metadata": {
        "id": "SY_xSj6sSEji"
      },
      "execution_count": null,
      "outputs": []
    },
    {
      "cell_type": "code",
      "source": [
        "# Convertimos precio de str a float\n",
        "# Podemos usar pd.to_numeric o astype o incluso combinarlos\n",
        "df_ventas[\"precio\"] = df_ventas[\"precio\"].astype(float)"
      ],
      "metadata": {
        "id": "zoU01rGkT_tc"
      },
      "execution_count": 27,
      "outputs": []
    },
    {
      "cell_type": "code",
      "source": [
        "# Convertir el dtype de cantidad, de float64 a int64\n",
        "df_ventas[\"cantidad\"] = df_ventas[\"cantidad\"].astype(int)"
      ],
      "metadata": {
        "id": "NFv2jIKlSwbA"
      },
      "execution_count": 28,
      "outputs": []
    },
    {
      "cell_type": "code",
      "source": [
        "# Validar la conversion a int\n",
        "df_ventas.dtypes"
      ],
      "metadata": {
        "id": "bT2M5_wKT160",
        "colab": {
          "base_uri": "https://localhost:8080/",
          "height": 272
        },
        "outputId": "14c197ff-9926-4cf3-b946-5e892d603e12"
      },
      "execution_count": 29,
      "outputs": [
        {
          "output_type": "execute_result",
          "data": {
            "text/plain": [
              "id_venta         int64\n",
              "producto        object\n",
              "precio         float64\n",
              "cantidad         int64\n",
              "fecha_venta     object\n",
              "categoria       object\n",
              "dtype: object"
            ],
            "text/html": [
              "<div>\n",
              "<style scoped>\n",
              "    .dataframe tbody tr th:only-of-type {\n",
              "        vertical-align: middle;\n",
              "    }\n",
              "\n",
              "    .dataframe tbody tr th {\n",
              "        vertical-align: top;\n",
              "    }\n",
              "\n",
              "    .dataframe thead th {\n",
              "        text-align: right;\n",
              "    }\n",
              "</style>\n",
              "<table border=\"1\" class=\"dataframe\">\n",
              "  <thead>\n",
              "    <tr style=\"text-align: right;\">\n",
              "      <th></th>\n",
              "      <th>0</th>\n",
              "    </tr>\n",
              "  </thead>\n",
              "  <tbody>\n",
              "    <tr>\n",
              "      <th>id_venta</th>\n",
              "      <td>int64</td>\n",
              "    </tr>\n",
              "    <tr>\n",
              "      <th>producto</th>\n",
              "      <td>object</td>\n",
              "    </tr>\n",
              "    <tr>\n",
              "      <th>precio</th>\n",
              "      <td>float64</td>\n",
              "    </tr>\n",
              "    <tr>\n",
              "      <th>cantidad</th>\n",
              "      <td>int64</td>\n",
              "    </tr>\n",
              "    <tr>\n",
              "      <th>fecha_venta</th>\n",
              "      <td>object</td>\n",
              "    </tr>\n",
              "    <tr>\n",
              "      <th>categoria</th>\n",
              "      <td>object</td>\n",
              "    </tr>\n",
              "  </tbody>\n",
              "</table>\n",
              "</div><br><label><b>dtype:</b> object</label>"
            ]
          },
          "metadata": {},
          "execution_count": 29
        }
      ]
    },
    {
      "cell_type": "code",
      "source": [
        "# Convertir el campo fecha_venta a dtype datetime\n",
        "# pd.to_datetime(df_ventas[\"fecha_venta\"], format=\"%d/%m/%Y\")\n",
        "# pd.to_datetime(df_ventas[\"fecha_venta\"], dayfirst=True)\n",
        "\n",
        "df_ventas[\"fecha_venta\"] = pd.to_datetime(df_ventas[\"fecha_venta\"], format=\"%d/%m/%Y\")"
      ],
      "metadata": {
        "id": "HLZVUMnnUkSf"
      },
      "execution_count": 30,
      "outputs": []
    },
    {
      "cell_type": "code",
      "source": [
        "# Validar la conversion de fecha\n",
        "df_ventas['fecha_venta'].dtypes"
      ],
      "metadata": {
        "id": "l5t40uUPUrY-",
        "colab": {
          "base_uri": "https://localhost:8080/"
        },
        "outputId": "2b73303a-9640-416d-ac8e-fcdf1859cb6b"
      },
      "execution_count": 31,
      "outputs": [
        {
          "output_type": "execute_result",
          "data": {
            "text/plain": [
              "dtype('<M8[ns]')"
            ]
          },
          "metadata": {},
          "execution_count": 31
        }
      ]
    },
    {
      "cell_type": "markdown",
      "source": [
        "### Dataframe marketing"
      ],
      "metadata": {
        "id": "Mpd7zlOIV2BV"
      }
    },
    {
      "cell_type": "markdown",
      "source": [
        "*** Acciones ***"
      ],
      "metadata": {
        "id": "Z7-rjrs-V4W3"
      }
    },
    {
      "cell_type": "code",
      "source": [
        "# Convertir el campo fecha_inicio a dtype datetime\n"
      ],
      "metadata": {
        "id": "JGZ5gwDYV8B9"
      },
      "execution_count": null,
      "outputs": []
    },
    {
      "cell_type": "code",
      "source": [
        "# Convertir el campo fecha_fin a dtype datetime\n"
      ],
      "metadata": {
        "id": "dNvT4ou6Whob"
      },
      "execution_count": null,
      "outputs": []
    },
    {
      "cell_type": "code",
      "source": [
        "# Validamos los cambios\n"
      ],
      "metadata": {
        "id": "P4-yJ7-VWtf-"
      },
      "execution_count": null,
      "outputs": []
    },
    {
      "cell_type": "markdown",
      "source": [
        "## Transformación de datos\n",
        "Actividad 2 - Aplicar filtros y transformaciones para crear una tabla de ventas que muestre solo los productos con alto rendimiento."
      ],
      "metadata": {
        "id": "vw58H5kt-Ocd"
      }
    },
    {
      "cell_type": "code",
      "source": [
        "df_ventas.head(2)"
      ],
      "metadata": {
        "id": "34USfJIXbfGL",
        "colab": {
          "base_uri": "https://localhost:8080/",
          "height": 112
        },
        "outputId": "3572d537-6478-49ef-b48e-a792cb314ff1"
      },
      "execution_count": 33,
      "outputs": [
        {
          "output_type": "execute_result",
          "data": {
            "text/plain": [
              "   id_venta           producto  precio  cantidad fecha_venta   categoria  \\\n",
              "0       792  Cuadro decorativo   69.94         5  2024-01-02  Decoración   \n",
              "1       811    Lámpara de mesa  105.10         5  2024-01-02  Decoración   \n",
              "\n",
              "   valor_venta  \n",
              "0        349.7  \n",
              "1        525.5  "
            ],
            "text/html": [
              "\n",
              "  <div id=\"df-46744085-67b4-4161-82ed-12f5a429483d\" class=\"colab-df-container\">\n",
              "    <div>\n",
              "<style scoped>\n",
              "    .dataframe tbody tr th:only-of-type {\n",
              "        vertical-align: middle;\n",
              "    }\n",
              "\n",
              "    .dataframe tbody tr th {\n",
              "        vertical-align: top;\n",
              "    }\n",
              "\n",
              "    .dataframe thead th {\n",
              "        text-align: right;\n",
              "    }\n",
              "</style>\n",
              "<table border=\"1\" class=\"dataframe\">\n",
              "  <thead>\n",
              "    <tr style=\"text-align: right;\">\n",
              "      <th></th>\n",
              "      <th>id_venta</th>\n",
              "      <th>producto</th>\n",
              "      <th>precio</th>\n",
              "      <th>cantidad</th>\n",
              "      <th>fecha_venta</th>\n",
              "      <th>categoria</th>\n",
              "      <th>valor_venta</th>\n",
              "    </tr>\n",
              "  </thead>\n",
              "  <tbody>\n",
              "    <tr>\n",
              "      <th>0</th>\n",
              "      <td>792</td>\n",
              "      <td>Cuadro decorativo</td>\n",
              "      <td>69.94</td>\n",
              "      <td>5</td>\n",
              "      <td>2024-01-02</td>\n",
              "      <td>Decoración</td>\n",
              "      <td>349.7</td>\n",
              "    </tr>\n",
              "    <tr>\n",
              "      <th>1</th>\n",
              "      <td>811</td>\n",
              "      <td>Lámpara de mesa</td>\n",
              "      <td>105.10</td>\n",
              "      <td>5</td>\n",
              "      <td>2024-01-02</td>\n",
              "      <td>Decoración</td>\n",
              "      <td>525.5</td>\n",
              "    </tr>\n",
              "  </tbody>\n",
              "</table>\n",
              "</div>\n",
              "    <div class=\"colab-df-buttons\">\n",
              "\n",
              "  <div class=\"colab-df-container\">\n",
              "    <button class=\"colab-df-convert\" onclick=\"convertToInteractive('df-46744085-67b4-4161-82ed-12f5a429483d')\"\n",
              "            title=\"Convert this dataframe to an interactive table.\"\n",
              "            style=\"display:none;\">\n",
              "\n",
              "  <svg xmlns=\"http://www.w3.org/2000/svg\" height=\"24px\" viewBox=\"0 -960 960 960\">\n",
              "    <path d=\"M120-120v-720h720v720H120Zm60-500h600v-160H180v160Zm220 220h160v-160H400v160Zm0 220h160v-160H400v160ZM180-400h160v-160H180v160Zm440 0h160v-160H620v160ZM180-180h160v-160H180v160Zm440 0h160v-160H620v160Z\"/>\n",
              "  </svg>\n",
              "    </button>\n",
              "\n",
              "  <style>\n",
              "    .colab-df-container {\n",
              "      display:flex;\n",
              "      gap: 12px;\n",
              "    }\n",
              "\n",
              "    .colab-df-convert {\n",
              "      background-color: #E8F0FE;\n",
              "      border: none;\n",
              "      border-radius: 50%;\n",
              "      cursor: pointer;\n",
              "      display: none;\n",
              "      fill: #1967D2;\n",
              "      height: 32px;\n",
              "      padding: 0 0 0 0;\n",
              "      width: 32px;\n",
              "    }\n",
              "\n",
              "    .colab-df-convert:hover {\n",
              "      background-color: #E2EBFA;\n",
              "      box-shadow: 0px 1px 2px rgba(60, 64, 67, 0.3), 0px 1px 3px 1px rgba(60, 64, 67, 0.15);\n",
              "      fill: #174EA6;\n",
              "    }\n",
              "\n",
              "    .colab-df-buttons div {\n",
              "      margin-bottom: 4px;\n",
              "    }\n",
              "\n",
              "    [theme=dark] .colab-df-convert {\n",
              "      background-color: #3B4455;\n",
              "      fill: #D2E3FC;\n",
              "    }\n",
              "\n",
              "    [theme=dark] .colab-df-convert:hover {\n",
              "      background-color: #434B5C;\n",
              "      box-shadow: 0px 1px 3px 1px rgba(0, 0, 0, 0.15);\n",
              "      filter: drop-shadow(0px 1px 2px rgba(0, 0, 0, 0.3));\n",
              "      fill: #FFFFFF;\n",
              "    }\n",
              "  </style>\n",
              "\n",
              "    <script>\n",
              "      const buttonEl =\n",
              "        document.querySelector('#df-46744085-67b4-4161-82ed-12f5a429483d button.colab-df-convert');\n",
              "      buttonEl.style.display =\n",
              "        google.colab.kernel.accessAllowed ? 'block' : 'none';\n",
              "\n",
              "      async function convertToInteractive(key) {\n",
              "        const element = document.querySelector('#df-46744085-67b4-4161-82ed-12f5a429483d');\n",
              "        const dataTable =\n",
              "          await google.colab.kernel.invokeFunction('convertToInteractive',\n",
              "                                                    [key], {});\n",
              "        if (!dataTable) return;\n",
              "\n",
              "        const docLinkHtml = 'Like what you see? Visit the ' +\n",
              "          '<a target=\"_blank\" href=https://colab.research.google.com/notebooks/data_table.ipynb>data table notebook</a>'\n",
              "          + ' to learn more about interactive tables.';\n",
              "        element.innerHTML = '';\n",
              "        dataTable['output_type'] = 'display_data';\n",
              "        await google.colab.output.renderOutput(dataTable, element);\n",
              "        const docLink = document.createElement('div');\n",
              "        docLink.innerHTML = docLinkHtml;\n",
              "        element.appendChild(docLink);\n",
              "      }\n",
              "    </script>\n",
              "  </div>\n",
              "\n",
              "\n",
              "    <div id=\"df-be6644db-81fd-413e-8282-bf00d0edb4cb\">\n",
              "      <button class=\"colab-df-quickchart\" onclick=\"quickchart('df-be6644db-81fd-413e-8282-bf00d0edb4cb')\"\n",
              "                title=\"Suggest charts\"\n",
              "                style=\"display:none;\">\n",
              "\n",
              "<svg xmlns=\"http://www.w3.org/2000/svg\" height=\"24px\"viewBox=\"0 0 24 24\"\n",
              "     width=\"24px\">\n",
              "    <g>\n",
              "        <path d=\"M19 3H5c-1.1 0-2 .9-2 2v14c0 1.1.9 2 2 2h14c1.1 0 2-.9 2-2V5c0-1.1-.9-2-2-2zM9 17H7v-7h2v7zm4 0h-2V7h2v10zm4 0h-2v-4h2v4z\"/>\n",
              "    </g>\n",
              "</svg>\n",
              "      </button>\n",
              "\n",
              "<style>\n",
              "  .colab-df-quickchart {\n",
              "      --bg-color: #E8F0FE;\n",
              "      --fill-color: #1967D2;\n",
              "      --hover-bg-color: #E2EBFA;\n",
              "      --hover-fill-color: #174EA6;\n",
              "      --disabled-fill-color: #AAA;\n",
              "      --disabled-bg-color: #DDD;\n",
              "  }\n",
              "\n",
              "  [theme=dark] .colab-df-quickchart {\n",
              "      --bg-color: #3B4455;\n",
              "      --fill-color: #D2E3FC;\n",
              "      --hover-bg-color: #434B5C;\n",
              "      --hover-fill-color: #FFFFFF;\n",
              "      --disabled-bg-color: #3B4455;\n",
              "      --disabled-fill-color: #666;\n",
              "  }\n",
              "\n",
              "  .colab-df-quickchart {\n",
              "    background-color: var(--bg-color);\n",
              "    border: none;\n",
              "    border-radius: 50%;\n",
              "    cursor: pointer;\n",
              "    display: none;\n",
              "    fill: var(--fill-color);\n",
              "    height: 32px;\n",
              "    padding: 0;\n",
              "    width: 32px;\n",
              "  }\n",
              "\n",
              "  .colab-df-quickchart:hover {\n",
              "    background-color: var(--hover-bg-color);\n",
              "    box-shadow: 0 1px 2px rgba(60, 64, 67, 0.3), 0 1px 3px 1px rgba(60, 64, 67, 0.15);\n",
              "    fill: var(--button-hover-fill-color);\n",
              "  }\n",
              "\n",
              "  .colab-df-quickchart-complete:disabled,\n",
              "  .colab-df-quickchart-complete:disabled:hover {\n",
              "    background-color: var(--disabled-bg-color);\n",
              "    fill: var(--disabled-fill-color);\n",
              "    box-shadow: none;\n",
              "  }\n",
              "\n",
              "  .colab-df-spinner {\n",
              "    border: 2px solid var(--fill-color);\n",
              "    border-color: transparent;\n",
              "    border-bottom-color: var(--fill-color);\n",
              "    animation:\n",
              "      spin 1s steps(1) infinite;\n",
              "  }\n",
              "\n",
              "  @keyframes spin {\n",
              "    0% {\n",
              "      border-color: transparent;\n",
              "      border-bottom-color: var(--fill-color);\n",
              "      border-left-color: var(--fill-color);\n",
              "    }\n",
              "    20% {\n",
              "      border-color: transparent;\n",
              "      border-left-color: var(--fill-color);\n",
              "      border-top-color: var(--fill-color);\n",
              "    }\n",
              "    30% {\n",
              "      border-color: transparent;\n",
              "      border-left-color: var(--fill-color);\n",
              "      border-top-color: var(--fill-color);\n",
              "      border-right-color: var(--fill-color);\n",
              "    }\n",
              "    40% {\n",
              "      border-color: transparent;\n",
              "      border-right-color: var(--fill-color);\n",
              "      border-top-color: var(--fill-color);\n",
              "    }\n",
              "    60% {\n",
              "      border-color: transparent;\n",
              "      border-right-color: var(--fill-color);\n",
              "    }\n",
              "    80% {\n",
              "      border-color: transparent;\n",
              "      border-right-color: var(--fill-color);\n",
              "      border-bottom-color: var(--fill-color);\n",
              "    }\n",
              "    90% {\n",
              "      border-color: transparent;\n",
              "      border-bottom-color: var(--fill-color);\n",
              "    }\n",
              "  }\n",
              "</style>\n",
              "\n",
              "      <script>\n",
              "        async function quickchart(key) {\n",
              "          const quickchartButtonEl =\n",
              "            document.querySelector('#' + key + ' button');\n",
              "          quickchartButtonEl.disabled = true;  // To prevent multiple clicks.\n",
              "          quickchartButtonEl.classList.add('colab-df-spinner');\n",
              "          try {\n",
              "            const charts = await google.colab.kernel.invokeFunction(\n",
              "                'suggestCharts', [key], {});\n",
              "          } catch (error) {\n",
              "            console.error('Error during call to suggestCharts:', error);\n",
              "          }\n",
              "          quickchartButtonEl.classList.remove('colab-df-spinner');\n",
              "          quickchartButtonEl.classList.add('colab-df-quickchart-complete');\n",
              "        }\n",
              "        (() => {\n",
              "          let quickchartButtonEl =\n",
              "            document.querySelector('#df-be6644db-81fd-413e-8282-bf00d0edb4cb button');\n",
              "          quickchartButtonEl.style.display =\n",
              "            google.colab.kernel.accessAllowed ? 'block' : 'none';\n",
              "        })();\n",
              "      </script>\n",
              "    </div>\n",
              "\n",
              "    </div>\n",
              "  </div>\n"
            ],
            "application/vnd.google.colaboratory.intrinsic+json": {
              "type": "dataframe",
              "variable_name": "df_ventas",
              "summary": "{\n  \"name\": \"df_ventas\",\n  \"rows\": 2998,\n  \"fields\": [\n    {\n      \"column\": \"id_venta\",\n      \"properties\": {\n        \"dtype\": \"number\",\n        \"std\": 866,\n        \"min\": 1,\n        \"max\": 3000,\n        \"num_unique_values\": 2998,\n        \"samples\": [\n          1127,\n          138,\n          1900\n        ],\n        \"semantic_type\": \"\",\n        \"description\": \"\"\n      }\n    },\n    {\n      \"column\": \"producto\",\n      \"properties\": {\n        \"dtype\": \"category\",\n        \"num_unique_values\": 30,\n        \"samples\": [\n          \"Alfombra\",\n          \"Lavadora\",\n          \"Parlantes Bluetooth\"\n        ],\n        \"semantic_type\": \"\",\n        \"description\": \"\"\n      }\n    },\n    {\n      \"column\": \"precio\",\n      \"properties\": {\n        \"dtype\": \"number\",\n        \"std\": 28.736008473949777,\n        \"min\": 26.0,\n        \"max\": 124.97,\n        \"num_unique_values\": 2590,\n        \"samples\": [\n          112.46,\n          119.78,\n          70.13\n        ],\n        \"semantic_type\": \"\",\n        \"description\": \"\"\n      }\n    },\n    {\n      \"column\": \"cantidad\",\n      \"properties\": {\n        \"dtype\": \"number\",\n        \"std\": 3,\n        \"min\": 1,\n        \"max\": 12,\n        \"num_unique_values\": 12,\n        \"samples\": [\n          10,\n          12,\n          5\n        ],\n        \"semantic_type\": \"\",\n        \"description\": \"\"\n      }\n    },\n    {\n      \"column\": \"fecha_venta\",\n      \"properties\": {\n        \"dtype\": \"date\",\n        \"min\": \"2024-01-02 00:00:00\",\n        \"max\": \"2024-12-30 00:00:00\",\n        \"num_unique_values\": 364,\n        \"samples\": [\n          \"2024-07-13 00:00:00\",\n          \"2024-02-04 00:00:00\",\n          \"2024-01-17 00:00:00\"\n        ],\n        \"semantic_type\": \"\",\n        \"description\": \"\"\n      }\n    },\n    {\n      \"column\": \"categoria\",\n      \"properties\": {\n        \"dtype\": \"category\",\n        \"num_unique_values\": 3,\n        \"samples\": [\n          \"Decoraci\\u00f3n\",\n          \"Electrodom\\u00e9sticos\",\n          \"Electr\\u00f3nica\"\n        ],\n        \"semantic_type\": \"\",\n        \"description\": \"\"\n      }\n    },\n    {\n      \"column\": \"valor_venta\",\n      \"properties\": {\n        \"dtype\": \"number\",\n        \"std\": 334.28181669305616,\n        \"min\": 26.3,\n        \"max\": 1488.1200000000001,\n        \"num_unique_values\": 2915,\n        \"samples\": [\n          194.14,\n          200.06,\n          775.84\n        ],\n        \"semantic_type\": \"\",\n        \"description\": \"\"\n      }\n    }\n  ]\n}"
            }
          },
          "metadata": {},
          "execution_count": 33
        }
      ]
    },
    {
      "cell_type": "code",
      "source": [
        "# Transformación:\n",
        "# Calculamos el valor de cada venta = precio * cantidad\n",
        "# Agregamos una nueva columnas\n",
        "df_ventas[\"valor_venta\"] = df_ventas[\"precio\"] * df_ventas[\"cantidad\"]"
      ],
      "metadata": {
        "id": "SYFA9Egcbrwz"
      },
      "execution_count": 32,
      "outputs": []
    },
    {
      "cell_type": "code",
      "source": [
        "# Visualizamos\n",
        "df_ventas.head(2)"
      ],
      "metadata": {
        "id": "XjDkhBIKb8eF",
        "colab": {
          "base_uri": "https://localhost:8080/",
          "height": 112
        },
        "outputId": "fc4ec560-3bbc-4258-e136-0b3b0bf693c5"
      },
      "execution_count": 34,
      "outputs": [
        {
          "output_type": "execute_result",
          "data": {
            "text/plain": [
              "   id_venta           producto  precio  cantidad fecha_venta   categoria  \\\n",
              "0       792  Cuadro decorativo   69.94         5  2024-01-02  Decoración   \n",
              "1       811    Lámpara de mesa  105.10         5  2024-01-02  Decoración   \n",
              "\n",
              "   valor_venta  \n",
              "0        349.7  \n",
              "1        525.5  "
            ],
            "text/html": [
              "\n",
              "  <div id=\"df-7ab81201-0e5e-43b4-8056-29e7c56fc648\" class=\"colab-df-container\">\n",
              "    <div>\n",
              "<style scoped>\n",
              "    .dataframe tbody tr th:only-of-type {\n",
              "        vertical-align: middle;\n",
              "    }\n",
              "\n",
              "    .dataframe tbody tr th {\n",
              "        vertical-align: top;\n",
              "    }\n",
              "\n",
              "    .dataframe thead th {\n",
              "        text-align: right;\n",
              "    }\n",
              "</style>\n",
              "<table border=\"1\" class=\"dataframe\">\n",
              "  <thead>\n",
              "    <tr style=\"text-align: right;\">\n",
              "      <th></th>\n",
              "      <th>id_venta</th>\n",
              "      <th>producto</th>\n",
              "      <th>precio</th>\n",
              "      <th>cantidad</th>\n",
              "      <th>fecha_venta</th>\n",
              "      <th>categoria</th>\n",
              "      <th>valor_venta</th>\n",
              "    </tr>\n",
              "  </thead>\n",
              "  <tbody>\n",
              "    <tr>\n",
              "      <th>0</th>\n",
              "      <td>792</td>\n",
              "      <td>Cuadro decorativo</td>\n",
              "      <td>69.94</td>\n",
              "      <td>5</td>\n",
              "      <td>2024-01-02</td>\n",
              "      <td>Decoración</td>\n",
              "      <td>349.7</td>\n",
              "    </tr>\n",
              "    <tr>\n",
              "      <th>1</th>\n",
              "      <td>811</td>\n",
              "      <td>Lámpara de mesa</td>\n",
              "      <td>105.10</td>\n",
              "      <td>5</td>\n",
              "      <td>2024-01-02</td>\n",
              "      <td>Decoración</td>\n",
              "      <td>525.5</td>\n",
              "    </tr>\n",
              "  </tbody>\n",
              "</table>\n",
              "</div>\n",
              "    <div class=\"colab-df-buttons\">\n",
              "\n",
              "  <div class=\"colab-df-container\">\n",
              "    <button class=\"colab-df-convert\" onclick=\"convertToInteractive('df-7ab81201-0e5e-43b4-8056-29e7c56fc648')\"\n",
              "            title=\"Convert this dataframe to an interactive table.\"\n",
              "            style=\"display:none;\">\n",
              "\n",
              "  <svg xmlns=\"http://www.w3.org/2000/svg\" height=\"24px\" viewBox=\"0 -960 960 960\">\n",
              "    <path d=\"M120-120v-720h720v720H120Zm60-500h600v-160H180v160Zm220 220h160v-160H400v160Zm0 220h160v-160H400v160ZM180-400h160v-160H180v160Zm440 0h160v-160H620v160ZM180-180h160v-160H180v160Zm440 0h160v-160H620v160Z\"/>\n",
              "  </svg>\n",
              "    </button>\n",
              "\n",
              "  <style>\n",
              "    .colab-df-container {\n",
              "      display:flex;\n",
              "      gap: 12px;\n",
              "    }\n",
              "\n",
              "    .colab-df-convert {\n",
              "      background-color: #E8F0FE;\n",
              "      border: none;\n",
              "      border-radius: 50%;\n",
              "      cursor: pointer;\n",
              "      display: none;\n",
              "      fill: #1967D2;\n",
              "      height: 32px;\n",
              "      padding: 0 0 0 0;\n",
              "      width: 32px;\n",
              "    }\n",
              "\n",
              "    .colab-df-convert:hover {\n",
              "      background-color: #E2EBFA;\n",
              "      box-shadow: 0px 1px 2px rgba(60, 64, 67, 0.3), 0px 1px 3px 1px rgba(60, 64, 67, 0.15);\n",
              "      fill: #174EA6;\n",
              "    }\n",
              "\n",
              "    .colab-df-buttons div {\n",
              "      margin-bottom: 4px;\n",
              "    }\n",
              "\n",
              "    [theme=dark] .colab-df-convert {\n",
              "      background-color: #3B4455;\n",
              "      fill: #D2E3FC;\n",
              "    }\n",
              "\n",
              "    [theme=dark] .colab-df-convert:hover {\n",
              "      background-color: #434B5C;\n",
              "      box-shadow: 0px 1px 3px 1px rgba(0, 0, 0, 0.15);\n",
              "      filter: drop-shadow(0px 1px 2px rgba(0, 0, 0, 0.3));\n",
              "      fill: #FFFFFF;\n",
              "    }\n",
              "  </style>\n",
              "\n",
              "    <script>\n",
              "      const buttonEl =\n",
              "        document.querySelector('#df-7ab81201-0e5e-43b4-8056-29e7c56fc648 button.colab-df-convert');\n",
              "      buttonEl.style.display =\n",
              "        google.colab.kernel.accessAllowed ? 'block' : 'none';\n",
              "\n",
              "      async function convertToInteractive(key) {\n",
              "        const element = document.querySelector('#df-7ab81201-0e5e-43b4-8056-29e7c56fc648');\n",
              "        const dataTable =\n",
              "          await google.colab.kernel.invokeFunction('convertToInteractive',\n",
              "                                                    [key], {});\n",
              "        if (!dataTable) return;\n",
              "\n",
              "        const docLinkHtml = 'Like what you see? Visit the ' +\n",
              "          '<a target=\"_blank\" href=https://colab.research.google.com/notebooks/data_table.ipynb>data table notebook</a>'\n",
              "          + ' to learn more about interactive tables.';\n",
              "        element.innerHTML = '';\n",
              "        dataTable['output_type'] = 'display_data';\n",
              "        await google.colab.output.renderOutput(dataTable, element);\n",
              "        const docLink = document.createElement('div');\n",
              "        docLink.innerHTML = docLinkHtml;\n",
              "        element.appendChild(docLink);\n",
              "      }\n",
              "    </script>\n",
              "  </div>\n",
              "\n",
              "\n",
              "    <div id=\"df-7efb1627-20dc-407d-976c-65843733f64b\">\n",
              "      <button class=\"colab-df-quickchart\" onclick=\"quickchart('df-7efb1627-20dc-407d-976c-65843733f64b')\"\n",
              "                title=\"Suggest charts\"\n",
              "                style=\"display:none;\">\n",
              "\n",
              "<svg xmlns=\"http://www.w3.org/2000/svg\" height=\"24px\"viewBox=\"0 0 24 24\"\n",
              "     width=\"24px\">\n",
              "    <g>\n",
              "        <path d=\"M19 3H5c-1.1 0-2 .9-2 2v14c0 1.1.9 2 2 2h14c1.1 0 2-.9 2-2V5c0-1.1-.9-2-2-2zM9 17H7v-7h2v7zm4 0h-2V7h2v10zm4 0h-2v-4h2v4z\"/>\n",
              "    </g>\n",
              "</svg>\n",
              "      </button>\n",
              "\n",
              "<style>\n",
              "  .colab-df-quickchart {\n",
              "      --bg-color: #E8F0FE;\n",
              "      --fill-color: #1967D2;\n",
              "      --hover-bg-color: #E2EBFA;\n",
              "      --hover-fill-color: #174EA6;\n",
              "      --disabled-fill-color: #AAA;\n",
              "      --disabled-bg-color: #DDD;\n",
              "  }\n",
              "\n",
              "  [theme=dark] .colab-df-quickchart {\n",
              "      --bg-color: #3B4455;\n",
              "      --fill-color: #D2E3FC;\n",
              "      --hover-bg-color: #434B5C;\n",
              "      --hover-fill-color: #FFFFFF;\n",
              "      --disabled-bg-color: #3B4455;\n",
              "      --disabled-fill-color: #666;\n",
              "  }\n",
              "\n",
              "  .colab-df-quickchart {\n",
              "    background-color: var(--bg-color);\n",
              "    border: none;\n",
              "    border-radius: 50%;\n",
              "    cursor: pointer;\n",
              "    display: none;\n",
              "    fill: var(--fill-color);\n",
              "    height: 32px;\n",
              "    padding: 0;\n",
              "    width: 32px;\n",
              "  }\n",
              "\n",
              "  .colab-df-quickchart:hover {\n",
              "    background-color: var(--hover-bg-color);\n",
              "    box-shadow: 0 1px 2px rgba(60, 64, 67, 0.3), 0 1px 3px 1px rgba(60, 64, 67, 0.15);\n",
              "    fill: var(--button-hover-fill-color);\n",
              "  }\n",
              "\n",
              "  .colab-df-quickchart-complete:disabled,\n",
              "  .colab-df-quickchart-complete:disabled:hover {\n",
              "    background-color: var(--disabled-bg-color);\n",
              "    fill: var(--disabled-fill-color);\n",
              "    box-shadow: none;\n",
              "  }\n",
              "\n",
              "  .colab-df-spinner {\n",
              "    border: 2px solid var(--fill-color);\n",
              "    border-color: transparent;\n",
              "    border-bottom-color: var(--fill-color);\n",
              "    animation:\n",
              "      spin 1s steps(1) infinite;\n",
              "  }\n",
              "\n",
              "  @keyframes spin {\n",
              "    0% {\n",
              "      border-color: transparent;\n",
              "      border-bottom-color: var(--fill-color);\n",
              "      border-left-color: var(--fill-color);\n",
              "    }\n",
              "    20% {\n",
              "      border-color: transparent;\n",
              "      border-left-color: var(--fill-color);\n",
              "      border-top-color: var(--fill-color);\n",
              "    }\n",
              "    30% {\n",
              "      border-color: transparent;\n",
              "      border-left-color: var(--fill-color);\n",
              "      border-top-color: var(--fill-color);\n",
              "      border-right-color: var(--fill-color);\n",
              "    }\n",
              "    40% {\n",
              "      border-color: transparent;\n",
              "      border-right-color: var(--fill-color);\n",
              "      border-top-color: var(--fill-color);\n",
              "    }\n",
              "    60% {\n",
              "      border-color: transparent;\n",
              "      border-right-color: var(--fill-color);\n",
              "    }\n",
              "    80% {\n",
              "      border-color: transparent;\n",
              "      border-right-color: var(--fill-color);\n",
              "      border-bottom-color: var(--fill-color);\n",
              "    }\n",
              "    90% {\n",
              "      border-color: transparent;\n",
              "      border-bottom-color: var(--fill-color);\n",
              "    }\n",
              "  }\n",
              "</style>\n",
              "\n",
              "      <script>\n",
              "        async function quickchart(key) {\n",
              "          const quickchartButtonEl =\n",
              "            document.querySelector('#' + key + ' button');\n",
              "          quickchartButtonEl.disabled = true;  // To prevent multiple clicks.\n",
              "          quickchartButtonEl.classList.add('colab-df-spinner');\n",
              "          try {\n",
              "            const charts = await google.colab.kernel.invokeFunction(\n",
              "                'suggestCharts', [key], {});\n",
              "          } catch (error) {\n",
              "            console.error('Error during call to suggestCharts:', error);\n",
              "          }\n",
              "          quickchartButtonEl.classList.remove('colab-df-spinner');\n",
              "          quickchartButtonEl.classList.add('colab-df-quickchart-complete');\n",
              "        }\n",
              "        (() => {\n",
              "          let quickchartButtonEl =\n",
              "            document.querySelector('#df-7efb1627-20dc-407d-976c-65843733f64b button');\n",
              "          quickchartButtonEl.style.display =\n",
              "            google.colab.kernel.accessAllowed ? 'block' : 'none';\n",
              "        })();\n",
              "      </script>\n",
              "    </div>\n",
              "\n",
              "    </div>\n",
              "  </div>\n"
            ],
            "application/vnd.google.colaboratory.intrinsic+json": {
              "type": "dataframe",
              "variable_name": "df_ventas",
              "summary": "{\n  \"name\": \"df_ventas\",\n  \"rows\": 2998,\n  \"fields\": [\n    {\n      \"column\": \"id_venta\",\n      \"properties\": {\n        \"dtype\": \"number\",\n        \"std\": 866,\n        \"min\": 1,\n        \"max\": 3000,\n        \"num_unique_values\": 2998,\n        \"samples\": [\n          1127,\n          138,\n          1900\n        ],\n        \"semantic_type\": \"\",\n        \"description\": \"\"\n      }\n    },\n    {\n      \"column\": \"producto\",\n      \"properties\": {\n        \"dtype\": \"category\",\n        \"num_unique_values\": 30,\n        \"samples\": [\n          \"Alfombra\",\n          \"Lavadora\",\n          \"Parlantes Bluetooth\"\n        ],\n        \"semantic_type\": \"\",\n        \"description\": \"\"\n      }\n    },\n    {\n      \"column\": \"precio\",\n      \"properties\": {\n        \"dtype\": \"number\",\n        \"std\": 28.736008473949777,\n        \"min\": 26.0,\n        \"max\": 124.97,\n        \"num_unique_values\": 2590,\n        \"samples\": [\n          112.46,\n          119.78,\n          70.13\n        ],\n        \"semantic_type\": \"\",\n        \"description\": \"\"\n      }\n    },\n    {\n      \"column\": \"cantidad\",\n      \"properties\": {\n        \"dtype\": \"number\",\n        \"std\": 3,\n        \"min\": 1,\n        \"max\": 12,\n        \"num_unique_values\": 12,\n        \"samples\": [\n          10,\n          12,\n          5\n        ],\n        \"semantic_type\": \"\",\n        \"description\": \"\"\n      }\n    },\n    {\n      \"column\": \"fecha_venta\",\n      \"properties\": {\n        \"dtype\": \"date\",\n        \"min\": \"2024-01-02 00:00:00\",\n        \"max\": \"2024-12-30 00:00:00\",\n        \"num_unique_values\": 364,\n        \"samples\": [\n          \"2024-07-13 00:00:00\",\n          \"2024-02-04 00:00:00\",\n          \"2024-01-17 00:00:00\"\n        ],\n        \"semantic_type\": \"\",\n        \"description\": \"\"\n      }\n    },\n    {\n      \"column\": \"categoria\",\n      \"properties\": {\n        \"dtype\": \"category\",\n        \"num_unique_values\": 3,\n        \"samples\": [\n          \"Decoraci\\u00f3n\",\n          \"Electrodom\\u00e9sticos\",\n          \"Electr\\u00f3nica\"\n        ],\n        \"semantic_type\": \"\",\n        \"description\": \"\"\n      }\n    },\n    {\n      \"column\": \"valor_venta\",\n      \"properties\": {\n        \"dtype\": \"number\",\n        \"std\": 334.28181669305616,\n        \"min\": 26.3,\n        \"max\": 1488.1200000000001,\n        \"num_unique_values\": 2915,\n        \"samples\": [\n          194.14,\n          200.06,\n          775.84\n        ],\n        \"semantic_type\": \"\",\n        \"description\": \"\"\n      }\n    }\n  ]\n}"
            }
          },
          "metadata": {},
          "execution_count": 34
        }
      ]
    },
    {
      "cell_type": "code",
      "source": [
        "# Agregación:\n",
        "# Agrupar valor_venta por producto\n",
        "# Sumamos las ventas dentro de cada grupo\n"
      ],
      "metadata": {
        "id": "19aqzhamccGf"
      },
      "execution_count": null,
      "outputs": []
    },
    {
      "cell_type": "code",
      "source": [
        "# Usemos describe para analizar algunos valores del dataframe resultante\n"
      ],
      "metadata": {
        "id": "xFr3GaReewb1"
      },
      "execution_count": null,
      "outputs": []
    },
    {
      "cell_type": "code",
      "source": [
        "# Calcular el percentil 75 (umbral de alto rendimiento)\n"
      ],
      "metadata": {
        "id": "eU4ZNyM7diww"
      },
      "execution_count": null,
      "outputs": []
    },
    {
      "cell_type": "code",
      "source": [
        "# Identificar productos que superan el umbral\n",
        "# productos_top = tabla_ventas.query(\"valor_venta >= @umbral\")\n"
      ],
      "metadata": {
        "id": "TjRRnE88eUZe"
      },
      "execution_count": null,
      "outputs": []
    },
    {
      "cell_type": "markdown",
      "source": [
        "## Agregación\n",
        "Actividad 3 - Resumir las ventas por categoría de producto y analizar los ingresos generados."
      ],
      "metadata": {
        "id": "-mb9io4x-SAD"
      }
    },
    {
      "cell_type": "code",
      "source": [
        "# Agrupamos por categoria y agregamos la suma\n"
      ],
      "metadata": {
        "id": "MbADnST1mLBi"
      },
      "execution_count": null,
      "outputs": []
    },
    {
      "cell_type": "code",
      "source": [
        "# Renombrar nombre de la columna\n"
      ],
      "metadata": {
        "id": "yY1TMEqqnw0x"
      },
      "execution_count": null,
      "outputs": []
    },
    {
      "cell_type": "code",
      "source": [
        "# Ordenar y mostrar los resultados\n"
      ],
      "metadata": {
        "id": "iKLVXN9mn74g"
      },
      "execution_count": null,
      "outputs": []
    },
    {
      "cell_type": "markdown",
      "source": [
        "## Integración de datos\n",
        "Actividad 4 - Combinar los sets de datos de ventas y marketing para obtener una visión más amplia de las tendencias."
      ],
      "metadata": {
        "id": "YQB-_u0B-YsC"
      }
    },
    {
      "cell_type": "code",
      "source": [
        "# Unir los datasets ventas y marketing por columna 'producto'\n"
      ],
      "metadata": {
        "id": "XcPBF9V9xitw"
      },
      "execution_count": null,
      "outputs": []
    },
    {
      "cell_type": "code",
      "source": [
        "# Verificar coincidencias (muestra)\n"
      ],
      "metadata": {
        "id": "V4_nJrEMXnOV"
      },
      "execution_count": null,
      "outputs": []
    },
    {
      "cell_type": "markdown",
      "source": [
        "### Analizamos el impacto de la campaña"
      ],
      "metadata": {
        "id": "YC40BdGVhCyj"
      }
    },
    {
      "cell_type": "code",
      "source": [
        "# Nos quedamos solo con los registros de ventas durante la campaña de marketing\n",
        "# Seleccionamos solo los campos que nos interesan: \"producto\", \"valor_venta\", \"costo\"\n"
      ],
      "metadata": {
        "id": "GLyB_DgPfGrZ"
      },
      "execution_count": null,
      "outputs": []
    },
    {
      "cell_type": "code",
      "source": [
        "# Agrupamos por producto y hacemos una agregación por \"valor de venta\" y \"costo\"\n"
      ],
      "metadata": {
        "id": "arV23U7ndcfR"
      },
      "execution_count": null,
      "outputs": []
    },
    {
      "cell_type": "code",
      "source": [
        "# Generamos una nueva columna con la diferencia entre lo vendido y lo invertido en la campaña\n"
      ],
      "metadata": {
        "id": "Mi20QG2MhspI"
      },
      "execution_count": null,
      "outputs": []
    },
    {
      "cell_type": "code",
      "source": [],
      "metadata": {
        "id": "S1oavWXVh4Y6"
      },
      "execution_count": null,
      "outputs": []
    }
  ]
}